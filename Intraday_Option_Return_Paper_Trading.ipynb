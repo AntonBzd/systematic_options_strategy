{
  "cells": [
    {
      "cell_type": "markdown",
      "source": [
        "# **PAPER TRADING**"
      ],
      "metadata": {
        "id": "KphSflqkM-Xt"
      }
    },
    {
      "cell_type": "markdown",
      "metadata": {
        "id": "CcxNZoOT2vT8"
      },
      "source": [
        "## **LIBRAIRIES**"
      ]
    },
    {
      "cell_type": "code",
      "execution_count": null,
      "metadata": {
        "colab": {
          "base_uri": "https://localhost:8080/"
        },
        "collapsed": true,
        "id": "Nr4EnqkR3Uyg",
        "outputId": "2fb2faf1-7994-498c-f084-661522ae0d13"
      },
      "outputs": [
        {
          "output_type": "stream",
          "name": "stdout",
          "text": [
            "Collecting ib_insync\n",
            "  Downloading ib_insync-0.9.86-py3-none-any.whl.metadata (5.4 kB)\n",
            "Collecting eventkit (from ib_insync)\n",
            "  Downloading eventkit-1.0.3-py3-none-any.whl.metadata (5.4 kB)\n",
            "Requirement already satisfied: nest-asyncio in /usr/local/lib/python3.11/dist-packages (from ib_insync) (1.6.0)\n",
            "Requirement already satisfied: numpy in /usr/local/lib/python3.11/dist-packages (from eventkit->ib_insync) (1.26.4)\n",
            "Downloading ib_insync-0.9.86-py3-none-any.whl (72 kB)\n",
            "\u001b[2K   \u001b[90m━━━━━━━━━━━━━━━━━━━━━━━━━━━━━━━━━━━━━━━━\u001b[0m \u001b[32m73.0/73.0 kB\u001b[0m \u001b[31m2.7 MB/s\u001b[0m eta \u001b[36m0:00:00\u001b[0m\n",
            "\u001b[?25hDownloading eventkit-1.0.3-py3-none-any.whl (31 kB)\n",
            "Installing collected packages: eventkit, ib_insync\n",
            "Successfully installed eventkit-1.0.3 ib_insync-0.9.86\n",
            "Requirement already satisfied: nest_asyncio in /usr/local/lib/python3.11/dist-packages (1.6.0)\n",
            "Collecting schedule\n",
            "  Downloading schedule-1.2.2-py3-none-any.whl.metadata (3.8 kB)\n",
            "Downloading schedule-1.2.2-py3-none-any.whl (12 kB)\n",
            "Installing collected packages: schedule\n",
            "Successfully installed schedule-1.2.2\n",
            "Requirement already satisfied: pytz in /usr/local/lib/python3.11/dist-packages (2025.1)\n"
          ]
        }
      ],
      "source": [
        "!pip install ib_insync\n",
        "!pip install nest_asyncio\n",
        "!pip install schedule\n",
        "!pip install pytz"
      ]
    },
    {
      "cell_type": "code",
      "execution_count": null,
      "metadata": {
        "id": "eRmfosnF2yNY"
      },
      "outputs": [],
      "source": [
        "import requests\n",
        "import pandas as pd\n",
        "from datetime import datetime, timedelta\n",
        "import time\n",
        "import schedule\n",
        "from ib_insync import *\n",
        "import yfinance as yf\n",
        "import nest_asyncio\n",
        "import pytz"
      ]
    },
    {
      "cell_type": "markdown",
      "metadata": {
        "id": "q26QowPb0lJq"
      },
      "source": [
        "## **API CONNEXION**"
      ]
    },
    {
      "cell_type": "code",
      "execution_count": null,
      "metadata": {
        "colab": {
          "base_uri": "https://localhost:8080/"
        },
        "id": "VKbuh7C10iQ8",
        "outputId": "5efa4500-8bbf-41da-8d76-610da776401b"
      },
      "outputs": [
        {
          "output_type": "stream",
          "name": "stdout",
          "text": [
            "Connected to IB Gateway!\n"
          ]
        }
      ],
      "source": [
        "# Interactive Broker API\n",
        "# Connect to IB Gateway via ngrok's forwarding address\n",
        "# ngrok config add-authtoken 2rw2xcnDr9K436GIMIPrJDYXrZk_4DYJZX5ic7odKvK27xU3s\n",
        "# ngrok tcp 4002\n",
        "# Replace '4.tcp.eu.ngrok.io' and '16234' with your ngrok forwarding details\n",
        "\n",
        "# Apply patch for Colab's event loop issue\n",
        "nest_asyncio.apply()\n",
        "\n",
        "# Create an IB instance\n",
        "ib = IB()\n",
        "\n",
        "try:\n",
        "    ib.connect('5.tcp.eu.ngrok.io', 12708, clientId=1)\n",
        "    print(\"Connected to IB Gateway!\")\n",
        "except Exception as e:\n",
        "    print(f\"Failed to connect: {e}\")"
      ]
    },
    {
      "cell_type": "markdown",
      "source": [
        "## **STRADDLE'S RETURNS (9:35-10:00)**"
      ],
      "metadata": {
        "id": "kmUse9yD8KW6"
      }
    },
    {
      "cell_type": "markdown",
      "source": [
        "### **FUNCTIONS**"
      ],
      "metadata": {
        "id": "237pP8-R0arw"
      }
    },
    {
      "cell_type": "markdown",
      "metadata": {
        "id": "VRmbrM3ZQ7R4"
      },
      "source": [
        "#### **STOCK PRICES**"
      ]
    },
    {
      "cell_type": "code",
      "execution_count": null,
      "metadata": {
        "id": "jLJEVc5eXMvN"
      },
      "outputs": [],
      "source": [
        "def get_sp500_tickers():\n",
        "    \"\"\"\n",
        "    Fetch the list of S&P 500 tickers from Wikipedia.\n",
        "\n",
        "    Returns:\n",
        "        pd.DataFrame: DataFrame containing tickers and company names.\n",
        "    \"\"\"\n",
        "    url = \"https://en.wikipedia.org/wiki/List_of_S%26P_500_companies\"\n",
        "    sp500_table = pd.read_html(url)[0]\n",
        "    return sp500_table[[\"Symbol\", \"Security\"]]\n",
        "\n",
        "\n",
        "def fetch_intraday_stock_price_ib(ib, ticker, date):\n",
        "    \"\"\"\n",
        "    Fetch the stock price for 5 minutes after the US market opens using the IB API.\n",
        "\n",
        "    Args:\n",
        "        ib (IB instance): The IBKR connection object.\n",
        "        ticker (str): Stock ticker symbol (e.g., \"AAPL\").\n",
        "        date (str): Date in 'YYYY-MM-DD' format.\n",
        "\n",
        "    Returns:\n",
        "        float: Stock price at 9:35 AM US Eastern Time or the last valid price before the target time.\n",
        "    \"\"\"\n",
        "    # Parse the input date\n",
        "    if isinstance(date, str):\n",
        "        date = datetime.strptime(date, \"%Y-%m-%d\")\n",
        "\n",
        "    # Define time zones\n",
        "    us_eastern_tz = pytz.timezone(\"US/Eastern\")\n",
        "    utc_tz = pytz.UTC\n",
        "\n",
        "    # Adjust for Daylight Saving Time (DST)\n",
        "    market_open_time = datetime(date.year, date.month, date.day, 9, 35, 0, tzinfo=us_eastern_tz).astimezone(utc_tz)\n",
        "\n",
        "    # Create the IB contract\n",
        "    stock = Stock(ticker, \"SMART\", \"USD\")\n",
        "\n",
        "    # Fetch historical data from IB\n",
        "    try:\n",
        "        # Ensure the contract is valid\n",
        "        ib.qualifyContracts(stock)\n",
        "\n",
        "        # Request historical data\n",
        "        bars = ib.reqHistoricalData(\n",
        "            stock,\n",
        "            endDateTime=market_open_time,\n",
        "            durationStr=\"1 D\",\n",
        "            barSizeSetting=\"1 min\",\n",
        "            whatToShow=\"TRADES\",\n",
        "            useRTH=True\n",
        "        )\n",
        "\n",
        "        # Convert bars to a DataFrame\n",
        "        if bars:\n",
        "            df = util.df(bars)\n",
        "            df['timestamp'] = pd.to_datetime(df['date'])\n",
        "            df.set_index('timestamp', inplace=True)\n",
        "\n",
        "            # Filter for the target time (9:35 AM US Eastern Time)\n",
        "            target_row = df[df.index == market_open_time]\n",
        "            if not target_row.empty:\n",
        "                return target_row.iloc[0]['close']\n",
        "            else:\n",
        "                # Return the last available price before the target time\n",
        "                last_price_row = df[df.index < market_open_time]\n",
        "                if not last_price_row.empty:\n",
        "                    return last_price_row.iloc[-1]['close']\n",
        "                else:\n",
        "                    return 0  # No valid data\n",
        "        else:\n",
        "            print(f\"No data found for {ticker} on {date.strftime('%Y-%m-%d')}.\")\n",
        "            return 0\n",
        "    except Exception as e:\n",
        "        print(f\"Error fetching intraday stock price for {ticker}: {e}\")\n",
        "        return 0\n"
      ]
    },
    {
      "cell_type": "markdown",
      "metadata": {
        "id": "UlLcjQnEPfHp"
      },
      "source": [
        "#### **OPTION CHAINS**"
      ]
    },
    {
      "cell_type": "code",
      "source": [
        "def fetch_option_chain(ib, symbol, stock_price, current_date):\n",
        "    \"\"\"\n",
        "    Fetch the option chain for a given ticker symbol using IB API.\n",
        "\n",
        "    Args:\n",
        "        ib (IB instance): The IBKR connection object.\n",
        "        symbol (str): The stock ticker symbol (e.g., \"AAPL\").\n",
        "        stock_price (float): The current stock price.\n",
        "        current_date (str): The current date in 'YYYY-MM-DD' format.\n",
        "\n",
        "    Returns:\n",
        "        dict: Filtered option chain with valid expirations and closest strike {\"expirations\":[exp], \"closest_strike\":strike}.\n",
        "    \"\"\"\n",
        "\n",
        "    # Debugging: Print symbol to ensure it's correct\n",
        "    print(f\"Fetching option chain for: {symbol} at {current_date}, stock price: {stock_price}\")\n",
        "\n",
        "    # Qualify the stock contract\n",
        "    try:\n",
        "        contracts = ib.qualifyContracts(Stock(symbol, 'SMART', 'USD'))\n",
        "        if not contracts:\n",
        "            print(f\"Error: No valid contract found for {symbol}\")\n",
        "            return None  # Return None to prevent IndexError\n",
        "        stock = contracts[0]  # Retrieve the first qualified contract\n",
        "    except Exception as e:\n",
        "        print(f\"Error qualifying contract for {symbol}: {e}\")\n",
        "        return None\n",
        "\n",
        "    # Request the option chain\n",
        "    try:\n",
        "        option_chain = ib.reqSecDefOptParams(symbol, '', 'STK', stock.conId)\n",
        "        if not option_chain:\n",
        "            print(f\"Error: No option chain data available for {symbol}\")\n",
        "            return None\n",
        "\n",
        "        # Extract relevant data\n",
        "        expirations = sorted(option_chain[0].expirations)\n",
        "        strikes = sorted(option_chain[0].strikes)\n",
        "\n",
        "        # Ensure current_date is a datetime object\n",
        "        current_date = datetime.strptime(current_date, '%Y-%m-%d')\n",
        "\n",
        "        # Filter expirations between 30 and 180 days\n",
        "        filtered_expirations = [\n",
        "            exp for exp in expirations\n",
        "            if 30 <= (datetime.strptime(exp, '%Y%m%d') - current_date).days <= 180\n",
        "        ]\n",
        "\n",
        "        # Avoid fractional strikes to find contracts with IB\n",
        "        valid_strikes = [s for s in strikes if s % 1 == 0]\n",
        "\n",
        "        # Find the closest ATM strike\n",
        "        closest_strike = min(valid_strikes, key=lambda x: abs(x - stock_price)) if valid_strikes else None\n",
        "\n",
        "        return {'expirations': filtered_expirations, 'closest_strike': closest_strike}\n",
        "\n",
        "    except Exception as e:\n",
        "        print(f\"Error fetching option chain for {symbol}: {e}\")\n",
        "        return None\n"
      ],
      "metadata": {
        "id": "XmL0gZLIyFBx"
      },
      "execution_count": null,
      "outputs": []
    },
    {
      "cell_type": "markdown",
      "source": [
        "#### **OPTION PRICES**"
      ],
      "metadata": {
        "id": "mxClRWoizKOx"
      }
    },
    {
      "cell_type": "code",
      "source": [
        "def fetch_intraday_option_prices(ib, ticker, expiration, strike):\n",
        "    \"\"\"\n",
        "    Fetch intraday option prices from IBKR at 9:35 AM and 10:00 AM US Eastern Time.\n",
        "\n",
        "    Args:\n",
        "        ib (IB instance): The IBKR connection object.\n",
        "        ticker (str): Underlying stock ticker (e.g., 'MMM').\n",
        "        expiration (str): Expiration date in 'YYYYMMDD' format (e.g., '20250228').\n",
        "        strike (float): Strike price (e.g., 150.0).\n",
        "\n",
        "    Returns:\n",
        "        dict: { \"5_min\": [call price, put price], \"30_min\": [call price, put price] }\n",
        "    \"\"\"\n",
        "\n",
        "    # **Format Strike Price Properly**\n",
        "    formatted_strike = \"{:.8f}\".format(strike).rstrip(\"0\").rstrip(\".\")\n",
        "\n",
        "    # **Create IB Contracts for Call and Put**\n",
        "    call_contract = Option(ticker, expiration, formatted_strike, 'C', 'SMART')\n",
        "    put_contract = Option(ticker, expiration, formatted_strike, 'P', 'SMART')\n",
        "\n",
        "    # **Request Historical Data**\n",
        "    call_bars = ib.reqHistoricalData(call_contract, '', '1 D', '1 min', 'MIDPOINT', useRTH=True)\n",
        "    put_bars = ib.reqHistoricalData(put_contract, '', '1 D', '1 min', 'MIDPOINT', useRTH=True)\n",
        "\n",
        "    # **Convert Data to DataFrame**\n",
        "    call_df = pd.DataFrame(call_bars) if call_bars else pd.DataFrame()\n",
        "    put_df = pd.DataFrame(put_bars) if put_bars else pd.DataFrame()\n",
        "\n",
        "    # **Check if Data Exists**\n",
        "    if call_df.empty or put_df.empty:\n",
        "        print(f\"Error: No data retrieved for {ticker}, expiration {expiration}, strike {formatted_strike}\")\n",
        "        return None\n",
        "\n",
        "    # **Find Closest Available Prices**\n",
        "    call_price_5min = call_df.iloc[(call_df['date'] - call_df['date'].iloc[0].replace(hour=9, minute=35)).abs().argsort()[:1]]['close'].values[0] if not call_df.empty else None\n",
        "    call_price_30min = call_df.iloc[(call_df['date'] - call_df['date'].iloc[0].replace(hour=10, minute=0)).abs().argsort()[:1]]['close'].values[0] if not call_df.empty else None\n",
        "    put_price_5min = put_df.iloc[(put_df['date'] - put_df['date'].iloc[0].replace(hour=9, minute=35)).abs().argsort()[:1]]['close'].values[0] if not put_df.empty else None\n",
        "    put_price_30min = put_df.iloc[(put_df['date'] - put_df['date'].iloc[0].replace(hour=10, minute=0)).abs().argsort()[:1]]['close'].values[0] if not put_df.empty else None\n",
        "\n",
        "    return {\n",
        "        \"5_min\": [call_price_5min, put_price_5min],\n",
        "        \"30_min\": [call_price_30min, put_price_30min]\n",
        "    }\n"
      ],
      "metadata": {
        "id": "5-loImMaOAoH"
      },
      "execution_count": null,
      "outputs": []
    },
    {
      "cell_type": "markdown",
      "source": [
        "#### **STRADDLE RETURNS**"
      ],
      "metadata": {
        "id": "ZKaHGCUwzNkE"
      }
    },
    {
      "cell_type": "code",
      "source": [
        "def calculate_straddle_returns(option_prices):\n",
        "    \"\"\"\n",
        "    Calculate straddle return for each ticker.\n",
        "\n",
        "    Args:\n",
        "        option_prices (dict): Dictionary in the format\n",
        "            {ticker_name: {5_min: [call_price, put_price], 30_min: [call_price, put_price]}}.\n",
        "\n",
        "    Returns:\n",
        "        dict: Dictionary in the format {ticker_name: straddle_return}.\n",
        "    \"\"\"\n",
        "    straddle_returns = {}\n",
        "\n",
        "    for ticker, prices in option_prices.items():\n",
        "      if prices is not None:\n",
        "        # Extract 5-minute and 30-minute prices\n",
        "        open_prices = prices.get('5_min', [None, None])\n",
        "        close_prices = prices.get('30_min', [None, None])\n",
        "\n",
        "        # Ensure no missing data\n",
        "        if None in open_prices or None in close_prices:\n",
        "            straddle_returns[ticker] = None\n",
        "            continue\n",
        "\n",
        "        # Calculate the straddle prices\n",
        "        straddle_open = sum(open_prices)\n",
        "        straddle_close = sum(close_prices)\n",
        "\n",
        "        # Ensure straddle_open is not zero to avoid division by zero\n",
        "        if straddle_open == 0:\n",
        "            straddle_returns[ticker] = straddle_close\n",
        "        else:\n",
        "            straddle_returns[ticker] = (straddle_close - straddle_open) / straddle_open\n",
        "      else:\n",
        "        straddle_returns[ticker] = None\n",
        "\n",
        "    return straddle_returns"
      ],
      "metadata": {
        "id": "1oXeNfdOqAkb"
      },
      "execution_count": null,
      "outputs": []
    },
    {
      "cell_type": "markdown",
      "source": [
        "#### **RANK RETURNS**"
      ],
      "metadata": {
        "id": "ZFpUga3dzS9X"
      }
    },
    {
      "cell_type": "code",
      "source": [
        "def rank_straddle_return(straddle_returns):\n",
        "  \"\"\"Rank tickers by straddle returns.\n",
        "\n",
        "    Args:\n",
        "        straddles_returns (dict): Dictionary in the format {ticker_name : straddle_return}.\n",
        "\n",
        "    Returns:\n",
        "        List : List of tuples in the format [(ticker_name, straddle_return)].\n",
        "    \"\"\"\n",
        "  ranked_tickers = sorted(straddle_returns.items(), key=lambda x: x[1] if x[1] is not None else -float('inf'), reverse=True)\n",
        "\n",
        "  return ranked_tickers\n"
      ],
      "metadata": {
        "id": "lc27ndlTqGO6"
      },
      "execution_count": null,
      "outputs": []
    },
    {
      "cell_type": "markdown",
      "source": [
        "#### **OPTIONS CONTRACTS**"
      ],
      "metadata": {
        "id": "9uWH2pqBVBnV"
      }
    },
    {
      "cell_type": "code",
      "source": [
        "def get_contracts_for_short_long(ranked_returns, options_chain):\n",
        "\n",
        "  # Convert to DataFrame\n",
        "  df = pd.DataFrame(ranked_returns, columns=['Ticker', 'Return'])\n",
        "\n",
        "  # Drop rows where return is None\n",
        "  df = df.dropna(subset=['Return'])\n",
        "\n",
        "  # Compute quantiles\n",
        "  q1 = df['Return'].quantile(0.20)\n",
        "  q5 = df['Return'].quantile(0.80)\n",
        "\n",
        "  # Select tickers in Q1 and Q5\n",
        "  q1_tickers = df[df['Return'] <= q1]['Ticker'].tolist()\n",
        "  q5_tickers = df[df['Return'] >= q5]['Ticker'].tolist()\n",
        "\n",
        "  # Contract options to short\n",
        "  q1_contracts = {}\n",
        "  for ticker in q1_tickers:\n",
        "    expiration = options_chain[ticker][\"expirations\"][0]\n",
        "    strike = options_chain[ticker][\"closest_strike\"]\n",
        "    q1_contracts[ticker] = {\n",
        "        'expiration':expiration,\n",
        "        'strike': strike,\n",
        "    }\n",
        "\n",
        "  # Contract options to buy\n",
        "  q5_contracts = {}\n",
        "  for ticker in q5_tickers:\n",
        "    expiration = options_chain[ticker][\"expirations\"][0]\n",
        "    strike = options_chain[ticker][\"closest_strike\"]\n",
        "    q5_contracts[ticker] = {\n",
        "        'expiration':expiration,\n",
        "        'strike': strike,\n",
        "    }\n",
        "\n",
        "  return q1_contracts, q5_contracts"
      ],
      "metadata": {
        "id": "CO-JXpciugV9"
      },
      "execution_count": null,
      "outputs": []
    },
    {
      "cell_type": "markdown",
      "source": [
        "### **EXECUTION**"
      ],
      "metadata": {
        "id": "FQnw7E2LzXFq"
      }
    },
    {
      "cell_type": "code",
      "source": [
        "# Set date of last day\n",
        "date = (datetime.today()-timedelta(days=1)).strftime(\"%Y-%m-%d\")"
      ],
      "metadata": {
        "id": "9n0g_IDmchSH"
      },
      "execution_count": null,
      "outputs": []
    },
    {
      "cell_type": "code",
      "source": [
        "# Get tickers of sp500\n",
        "sp500_tickers = get_sp500_tickers()[\"Symbol\"].tolist()"
      ],
      "metadata": {
        "id": "pdrJq4SsxA8U"
      },
      "execution_count": null,
      "outputs": []
    },
    {
      "cell_type": "code",
      "source": [
        "# Get current stock prices\n",
        "sp500_stock_prices = {}\n",
        "for ticker in sp500_tickers:\n",
        "  sp500_stock_prices[ticker] = fetch_intraday_stock_price_ib(ib, ticker, date)"
      ],
      "metadata": {
        "colab": {
          "base_uri": "https://localhost:8080/"
        },
        "collapsed": true,
        "id": "kZgmr7-pxJts",
        "outputId": "a5d4467f-6da7-43b0-a7d2-99b9eaba53f5"
      },
      "execution_count": null,
      "outputs": [
        {
          "output_type": "stream",
          "name": "stderr",
          "text": [
            "ERROR:ib_insync.wrapper:Error 200, reqId 804: Aucune d\\u00e9finition de titre trouv\\u00e9e pour cette requ\\u00eate, contract: Stock(symbol='BRK.B', exchange='SMART', currency='USD')\n",
            "WARNING:ib_insync.ib:Unknown contract: Stock(symbol='BRK.B', exchange='SMART', currency='USD')\n",
            "ERROR:ib_insync.wrapper:Error 200, reqId 805: Aucune d\\u00e9finition de titre trouv\\u00e9e pour cette requ\\u00eate, contract: Stock(symbol='BRK.B', exchange='SMART', currency='USD')\n"
          ]
        },
        {
          "output_type": "stream",
          "name": "stdout",
          "text": [
            "No data found for BRK.B on 2025-02-09.\n"
          ]
        },
        {
          "output_type": "stream",
          "name": "stderr",
          "text": [
            "ERROR:ib_insync.wrapper:Error 200, reqId 834: Aucune d\\u00e9finition de titre trouv\\u00e9e pour cette requ\\u00eate, contract: Stock(symbol='BF.B', exchange='SMART', currency='USD')\n",
            "WARNING:ib_insync.ib:Unknown contract: Stock(symbol='BF.B', exchange='SMART', currency='USD')\n",
            "ERROR:ib_insync.wrapper:Error 200, reqId 835: Aucune d\\u00e9finition de titre trouv\\u00e9e pour cette requ\\u00eate, contract: Stock(symbol='BF.B', exchange='SMART', currency='USD')\n"
          ]
        },
        {
          "output_type": "stream",
          "name": "stdout",
          "text": [
            "No data found for BF.B on 2025-02-09.\n"
          ]
        }
      ]
    },
    {
      "cell_type": "code",
      "source": [
        "# Get strike and expirations based on conditions (ATM and 30days<exp<180days)\n",
        "sp500_option_chains = {}\n",
        "for ticker, price in sp500_stock_prices.items():\n",
        "  sp500_option_chains[ticker] = fetch_option_chain(ib, ticker, price, date)"
      ],
      "metadata": {
        "colab": {
          "base_uri": "https://localhost:8080/"
        },
        "id": "lWDz7r7_xNFA",
        "outputId": "5582abc5-f7c9-4eef-8694-67ab3213b048",
        "collapsed": true
      },
      "execution_count": null,
      "outputs": [
        {
          "output_type": "stream",
          "name": "stdout",
          "text": [
            "Fetching option chain for: MMM at 2025-02-09, stock price: 149.9\n",
            "Fetching option chain for: AOS at 2025-02-09, stock price: 65.18\n",
            "Fetching option chain for: ABT at 2025-02-09, stock price: 129.08\n",
            "Fetching option chain for: ABBV at 2025-02-09, stock price: 190.6\n",
            "Fetching option chain for: ACN at 2025-02-09, stock price: 386.03\n",
            "Fetching option chain for: ADBE at 2025-02-09, stock price: 433.05\n",
            "Fetching option chain for: AMD at 2025-02-09, stock price: 107.52\n",
            "Fetching option chain for: AES at 2025-02-09, stock price: 10.57\n",
            "Fetching option chain for: AFL at 2025-02-09, stock price: 103.57\n",
            "Fetching option chain for: A at 2025-02-09, stock price: 145.26\n",
            "Fetching option chain for: APD at 2025-02-09, stock price: 310.42\n",
            "Fetching option chain for: ABNB at 2025-02-09, stock price: 134.99\n",
            "Fetching option chain for: AKAM at 2025-02-09, stock price: 99.64\n",
            "Fetching option chain for: ALB at 2025-02-09, stock price: 77.36\n",
            "Fetching option chain for: ARE at 2025-02-09, stock price: 95.96\n",
            "Fetching option chain for: ALGN at 2025-02-09, stock price: 210.54\n",
            "Fetching option chain for: ALLE at 2025-02-09, stock price: 128.69\n",
            "Fetching option chain for: LNT at 2025-02-09, stock price: 59.49\n",
            "Fetching option chain for: ALL at 2025-02-09, stock price: 190.25\n",
            "Fetching option chain for: GOOGL at 2025-02-09, stock price: 185.35\n",
            "Fetching option chain for: GOOG at 2025-02-09, stock price: 187.19\n",
            "Fetching option chain for: MO at 2025-02-09, stock price: 52.65\n",
            "Fetching option chain for: AMZN at 2025-02-09, stock price: 229.14\n",
            "Fetching option chain for: AMCR at 2025-02-09, stock price: 10.03\n",
            "Fetching option chain for: AEE at 2025-02-09, stock price: 97.13\n",
            "Fetching option chain for: AEP at 2025-02-09, stock price: 100.35\n",
            "Fetching option chain for: AXP at 2025-02-09, stock price: 316.85\n",
            "Fetching option chain for: AIG at 2025-02-09, stock price: 74.68\n",
            "Fetching option chain for: AMT at 2025-02-09, stock price: 188.86\n",
            "Fetching option chain for: AWK at 2025-02-09, stock price: 122.53\n",
            "Fetching option chain for: AMP at 2025-02-09, stock price: 538.38\n",
            "Fetching option chain for: AME at 2025-02-09, stock price: 184.51\n",
            "Fetching option chain for: AMGN at 2025-02-09, stock price: 293.53\n",
            "Fetching option chain for: APH at 2025-02-09, stock price: 69.81\n",
            "Fetching option chain for: ADI at 2025-02-09, stock price: 205.06\n",
            "Fetching option chain for: ANSS at 2025-02-09, stock price: 344.88\n",
            "Fetching option chain for: AON at 2025-02-09, stock price: 386.35\n",
            "Fetching option chain for: APA at 2025-02-09, stock price: 21.66\n",
            "Fetching option chain for: APO at 2025-02-09, stock price: 163.39\n",
            "Fetching option chain for: AAPL at 2025-02-09, stock price: 227.71\n",
            "Fetching option chain for: AMAT at 2025-02-09, stock price: 180.01\n",
            "Fetching option chain for: APTV at 2025-02-09, stock price: 64.08\n",
            "Fetching option chain for: ACGL at 2025-02-09, stock price: 93.53\n",
            "Fetching option chain for: ADM at 2025-02-09, stock price: 45.73\n",
            "Fetching option chain for: ANET at 2025-02-09, stock price: 118.44\n",
            "Fetching option chain for: AJG at 2025-02-09, stock price: 322.33\n",
            "Fetching option chain for: AIZ at 2025-02-09, stock price: 215.24\n",
            "Fetching option chain for: T at 2025-02-09, stock price: 24.54\n",
            "Fetching option chain for: ATO at 2025-02-09, stock price: 142.45\n",
            "Fetching option chain for: ADSK at 2025-02-09, stock price: 301.14\n",
            "Fetching option chain for: ADP at 2025-02-09, stock price: 306.07\n",
            "Fetching option chain for: AZO at 2025-02-09, stock price: 3426.47\n",
            "Fetching option chain for: AVB at 2025-02-09, stock price: 220.16\n",
            "Fetching option chain for: AVY at 2025-02-09, stock price: 179.19\n",
            "Fetching option chain for: AXON at 2025-02-09, stock price: 679.32\n",
            "Fetching option chain for: BKR at 2025-02-09, stock price: 46.18\n",
            "Fetching option chain for: BALL at 2025-02-09, stock price: 50.48\n",
            "Fetching option chain for: BAC at 2025-02-09, stock price: 47.41\n",
            "Fetching option chain for: BAX at 2025-02-09, stock price: 30.63\n",
            "Fetching option chain for: BDX at 2025-02-09, stock price: 229.89\n",
            "Fetching option chain for: BRK.B at 2025-02-09, stock price: 0\n"
          ]
        },
        {
          "output_type": "stream",
          "name": "stderr",
          "text": [
            "ERROR:ib_insync.wrapper:Error 200, reqId 1810: Aucune d\\u00e9finition de titre trouv\\u00e9e pour cette requ\\u00eate, contract: Stock(symbol='BRK.B', exchange='SMART', currency='USD')\n",
            "WARNING:ib_insync.ib:Unknown contract: Stock(symbol='BRK.B', exchange='SMART', currency='USD')\n"
          ]
        },
        {
          "output_type": "stream",
          "name": "stdout",
          "text": [
            "Error: No valid contract found for BRK.B\n",
            "Fetching option chain for: BBY at 2025-02-09, stock price: 84.87\n",
            "Fetching option chain for: TECH at 2025-02-09, stock price: 72.82\n",
            "Fetching option chain for: BIIB at 2025-02-09, stock price: 141.4\n",
            "Fetching option chain for: BLK at 2025-02-09, stock price: 992.43\n",
            "Fetching option chain for: BX at 2025-02-09, stock price: 170.25\n",
            "Fetching option chain for: BK at 2025-02-09, stock price: 86.14\n",
            "Fetching option chain for: BA at 2025-02-09, stock price: 181.4\n",
            "Fetching option chain for: BKNG at 2025-02-09, stock price: 4887.52\n",
            "Fetching option chain for: BWA at 2025-02-09, stock price: 30.01\n",
            "Fetching option chain for: BSX at 2025-02-09, stock price: 105.28\n",
            "Fetching option chain for: BMY at 2025-02-09, stock price: 56.85\n",
            "Fetching option chain for: AVGO at 2025-02-09, stock price: 224.87\n",
            "Fetching option chain for: BR at 2025-02-09, stock price: 240.48\n",
            "Fetching option chain for: BRO at 2025-02-09, stock price: 108.58\n",
            "Fetching option chain for: BF.B at 2025-02-09, stock price: 0\n"
          ]
        },
        {
          "output_type": "stream",
          "name": "stderr",
          "text": [
            "ERROR:ib_insync.wrapper:Error 200, reqId 1839: Aucune d\\u00e9finition de titre trouv\\u00e9e pour cette requ\\u00eate, contract: Stock(symbol='BF.B', exchange='SMART', currency='USD')\n",
            "WARNING:ib_insync.ib:Unknown contract: Stock(symbol='BF.B', exchange='SMART', currency='USD')\n"
          ]
        },
        {
          "output_type": "stream",
          "name": "stdout",
          "text": [
            "Error: No valid contract found for BF.B\n",
            "Fetching option chain for: BLDR at 2025-02-09, stock price: 153.99\n",
            "Fetching option chain for: BG at 2025-02-09, stock price: 69.62\n",
            "Fetching option chain for: BXP at 2025-02-09, stock price: 72.76\n",
            "Fetching option chain for: CHRW at 2025-02-09, stock price: 96.6\n",
            "Fetching option chain for: CDNS at 2025-02-09, stock price: 299.71\n",
            "Fetching option chain for: CZR at 2025-02-09, stock price: 35.74\n",
            "Fetching option chain for: CPT at 2025-02-09, stock price: 119.17\n",
            "Fetching option chain for: CPB at 2025-02-09, stock price: 37.54\n",
            "Fetching option chain for: COF at 2025-02-09, stock price: 203.13\n",
            "Fetching option chain for: CAH at 2025-02-09, stock price: 127.43\n",
            "Fetching option chain for: KMX at 2025-02-09, stock price: 85.22\n",
            "Fetching option chain for: CCL at 2025-02-09, stock price: 26.72\n",
            "Fetching option chain for: CARR at 2025-02-09, stock price: 64.17\n",
            "Fetching option chain for: CAT at 2025-02-09, stock price: 363.75\n",
            "Fetching option chain for: CBOE at 2025-02-09, stock price: 210.86\n",
            "Fetching option chain for: CBRE at 2025-02-09, stock price: 142.8\n",
            "Fetching option chain for: CDW at 2025-02-09, stock price: 192.19\n",
            "Fetching option chain for: CE at 2025-02-09, stock price: 68.04\n",
            "Fetching option chain for: COR at 2025-02-09, stock price: 247.89\n",
            "Fetching option chain for: CNC at 2025-02-09, stock price: 58.94\n",
            "Fetching option chain for: CNP at 2025-02-09, stock price: 32.39\n",
            "Fetching option chain for: CF at 2025-02-09, stock price: 84.03\n",
            "Fetching option chain for: CRL at 2025-02-09, stock price: 163.67\n",
            "Fetching option chain for: SCHW at 2025-02-09, stock price: 83.17\n",
            "Fetching option chain for: CHTR at 2025-02-09, stock price: 347.82\n",
            "Fetching option chain for: CVX at 2025-02-09, stock price: 152.64\n",
            "Fetching option chain for: CMG at 2025-02-09, stock price: 57.29\n",
            "Fetching option chain for: CB at 2025-02-09, stock price: 270.25\n",
            "Fetching option chain for: CHD at 2025-02-09, stock price: 104.99\n",
            "Fetching option chain for: CI at 2025-02-09, stock price: 286.82\n",
            "Fetching option chain for: CINF at 2025-02-09, stock price: 136.95\n",
            "Fetching option chain for: CTAS at 2025-02-09, stock price: 202.12\n",
            "Fetching option chain for: CSCO at 2025-02-09, stock price: 62.28\n",
            "Fetching option chain for: C at 2025-02-09, stock price: 81.7\n",
            "Fetching option chain for: CFG at 2025-02-09, stock price: 47.92\n",
            "Fetching option chain for: CLX at 2025-02-09, stock price: 148.41\n",
            "Fetching option chain for: CME at 2025-02-09, stock price: 244.88\n",
            "Fetching option chain for: CMS at 2025-02-09, stock price: 68.73\n",
            "Fetching option chain for: KO at 2025-02-09, stock price: 63.85\n",
            "Fetching option chain for: CTSH at 2025-02-09, stock price: 86.2\n",
            "Fetching option chain for: CL at 2025-02-09, stock price: 86.77\n",
            "Fetching option chain for: CMCSA at 2025-02-09, stock price: 34.39\n",
            "Fetching option chain for: CAG at 2025-02-09, stock price: 24.82\n",
            "Fetching option chain for: COP at 2025-02-09, stock price: 98.36\n",
            "Fetching option chain for: ED at 2025-02-09, stock price: 96.07\n",
            "Fetching option chain for: STZ at 2025-02-09, stock price: 169.06\n",
            "Fetching option chain for: CEG at 2025-02-09, stock price: 309.7\n",
            "Fetching option chain for: COO at 2025-02-09, stock price: 93.54\n",
            "Fetching option chain for: CPRT at 2025-02-09, stock price: 58.23\n",
            "Fetching option chain for: GLW at 2025-02-09, stock price: 52.99\n",
            "Fetching option chain for: CPAY at 2025-02-09, stock price: 376.01\n",
            "Fetching option chain for: CTVA at 2025-02-09, stock price: 62.35\n",
            "Fetching option chain for: CSGP at 2025-02-09, stock price: 77.25\n",
            "Fetching option chain for: COST at 2025-02-09, stock price: 1043.46\n",
            "Fetching option chain for: CTRA at 2025-02-09, stock price: 27.38\n",
            "Fetching option chain for: CRWD at 2025-02-09, stock price: 421.59\n",
            "Fetching option chain for: CCI at 2025-02-09, stock price: 89.53\n",
            "Fetching option chain for: CSX at 2025-02-09, stock price: 32.59\n",
            "Fetching option chain for: CMI at 2025-02-09, stock price: 371.94\n",
            "Fetching option chain for: CVS at 2025-02-09, stock price: 54.01\n",
            "Fetching option chain for: DHR at 2025-02-09, stock price: 206.78\n",
            "Fetching option chain for: DRI at 2025-02-09, stock price: 197.26\n",
            "Fetching option chain for: DVA at 2025-02-09, stock price: 173.58\n",
            "Fetching option chain for: DAY at 2025-02-09, stock price: 65.0\n",
            "Fetching option chain for: DECK at 2025-02-09, stock price: 168.19\n",
            "Fetching option chain for: DE at 2025-02-09, stock price: 465.66\n",
            "Fetching option chain for: DELL at 2025-02-09, stock price: 106.41\n",
            "Fetching option chain for: DAL at 2025-02-09, stock price: 68.13\n",
            "Fetching option chain for: DVN at 2025-02-09, stock price: 33.14\n",
            "Fetching option chain for: DXCM at 2025-02-09, stock price: 88.07\n",
            "Fetching option chain for: FANG at 2025-02-09, stock price: 158.13\n",
            "Fetching option chain for: DLR at 2025-02-09, stock price: 168.1\n",
            "Fetching option chain for: DFS at 2025-02-09, stock price: 199.74\n",
            "Fetching option chain for: DG at 2025-02-09, stock price: 72.48\n",
            "Fetching option chain for: DLTR at 2025-02-09, stock price: 72.67\n",
            "Fetching option chain for: D at 2025-02-09, stock price: 54.63\n",
            "Fetching option chain for: DPZ at 2025-02-09, stock price: 466.96\n",
            "Fetching option chain for: DOV at 2025-02-09, stock price: 202.54\n",
            "Fetching option chain for: DOW at 2025-02-09, stock price: 38.59\n",
            "Fetching option chain for: DHI at 2025-02-09, stock price: 128.99\n",
            "Fetching option chain for: DTE at 2025-02-09, stock price: 122.66\n",
            "Fetching option chain for: DUK at 2025-02-09, stock price: 115.0\n",
            "Fetching option chain for: DD at 2025-02-09, stock price: 75.75\n",
            "Fetching option chain for: EMN at 2025-02-09, stock price: 99.22\n",
            "Fetching option chain for: ETN at 2025-02-09, stock price: 313.15\n",
            "Fetching option chain for: EBAY at 2025-02-09, stock price: 67.82\n",
            "Fetching option chain for: ECL at 2025-02-09, stock price: 247.5\n",
            "Fetching option chain for: EIX at 2025-02-09, stock price: 50.07\n",
            "Fetching option chain for: EW at 2025-02-09, stock price: 70.34\n",
            "Fetching option chain for: EA at 2025-02-09, stock price: 128.58\n",
            "Fetching option chain for: ELV at 2025-02-09, stock price: 391.55\n",
            "Fetching option chain for: EMR at 2025-02-09, stock price: 124.36\n",
            "Fetching option chain for: ENPH at 2025-02-09, stock price: 63.51\n",
            "Fetching option chain for: ETR at 2025-02-09, stock price: 82.4\n",
            "Fetching option chain for: EOG at 2025-02-09, stock price: 126.5\n",
            "Fetching option chain for: EPAM at 2025-02-09, stock price: 260.68\n",
            "Fetching option chain for: EQT at 2025-02-09, stock price: 51.11\n",
            "Fetching option chain for: EFX at 2025-02-09, stock price: 248.31\n",
            "Fetching option chain for: EQIX at 2025-02-09, stock price: 933.99\n",
            "Fetching option chain for: EQR at 2025-02-09, stock price: 71.35\n",
            "Fetching option chain for: ERIE at 2025-02-09, stock price: 412.4\n",
            "Fetching option chain for: ESS at 2025-02-09, stock price: 292.14\n",
            "Fetching option chain for: EL at 2025-02-09, stock price: 65.04\n",
            "Fetching option chain for: EG at 2025-02-09, stock price: 338.09\n",
            "Fetching option chain for: EVRG at 2025-02-09, stock price: 65.23\n",
            "Fetching option chain for: ES at 2025-02-09, stock price: 59.43\n",
            "Fetching option chain for: EXC at 2025-02-09, stock price: 41.32\n",
            "Fetching option chain for: EXPE at 2025-02-09, stock price: 202.48\n",
            "Fetching option chain for: EXPD at 2025-02-09, stock price: 110.37\n",
            "Fetching option chain for: EXR at 2025-02-09, stock price: 155.93\n",
            "Fetching option chain for: XOM at 2025-02-09, stock price: 108.91\n",
            "Fetching option chain for: FFIV at 2025-02-09, stock price: 306.56\n",
            "Fetching option chain for: FDS at 2025-02-09, stock price: 466.79\n",
            "Fetching option chain for: FICO at 2025-02-09, stock price: 1858.9\n",
            "Fetching option chain for: FAST at 2025-02-09, stock price: 73.85\n",
            "Fetching option chain for: FRT at 2025-02-09, stock price: 110.98\n",
            "Fetching option chain for: FDX at 2025-02-09, stock price: 256.02\n",
            "Fetching option chain for: FIS at 2025-02-09, stock price: 83.38\n",
            "Fetching option chain for: FITB at 2025-02-09, stock price: 44.04\n",
            "Fetching option chain for: FSLR at 2025-02-09, stock price: 168.43\n",
            "Fetching option chain for: FE at 2025-02-09, stock price: 40.17\n",
            "Fetching option chain for: FI at 2025-02-09, stock price: 230.15\n",
            "Fetching option chain for: FMC at 2025-02-09, stock price: 34.51\n",
            "Fetching option chain for: F at 2025-02-09, stock price: 9.24\n",
            "Fetching option chain for: FTNT at 2025-02-09, stock price: 107.66\n",
            "Fetching option chain for: FTV at 2025-02-09, stock price: 79.14\n",
            "Fetching option chain for: FOXA at 2025-02-09, stock price: 52.77\n",
            "Fetching option chain for: FOX at 2025-02-09, stock price: 50.07\n",
            "Fetching option chain for: BEN at 2025-02-09, stock price: 20.41\n",
            "Fetching option chain for: FCX at 2025-02-09, stock price: 38.25\n",
            "Fetching option chain for: GRMN at 2025-02-09, stock price: 217.71\n",
            "Fetching option chain for: IT at 2025-02-09, stock price: 529.05\n",
            "Fetching option chain for: GE at 2025-02-09, stock price: 205.29\n",
            "Fetching option chain for: GEHC at 2025-02-09, stock price: 87.63\n",
            "Fetching option chain for: GEV at 2025-02-09, stock price: 377.82\n",
            "Fetching option chain for: GEN at 2025-02-09, stock price: 27.63\n",
            "Fetching option chain for: GNRC at 2025-02-09, stock price: 142.11\n",
            "Fetching option chain for: GD at 2025-02-09, stock price: 254.75\n",
            "Fetching option chain for: GIS at 2025-02-09, stock price: 58.82\n",
            "Fetching option chain for: GM at 2025-02-09, stock price: 47.36\n",
            "Fetching option chain for: GPC at 2025-02-09, stock price: 117.77\n",
            "Fetching option chain for: GILD at 2025-02-09, stock price: 96.03\n",
            "Fetching option chain for: GPN at 2025-02-09, stock price: 109.58\n",
            "Fetching option chain for: GL at 2025-02-09, stock price: 123.43\n",
            "Fetching option chain for: GDDY at 2025-02-09, stock price: 211.38\n",
            "Fetching option chain for: GS at 2025-02-09, stock price: 655.69\n",
            "Fetching option chain for: HAL at 2025-02-09, stock price: 25.19\n",
            "Fetching option chain for: HIG at 2025-02-09, stock price: 113.51\n",
            "Fetching option chain for: HAS at 2025-02-09, stock price: 59.08\n",
            "Fetching option chain for: HCA at 2025-02-09, stock price: 321.95\n",
            "Fetching option chain for: DOC at 2025-02-09, stock price: 19.85\n",
            "Fetching option chain for: HSIC at 2025-02-09, stock price: 78.99\n",
            "Fetching option chain for: HSY at 2025-02-09, stock price: 154.93\n",
            "Fetching option chain for: HES at 2025-02-09, stock price: 143.06\n",
            "Fetching option chain for: HPE at 2025-02-09, stock price: 21.26\n",
            "Fetching option chain for: HLT at 2025-02-09, stock price: 269.55\n",
            "Fetching option chain for: HOLX at 2025-02-09, stock price: 64.57\n",
            "Fetching option chain for: HD at 2025-02-09, stock price: 407.44\n",
            "Fetching option chain for: HON at 2025-02-09, stock price: 205.59\n",
            "Fetching option chain for: HRL at 2025-02-09, stock price: 29.22\n",
            "Fetching option chain for: HST at 2025-02-09, stock price: 16.77\n",
            "Fetching option chain for: HWM at 2025-02-09, stock price: 127.72\n",
            "Fetching option chain for: HPQ at 2025-02-09, stock price: 32.26\n",
            "Fetching option chain for: HUBB at 2025-02-09, stock price: 400.76\n",
            "Fetching option chain for: HUM at 2025-02-09, stock price: 274.33\n",
            "Fetching option chain for: HBAN at 2025-02-09, stock price: 16.9\n",
            "Fetching option chain for: HII at 2025-02-09, stock price: 168.02\n",
            "Fetching option chain for: IBM at 2025-02-09, stock price: 252.4\n",
            "Fetching option chain for: IEX at 2025-02-09, stock price: 195.94\n",
            "Fetching option chain for: IDXX at 2025-02-09, stock price: 459.9\n",
            "Fetching option chain for: ITW at 2025-02-09, stock price: 255.6\n",
            "Fetching option chain for: INCY at 2025-02-09, stock price: 74.17\n",
            "Fetching option chain for: IR at 2025-02-09, stock price: 90.95\n",
            "Fetching option chain for: PODD at 2025-02-09, stock price: 283.18\n",
            "Fetching option chain for: INTC at 2025-02-09, stock price: 19.11\n",
            "Fetching option chain for: ICE at 2025-02-09, stock price: 166.86\n",
            "Fetching option chain for: IFF at 2025-02-09, stock price: 84.3\n",
            "Fetching option chain for: IP at 2025-02-09, stock price: 56.07\n",
            "Fetching option chain for: IPG at 2025-02-09, stock price: 27.49\n",
            "Fetching option chain for: INTU at 2025-02-09, stock price: 578.58\n",
            "Fetching option chain for: ISRG at 2025-02-09, stock price: 583.14\n",
            "Fetching option chain for: IVZ at 2025-02-09, stock price: 18.91\n",
            "Fetching option chain for: INVH at 2025-02-09, stock price: 31.61\n",
            "Fetching option chain for: IQV at 2025-02-09, stock price: 208.26\n",
            "Fetching option chain for: IRM at 2025-02-09, stock price: 106.06\n",
            "Fetching option chain for: JBHT at 2025-02-09, stock price: 166.13\n",
            "Fetching option chain for: JBL at 2025-02-09, stock price: 165.44\n",
            "Fetching option chain for: JKHY at 2025-02-09, stock price: 173.76\n",
            "Fetching option chain for: J at 2025-02-09, stock price: 133.91\n",
            "Fetching option chain for: JNJ at 2025-02-09, stock price: 153.14\n",
            "Fetching option chain for: JCI at 2025-02-09, stock price: 87.64\n",
            "Fetching option chain for: JPM at 2025-02-09, stock price: 275.87\n",
            "Fetching option chain for: JNPR at 2025-02-09, stock price: 35.71\n",
            "Fetching option chain for: K at 2025-02-09, stock price: 82.3\n",
            "Fetching option chain for: KVUE at 2025-02-09, stock price: 20.21\n",
            "Fetching option chain for: KDP at 2025-02-09, stock price: 31.02\n",
            "Fetching option chain for: KEY at 2025-02-09, stock price: 17.84\n",
            "Fetching option chain for: KEYS at 2025-02-09, stock price: 174.35\n",
            "Fetching option chain for: KMB at 2025-02-09, stock price: 130.29\n",
            "Fetching option chain for: KIM at 2025-02-09, stock price: 22.39\n",
            "Fetching option chain for: KMI at 2025-02-09, stock price: 27.05\n",
            "Fetching option chain for: KKR at 2025-02-09, stock price: 148.58\n",
            "Fetching option chain for: KLAC at 2025-02-09, stock price: 747.71\n",
            "Fetching option chain for: KHC at 2025-02-09, stock price: 29.31\n",
            "Fetching option chain for: KR at 2025-02-09, stock price: 65.0\n",
            "Fetching option chain for: LHX at 2025-02-09, stock price: 206.12\n",
            "Fetching option chain for: LH at 2025-02-09, stock price: 246.42\n",
            "Fetching option chain for: LRCX at 2025-02-09, stock price: 82.34\n",
            "Fetching option chain for: LW at 2025-02-09, stock price: 58.92\n",
            "Fetching option chain for: LVS at 2025-02-09, stock price: 42.97\n",
            "Fetching option chain for: LDOS at 2025-02-09, stock price: 142.25\n",
            "Fetching option chain for: LEN at 2025-02-09, stock price: 121.94\n",
            "Fetching option chain for: LII at 2025-02-09, stock price: 575.14\n",
            "Fetching option chain for: LLY at 2025-02-09, stock price: 878.55\n",
            "Fetching option chain for: LIN at 2025-02-09, stock price: 455.06\n",
            "Fetching option chain for: LYV at 2025-02-09, stock price: 148.31\n",
            "Fetching option chain for: LKQ at 2025-02-09, stock price: 37.25\n",
            "Fetching option chain for: LMT at 2025-02-09, stock price: 444.55\n",
            "Fetching option chain for: L at 2025-02-09, stock price: 86.7\n",
            "Fetching option chain for: LOW at 2025-02-09, stock price: 251.95\n",
            "Fetching option chain for: LULU at 2025-02-09, stock price: 398.07\n",
            "Fetching option chain for: LYB at 2025-02-09, stock price: 76.61\n",
            "Fetching option chain for: MTB at 2025-02-09, stock price: 200.47\n",
            "Fetching option chain for: MPC at 2025-02-09, stock price: 150.17\n",
            "Fetching option chain for: MKTX at 2025-02-09, stock price: 201.33\n",
            "Fetching option chain for: MAR at 2025-02-09, stock price: 303.9\n",
            "Fetching option chain for: MMC at 2025-02-09, stock price: 227.46\n",
            "Fetching option chain for: MLM at 2025-02-09, stock price: 538.61\n",
            "Fetching option chain for: MAS at 2025-02-09, stock price: 77.26\n",
            "Fetching option chain for: MA at 2025-02-09, stock price: 562.39\n",
            "Fetching option chain for: MTCH at 2025-02-09, stock price: 33.79\n",
            "Fetching option chain for: MKC at 2025-02-09, stock price: 78.38\n",
            "Fetching option chain for: MCD at 2025-02-09, stock price: 294.29\n",
            "Fetching option chain for: MCK at 2025-02-09, stock price: 596.26\n",
            "Fetching option chain for: MDT at 2025-02-09, stock price: 90.01\n",
            "Fetching option chain for: MRK at 2025-02-09, stock price: 87.32\n",
            "Fetching option chain for: META at 2025-02-09, stock price: 714.26\n",
            "Fetching option chain for: MET at 2025-02-09, stock price: 83.95\n",
            "Fetching option chain for: MTD at 2025-02-09, stock price: 1390.55\n",
            "Fetching option chain for: MGM at 2025-02-09, stock price: 34.56\n",
            "Fetching option chain for: MCHP at 2025-02-09, stock price: 51.89\n",
            "Fetching option chain for: MU at 2025-02-09, stock price: 92.29\n",
            "Fetching option chain for: MSFT at 2025-02-09, stock price: 409.76\n",
            "Fetching option chain for: MAA at 2025-02-09, stock price: 158.09\n",
            "Fetching option chain for: MRNA at 2025-02-09, stock price: 32.6\n",
            "Fetching option chain for: MHK at 2025-02-09, stock price: 120.35\n",
            "Fetching option chain for: MOH at 2025-02-09, stock price: 283.97\n",
            "Fetching option chain for: TAP at 2025-02-09, stock price: 54.26\n",
            "Fetching option chain for: MDLZ at 2025-02-09, stock price: 58.47\n",
            "Fetching option chain for: MPWR at 2025-02-09, stock price: 720.25\n",
            "Fetching option chain for: MNST at 2025-02-09, stock price: 46.57\n",
            "Fetching option chain for: MCO at 2025-02-09, stock price: 503.45\n",
            "Fetching option chain for: MS at 2025-02-09, stock price: 139.99\n",
            "Fetching option chain for: MOS at 2025-02-09, stock price: 26.85\n",
            "Fetching option chain for: MSI at 2025-02-09, stock price: 479.3\n",
            "Fetching option chain for: MSCI at 2025-02-09, stock price: 579.36\n",
            "Fetching option chain for: NDAQ at 2025-02-09, stock price: 82.82\n",
            "Fetching option chain for: NTAP at 2025-02-09, stock price: 122.92\n",
            "Fetching option chain for: NFLX at 2025-02-09, stock price: 1013.84\n",
            "Fetching option chain for: NEM at 2025-02-09, stock price: 44.83\n",
            "Fetching option chain for: NWSA at 2025-02-09, stock price: 29.04\n",
            "Fetching option chain for: NWS at 2025-02-09, stock price: 33.9\n",
            "Fetching option chain for: NEE at 2025-02-09, stock price: 68.28\n",
            "Fetching option chain for: NKE at 2025-02-09, stock price: 68.69\n",
            "Fetching option chain for: NI at 2025-02-09, stock price: 37.92\n",
            "Fetching option chain for: NDSN at 2025-02-09, stock price: 214.38\n",
            "Fetching option chain for: NSC at 2025-02-09, stock price: 249.1\n",
            "Fetching option chain for: NTRS at 2025-02-09, stock price: 113.51\n",
            "Fetching option chain for: NOC at 2025-02-09, stock price: 468.57\n",
            "Fetching option chain for: NCLH at 2025-02-09, stock price: 27.33\n",
            "Fetching option chain for: NRG at 2025-02-09, stock price: 103.03\n",
            "Fetching option chain for: NUE at 2025-02-09, stock price: 130.22\n",
            "Fetching option chain for: NVDA at 2025-02-09, stock price: 129.87\n",
            "Fetching option chain for: NVR at 2025-02-09, stock price: 7559.72\n",
            "Error: No option chain data available for NVR\n",
            "Fetching option chain for: NXPI at 2025-02-09, stock price: 212.92\n",
            "Fetching option chain for: ORLY at 2025-02-09, stock price: 1316.36\n",
            "Fetching option chain for: OXY at 2025-02-09, stock price: 46.79\n",
            "Fetching option chain for: ODFL at 2025-02-09, stock price: 197.23\n",
            "Fetching option chain for: OMC at 2025-02-09, stock price: 83.79\n",
            "Fetching option chain for: ON at 2025-02-09, stock price: 51.24\n",
            "Fetching option chain for: OKE at 2025-02-09, stock price: 95.74\n",
            "Fetching option chain for: ORCL at 2025-02-09, stock price: 174.53\n",
            "Fetching option chain for: OTIS at 2025-02-09, stock price: 94.82\n",
            "Fetching option chain for: PCAR at 2025-02-09, stock price: 106.02\n",
            "Fetching option chain for: PKG at 2025-02-09, stock price: 210.21\n",
            "Fetching option chain for: PLTR at 2025-02-09, stock price: 110.81\n",
            "Fetching option chain for: PANW at 2025-02-09, stock price: 193.98\n",
            "Fetching option chain for: PARA at 2025-02-09, stock price: 10.61\n",
            "Fetching option chain for: PH at 2025-02-09, stock price: 683.63\n",
            "Fetching option chain for: PAYX at 2025-02-09, stock price: 146.72\n",
            "Fetching option chain for: PAYC at 2025-02-09, stock price: 199.86\n",
            "Fetching option chain for: PYPL at 2025-02-09, stock price: 77.3\n",
            "Fetching option chain for: PNR at 2025-02-09, stock price: 97.89\n",
            "Fetching option chain for: PEP at 2025-02-09, stock price: 144.59\n",
            "Fetching option chain for: PFE at 2025-02-09, stock price: 25.75\n",
            "Fetching option chain for: PCG at 2025-02-09, stock price: 15.33\n",
            "Fetching option chain for: PM at 2025-02-09, stock price: 144.43\n",
            "Fetching option chain for: PSX at 2025-02-09, stock price: 120.3\n",
            "Fetching option chain for: PNW at 2025-02-09, stock price: 86.96\n",
            "Fetching option chain for: PNC at 2025-02-09, stock price: 200.7\n",
            "Fetching option chain for: POOL at 2025-02-09, stock price: 331.55\n",
            "Fetching option chain for: PPG at 2025-02-09, stock price: 114.84\n",
            "Fetching option chain for: PPL at 2025-02-09, stock price: 34.13\n",
            "Fetching option chain for: PFG at 2025-02-09, stock price: 82.31\n",
            "Fetching option chain for: PG at 2025-02-09, stock price: 168.0\n",
            "Fetching option chain for: PGR at 2025-02-09, stock price: 250.7\n",
            "Fetching option chain for: PLD at 2025-02-09, stock price: 117.36\n",
            "Fetching option chain for: PRU at 2025-02-09, stock price: 112.81\n",
            "Fetching option chain for: PEG at 2025-02-09, stock price: 83.64\n",
            "Fetching option chain for: PTC at 2025-02-09, stock price: 169.06\n",
            "Fetching option chain for: PSA at 2025-02-09, stock price: 302.54\n",
            "Fetching option chain for: PHM at 2025-02-09, stock price: 105.85\n",
            "Fetching option chain for: PWR at 2025-02-09, stock price: 312.22\n",
            "Fetching option chain for: QCOM at 2025-02-09, stock price: 167.93\n",
            "Fetching option chain for: DGX at 2025-02-09, stock price: 162.64\n",
            "Fetching option chain for: RL at 2025-02-09, stock price: 268.73\n",
            "Fetching option chain for: RJF at 2025-02-09, stock price: 167.4\n",
            "Fetching option chain for: RTX at 2025-02-09, stock price: 127.98\n",
            "Fetching option chain for: O at 2025-02-09, stock price: 54.11\n",
            "Fetching option chain for: REG at 2025-02-09, stock price: 74.03\n",
            "Fetching option chain for: REGN at 2025-02-09, stock price: 709.77\n",
            "Fetching option chain for: RF at 2025-02-09, stock price: 24.45\n",
            "Fetching option chain for: RSG at 2025-02-09, stock price: 221.04\n",
            "Fetching option chain for: RMD at 2025-02-09, stock price: 236.81\n",
            "Fetching option chain for: RVTY at 2025-02-09, stock price: 118.85\n",
            "Fetching option chain for: ROK at 2025-02-09, stock price: 268.16\n",
            "Fetching option chain for: ROL at 2025-02-09, stock price: 50.08\n",
            "Fetching option chain for: ROP at 2025-02-09, stock price: 572.89\n",
            "Fetching option chain for: ROST at 2025-02-09, stock price: 142.6\n",
            "Fetching option chain for: RCL at 2025-02-09, stock price: 264.32\n",
            "Fetching option chain for: SPGI at 2025-02-09, stock price: 519.04\n",
            "Fetching option chain for: CRM at 2025-02-09, stock price: 325.84\n",
            "Fetching option chain for: SBAC at 2025-02-09, stock price: 205.86\n",
            "Fetching option chain for: SLB at 2025-02-09, stock price: 40.16\n",
            "Fetching option chain for: STX at 2025-02-09, stock price: 96.16\n",
            "Fetching option chain for: SRE at 2025-02-09, stock price: 81.98\n",
            "Fetching option chain for: NOW at 2025-02-09, stock price: 1007.57\n",
            "Fetching option chain for: SHW at 2025-02-09, stock price: 360.78\n",
            "Fetching option chain for: SPG at 2025-02-09, stock price: 180.0\n",
            "Fetching option chain for: SWKS at 2025-02-09, stock price: 65.69\n",
            "Fetching option chain for: SJM at 2025-02-09, stock price: 103.31\n",
            "Fetching option chain for: SW at 2025-02-09, stock price: 53.99\n",
            "Fetching option chain for: SNA at 2025-02-09, stock price: 338.51\n",
            "Fetching option chain for: SOLV at 2025-02-09, stock price: 73.41\n",
            "Fetching option chain for: SO at 2025-02-09, stock price: 84.58\n",
            "Fetching option chain for: LUV at 2025-02-09, stock price: 31.0\n",
            "Fetching option chain for: SWK at 2025-02-09, stock price: 86.47\n",
            "Fetching option chain for: SBUX at 2025-02-09, stock price: 112.21\n",
            "Fetching option chain for: STT at 2025-02-09, stock price: 99.42\n",
            "Fetching option chain for: STLD at 2025-02-09, stock price: 126.76\n",
            "Fetching option chain for: STE at 2025-02-09, stock price: 223.2\n",
            "Fetching option chain for: SYK at 2025-02-09, stock price: 391.49\n",
            "Fetching option chain for: SMCI at 2025-02-09, stock price: 36.29\n",
            "Fetching option chain for: SYF at 2025-02-09, stock price: 67.48\n",
            "Fetching option chain for: SNPS at 2025-02-09, stock price: 525.81\n",
            "Fetching option chain for: SYY at 2025-02-09, stock price: 71.13\n",
            "Fetching option chain for: TMUS at 2025-02-09, stock price: 246.24\n",
            "Fetching option chain for: TROW at 2025-02-09, stock price: 110.13\n",
            "Fetching option chain for: TTWO at 2025-02-09, stock price: 208.73\n",
            "Fetching option chain for: TPR at 2025-02-09, stock price: 80.37\n",
            "Fetching option chain for: TRGP at 2025-02-09, stock price: 201.39\n",
            "Fetching option chain for: TGT at 2025-02-09, stock price: 131.33\n",
            "Fetching option chain for: TEL at 2025-02-09, stock price: 146.9\n",
            "Fetching option chain for: TDY at 2025-02-09, stock price: 511.3\n",
            "Fetching option chain for: TFX at 2025-02-09, stock price: 171.1\n",
            "Fetching option chain for: TER at 2025-02-09, stock price: 113.23\n",
            "Fetching option chain for: TSLA at 2025-02-09, stock price: 361.49\n",
            "Fetching option chain for: TXN at 2025-02-09, stock price: 179.98\n",
            "Fetching option chain for: TPL at 2025-02-09, stock price: 1347.31\n",
            "Fetching option chain for: TXT at 2025-02-09, stock price: 74.53\n",
            "Fetching option chain for: TMO at 2025-02-09, stock price: 571.51\n",
            "Fetching option chain for: TJX at 2025-02-09, stock price: 124.69\n",
            "Fetching option chain for: TSCO at 2025-02-09, stock price: 52.95\n",
            "Fetching option chain for: TT at 2025-02-09, stock price: 355.89\n",
            "Fetching option chain for: TDG at 2025-02-09, stock price: 1328.84\n",
            "Fetching option chain for: TRV at 2025-02-09, stock price: 245.22\n",
            "Fetching option chain for: TRMB at 2025-02-09, stock price: 74.35\n",
            "Fetching option chain for: TFC at 2025-02-09, stock price: 47.68\n",
            "Fetching option chain for: TYL at 2025-02-09, stock price: 606.59\n",
            "Fetching option chain for: TSN at 2025-02-09, stock price: 57.94\n",
            "Fetching option chain for: USB at 2025-02-09, stock price: 47.23\n",
            "Fetching option chain for: UBER at 2025-02-09, stock price: 74.61\n",
            "Fetching option chain for: UDR at 2025-02-09, stock price: 42.9\n",
            "Fetching option chain for: ULTA at 2025-02-09, stock price: 374.97\n",
            "Fetching option chain for: UNP at 2025-02-09, stock price: 242.07\n",
            "Fetching option chain for: UAL at 2025-02-09, stock price: 108.96\n",
            "Fetching option chain for: UPS at 2025-02-09, stock price: 113.11\n",
            "Fetching option chain for: URI at 2025-02-09, stock price: 740.95\n",
            "Fetching option chain for: UNH at 2025-02-09, stock price: 526.97\n",
            "Fetching option chain for: UHS at 2025-02-09, stock price: 187.91\n",
            "Fetching option chain for: VLO at 2025-02-09, stock price: 133.06\n",
            "Fetching option chain for: VTR at 2025-02-09, stock price: 60.6\n",
            "Fetching option chain for: VLTO at 2025-02-09, stock price: 98.81\n",
            "Fetching option chain for: VRSN at 2025-02-09, stock price: 221.38\n",
            "Fetching option chain for: VRSK at 2025-02-09, stock price: 293.73\n",
            "Fetching option chain for: VZ at 2025-02-09, stock price: 39.88\n",
            "Fetching option chain for: VRTX at 2025-02-09, stock price: 469.09\n",
            "Fetching option chain for: VTRS at 2025-02-09, stock price: 10.72\n",
            "Fetching option chain for: VICI at 2025-02-09, stock price: 30.11\n",
            "Fetching option chain for: V at 2025-02-09, stock price: 348.22\n",
            "Fetching option chain for: VST at 2025-02-09, stock price: 166.87\n",
            "Fetching option chain for: VMC at 2025-02-09, stock price: 272.94\n",
            "Fetching option chain for: WRB at 2025-02-09, stock price: 61.49\n",
            "Fetching option chain for: GWW at 2025-02-09, stock price: 1036.74\n",
            "Fetching option chain for: WAB at 2025-02-09, stock price: 206.89\n",
            "Fetching option chain for: WBA at 2025-02-09, stock price: 10.13\n",
            "Fetching option chain for: WMT at 2025-02-09, stock price: 101.17\n",
            "Fetching option chain for: DIS at 2025-02-09, stock price: 110.88\n",
            "Fetching option chain for: WBD at 2025-02-09, stock price: 10.15\n",
            "Fetching option chain for: WM at 2025-02-09, stock price: 224.98\n",
            "Fetching option chain for: WAT at 2025-02-09, stock price: 409.39\n",
            "Fetching option chain for: WEC at 2025-02-09, stock price: 101.79\n",
            "Fetching option chain for: WFC at 2025-02-09, stock price: 80.68\n",
            "Fetching option chain for: WELL at 2025-02-09, stock price: 142.65\n",
            "Fetching option chain for: WST at 2025-02-09, stock price: 321.63\n",
            "Fetching option chain for: WDC at 2025-02-09, stock price: 64.45\n",
            "Fetching option chain for: WY at 2025-02-09, stock price: 30.04\n",
            "Fetching option chain for: WMB at 2025-02-09, stock price: 55.94\n",
            "Fetching option chain for: WTW at 2025-02-09, stock price: 325.72\n",
            "Fetching option chain for: WDAY at 2025-02-09, stock price: 271.88\n",
            "Fetching option chain for: WYNN at 2025-02-09, stock price: 80.57\n",
            "Fetching option chain for: XEL at 2025-02-09, stock price: 66.61\n",
            "Fetching option chain for: XYL at 2025-02-09, stock price: 131.15\n",
            "Fetching option chain for: YUM at 2025-02-09, stock price: 143.55\n",
            "Fetching option chain for: ZBRA at 2025-02-09, stock price: 363.26\n",
            "Fetching option chain for: ZBH at 2025-02-09, stock price: 101.02\n",
            "Fetching option chain for: ZTS at 2025-02-09, stock price: 171.38\n"
          ]
        }
      ]
    },
    {
      "cell_type": "code",
      "source": [
        "# Fetch options price\n",
        "sp500_option_prices = {}\n",
        "for ticker, chain in sp500_option_chains.items():\n",
        "    # Check if the option chain is valid\n",
        "    if not chain or \"expirations\" not in chain or not chain[\"expirations\"]:\n",
        "        print(f\"Skipping {ticker}: No valid option chain data\")\n",
        "        continue\n",
        "\n",
        "    expiration = chain[\"expirations\"][0]\n",
        "    closest_strike = chain[\"closest_strike\"]\n",
        "\n",
        "    if closest_strike is None:\n",
        "        print(f\"Skipping {ticker}: No valid strike price found\")\n",
        "        continue\n",
        "\n",
        "    sp500_option_prices[ticker] = fetch_intraday_option_prices(\n",
        "        ib, ticker, expiration, closest_strike\n",
        "    )"
      ],
      "metadata": {
        "colab": {
          "base_uri": "https://localhost:8080/",
          "height": 1000
        },
        "id": "WK6hdERwoWDS",
        "outputId": "274d3e58-a8d1-4310-a837-959bbdcc3a17",
        "collapsed": true
      },
      "execution_count": null,
      "outputs": [
        {
          "output_type": "stream",
          "name": "stderr",
          "text": [
            "ERROR:ib_insync.wrapper:Error 200, reqId 2796: Aucune d\\u00e9finition de titre trouv\\u00e9e pour cette requ\\u00eate, contract: Option(symbol='AZO', lastTradeDateOrContractMonth='20250321', strike='3430', right='C', exchange='SMART')\n",
            "ERROR:ib_insync.wrapper:Error 200, reqId 2797: Aucune d\\u00e9finition de titre trouv\\u00e9e pour cette requ\\u00eate, contract: Option(symbol='AZO', lastTradeDateOrContractMonth='20250321', strike='3430', right='P', exchange='SMART')\n"
          ]
        },
        {
          "output_type": "stream",
          "name": "stdout",
          "text": [
            "Error: No data retrieved for AZO, expiration 20250321, strike 3430\n",
            "Skipping BRK.B: No valid option chain data\n"
          ]
        },
        {
          "output_type": "stream",
          "name": "stderr",
          "text": [
            "ERROR:ib_insync.wrapper:Error 200, reqId 2818: Aucune d\\u00e9finition de titre trouv\\u00e9e pour cette requ\\u00eate, contract: Option(symbol='BIIB', lastTradeDateOrContractMonth='20250314', strike='141', right='C', exchange='SMART')\n",
            "ERROR:ib_insync.wrapper:Error 200, reqId 2819: Aucune d\\u00e9finition de titre trouv\\u00e9e pour cette requ\\u00eate, contract: Option(symbol='BIIB', lastTradeDateOrContractMonth='20250314', strike='141', right='P', exchange='SMART')\n"
          ]
        },
        {
          "output_type": "stream",
          "name": "stdout",
          "text": [
            "Error: No data retrieved for BIIB, expiration 20250314, strike 141\n",
            "Skipping BF.B: No valid option chain data\n"
          ]
        },
        {
          "output_type": "stream",
          "name": "stderr",
          "text": [
            "ERROR:ib_insync.wrapper:Error 200, reqId 3020: Aucune d\\u00e9finition de titre trouv\\u00e9e pour cette requ\\u00eate, contract: Option(symbol='EA', lastTradeDateOrContractMonth='20250321', strike='129', right='C', exchange='SMART')\n",
            "ERROR:ib_insync.wrapper:Error 200, reqId 3021: Aucune d\\u00e9finition de titre trouv\\u00e9e pour cette requ\\u00eate, contract: Option(symbol='EA', lastTradeDateOrContractMonth='20250321', strike='129', right='P', exchange='SMART')\n"
          ]
        },
        {
          "output_type": "stream",
          "name": "stdout",
          "text": [
            "Error: No data retrieved for EA, expiration 20250321, strike 129\n"
          ]
        },
        {
          "output_type": "stream",
          "name": "stderr",
          "text": [
            "ERROR:ib_insync.wrapper:Error 200, reqId 3114: Aucune d\\u00e9finition de titre trouv\\u00e9e pour cette requ\\u00eate, contract: Option(symbol='GNRC', lastTradeDateOrContractMonth='20250321', strike='142', right='C', exchange='SMART')\n",
            "ERROR:ib_insync.wrapper:Error 200, reqId 3115: Aucune d\\u00e9finition de titre trouv\\u00e9e pour cette requ\\u00eate, contract: Option(symbol='GNRC', lastTradeDateOrContractMonth='20250321', strike='142', right='P', exchange='SMART')\n"
          ]
        },
        {
          "output_type": "stream",
          "name": "stdout",
          "text": [
            "Error: No data retrieved for GNRC, expiration 20250321, strike 142\n"
          ]
        },
        {
          "output_type": "stream",
          "name": "stderr",
          "text": [
            "ERROR:ib_insync.wrapper:Error 200, reqId 3202: Aucune d\\u00e9finition de titre trouv\\u00e9e pour cette requ\\u00eate, contract: Option(symbol='ISRG', lastTradeDateOrContractMonth='20250314', strike='585', right='C', exchange='SMART')\n",
            "ERROR:ib_insync.wrapper:Error 200, reqId 3203: Aucune d\\u00e9finition de titre trouv\\u00e9e pour cette requ\\u00eate, contract: Option(symbol='ISRG', lastTradeDateOrContractMonth='20250314', strike='585', right='P', exchange='SMART')\n"
          ]
        },
        {
          "output_type": "stream",
          "name": "stdout",
          "text": [
            "Error: No data retrieved for ISRG, expiration 20250314, strike 585\n"
          ]
        },
        {
          "output_type": "stream",
          "name": "stderr",
          "text": [
            "ERROR:ib_insync.wrapper:Error 162, reqId 3204: Message d'erreur Service Donn\\u00e9es de March\\u00e9 Historiques:La demande HMDS n'a fourni aucune donn\\u00e9e\\u00a0: IVZ   250321C00019000@SMART Midpoint, contract: Option(symbol='IVZ', lastTradeDateOrContractMonth='20250321', strike='19', right='C', exchange='SMART')\n",
            "ERROR:ib_insync.wrapper:Error 162, reqId 3205: Message d'erreur Service Donn\\u00e9es de March\\u00e9 Historiques:La demande HMDS n'a fourni aucune donn\\u00e9e\\u00a0: IVZ   250321P00019000@SMART Midpoint, contract: Option(symbol='IVZ', lastTradeDateOrContractMonth='20250321', strike='19', right='P', exchange='SMART')\n"
          ]
        },
        {
          "output_type": "stream",
          "name": "stdout",
          "text": [
            "Error: No data retrieved for IVZ, expiration 20250321, strike 19\n"
          ]
        },
        {
          "output_type": "stream",
          "name": "stderr",
          "text": [
            "ERROR:ib_insync.wrapper:Error 162, reqId 3206: Message d'erreur Service Donn\\u00e9es de March\\u00e9 Historiques:La demande HMDS n'a fourni aucune donn\\u00e9e\\u00a0: INVH  250321C00030000@SMART Midpoint, contract: Option(symbol='INVH', lastTradeDateOrContractMonth='20250321', strike='30', right='C', exchange='SMART')\n",
            "ERROR:ib_insync.wrapper:Error 162, reqId 3207: Message d'erreur Service Donn\\u00e9es de March\\u00e9 Historiques:La demande HMDS n'a fourni aucune donn\\u00e9e\\u00a0: INVH  250321P00030000@SMART Midpoint, contract: Option(symbol='INVH', lastTradeDateOrContractMonth='20250321', strike='30', right='P', exchange='SMART')\n"
          ]
        },
        {
          "output_type": "stream",
          "name": "stdout",
          "text": [
            "Error: No data retrieved for INVH, expiration 20250321, strike 30\n"
          ]
        },
        {
          "output_type": "stream",
          "name": "stderr",
          "text": [
            "ERROR:ib_insync.wrapper:Error 162, reqId 3208: Message d'erreur Service Donn\\u00e9es de March\\u00e9 Historiques:La demande HMDS n'a fourni aucune donn\\u00e9e\\u00a0: IQV   250321C00210000@SMART Midpoint, contract: Option(symbol='IQV', lastTradeDateOrContractMonth='20250321', strike='210', right='C', exchange='SMART')\n",
            "ERROR:ib_insync.wrapper:Error 162, reqId 3209: Message d'erreur Service Donn\\u00e9es de March\\u00e9 Historiques:La demande HMDS n'a fourni aucune donn\\u00e9e\\u00a0: IQV   250321P00210000@SMART Midpoint, contract: Option(symbol='IQV', lastTradeDateOrContractMonth='20250321', strike='210', right='P', exchange='SMART')\n"
          ]
        },
        {
          "output_type": "stream",
          "name": "stdout",
          "text": [
            "Error: No data retrieved for IQV, expiration 20250321, strike 210\n"
          ]
        },
        {
          "output_type": "stream",
          "name": "stderr",
          "text": [
            "ERROR:ib_insync.wrapper:Error 162, reqId 3210: Message d'erreur Service Donn\\u00e9es de March\\u00e9 Historiques:La demande HMDS n'a fourni aucune donn\\u00e9e\\u00a0: IRM   250314C00106000@SMART Midpoint, contract: Option(symbol='IRM', lastTradeDateOrContractMonth='20250314', strike='106', right='C', exchange='SMART')\n",
            "ERROR:ib_insync.wrapper:Error 162, reqId 3211: Message d'erreur Service Donn\\u00e9es de March\\u00e9 Historiques:La demande HMDS n'a fourni aucune donn\\u00e9e\\u00a0: IRM   250314P00106000@SMART Midpoint, contract: Option(symbol='IRM', lastTradeDateOrContractMonth='20250314', strike='106', right='P', exchange='SMART')\n"
          ]
        },
        {
          "output_type": "stream",
          "name": "stdout",
          "text": [
            "Error: No data retrieved for IRM, expiration 20250314, strike 106\n"
          ]
        },
        {
          "output_type": "stream",
          "name": "stderr",
          "text": [
            "ERROR:ib_insync.wrapper:Error 162, reqId 3212: Message d'erreur Service Donn\\u00e9es de March\\u00e9 Historiques:La demande HMDS n'a fourni aucune donn\\u00e9e\\u00a0: JBHT  250321C00165000@SMART Midpoint, contract: Option(symbol='JBHT', lastTradeDateOrContractMonth='20250321', strike='165', right='C', exchange='SMART')\n",
            "ERROR:ib_insync.wrapper:Error 162, reqId 3213: Message d'erreur Service Donn\\u00e9es de March\\u00e9 Historiques:La demande HMDS n'a fourni aucune donn\\u00e9e\\u00a0: JBHT  250321P00165000@SMART Midpoint, contract: Option(symbol='JBHT', lastTradeDateOrContractMonth='20250321', strike='165', right='P', exchange='SMART')\n"
          ]
        },
        {
          "output_type": "stream",
          "name": "stdout",
          "text": [
            "Error: No data retrieved for JBHT, expiration 20250321, strike 165\n"
          ]
        },
        {
          "output_type": "stream",
          "name": "stderr",
          "text": [
            "ERROR:ib_insync.wrapper:Error 162, reqId 3214: Message d'erreur Service Donn\\u00e9es de March\\u00e9 Historiques:La demande HMDS n'a fourni aucune donn\\u00e9e\\u00a0: JBL   250321C00165000@SMART Midpoint, contract: Option(symbol='JBL', lastTradeDateOrContractMonth='20250321', strike='165', right='C', exchange='SMART')\n",
            "ERROR:ib_insync.wrapper:Error 162, reqId 3215: Message d'erreur Service Donn\\u00e9es de March\\u00e9 Historiques:La demande HMDS n'a fourni aucune donn\\u00e9e\\u00a0: JBL   250321P00165000@SMART Midpoint, contract: Option(symbol='JBL', lastTradeDateOrContractMonth='20250321', strike='165', right='P', exchange='SMART')\n"
          ]
        },
        {
          "output_type": "stream",
          "name": "stdout",
          "text": [
            "Error: No data retrieved for JBL, expiration 20250321, strike 165\n"
          ]
        },
        {
          "output_type": "stream",
          "name": "stderr",
          "text": [
            "ERROR:ib_insync.wrapper:Error 162, reqId 3216: Message d'erreur Service Donn\\u00e9es de March\\u00e9 Historiques:La demande HMDS n'a fourni aucune donn\\u00e9e\\u00a0: JKHY  250321C00175000@SMART Midpoint, contract: Option(symbol='JKHY', lastTradeDateOrContractMonth='20250321', strike='175', right='C', exchange='SMART')\n",
            "ERROR:ib_insync.wrapper:Error 162, reqId 3217: Message d'erreur Service Donn\\u00e9es de March\\u00e9 Historiques:La demande HMDS n'a fourni aucune donn\\u00e9e\\u00a0: JKHY  250321P00175000@SMART Midpoint, contract: Option(symbol='JKHY', lastTradeDateOrContractMonth='20250321', strike='175', right='P', exchange='SMART')\n"
          ]
        },
        {
          "output_type": "stream",
          "name": "stdout",
          "text": [
            "Error: No data retrieved for JKHY, expiration 20250321, strike 175\n"
          ]
        },
        {
          "output_type": "stream",
          "name": "stderr",
          "text": [
            "ERROR:ib_insync.wrapper:Error 162, reqId 3218: Message d'erreur Service Donn\\u00e9es de March\\u00e9 Historiques:La demande HMDS n'a fourni aucune donn\\u00e9e\\u00a0: J     250321C00135000@SMART Midpoint, contract: Option(symbol='J', lastTradeDateOrContractMonth='20250321', strike='135', right='C', exchange='SMART')\n",
            "ERROR:ib_insync.wrapper:Error 162, reqId 3219: Message d'erreur Service Donn\\u00e9es de March\\u00e9 Historiques:La demande HMDS n'a fourni aucune donn\\u00e9e\\u00a0: J     250321P00135000@SMART Midpoint, contract: Option(symbol='J', lastTradeDateOrContractMonth='20250321', strike='135', right='P', exchange='SMART')\n"
          ]
        },
        {
          "output_type": "stream",
          "name": "stdout",
          "text": [
            "Error: No data retrieved for J, expiration 20250321, strike 135\n"
          ]
        },
        {
          "output_type": "stream",
          "name": "stderr",
          "text": [
            "ERROR:ib_insync.wrapper:Error 162, reqId 3220: Message d'erreur Service Donn\\u00e9es de March\\u00e9 Historiques:La demande HMDS n'a fourni aucune donn\\u00e9e\\u00a0: JNJ   250314C00155000@SMART Midpoint, contract: Option(symbol='JNJ', lastTradeDateOrContractMonth='20250314', strike='155', right='C', exchange='SMART')\n",
            "ERROR:ib_insync.wrapper:Error 162, reqId 3221: Message d'erreur Service Donn\\u00e9es de March\\u00e9 Historiques:La demande HMDS n'a fourni aucune donn\\u00e9e\\u00a0: JNJ   250314P00155000@SMART Midpoint, contract: Option(symbol='JNJ', lastTradeDateOrContractMonth='20250314', strike='155', right='P', exchange='SMART')\n"
          ]
        },
        {
          "output_type": "stream",
          "name": "stdout",
          "text": [
            "Error: No data retrieved for JNJ, expiration 20250314, strike 155\n"
          ]
        },
        {
          "output_type": "stream",
          "name": "stderr",
          "text": [
            "ERROR:ib_insync.wrapper:Error 162, reqId 3222: Message d'erreur Service Donn\\u00e9es de March\\u00e9 Historiques:La demande HMDS n'a fourni aucune donn\\u00e9e\\u00a0: JCI   250321C00090000@SMART Midpoint, contract: Option(symbol='JCI', lastTradeDateOrContractMonth='20250321', strike='90', right='C', exchange='SMART')\n",
            "ERROR:ib_insync.wrapper:Error 162, reqId 3223: Message d'erreur Service Donn\\u00e9es de March\\u00e9 Historiques:La demande HMDS n'a fourni aucune donn\\u00e9e\\u00a0: JCI   250321P00090000@SMART Midpoint, contract: Option(symbol='JCI', lastTradeDateOrContractMonth='20250321', strike='90', right='P', exchange='SMART')\n"
          ]
        },
        {
          "output_type": "stream",
          "name": "stdout",
          "text": [
            "Error: No data retrieved for JCI, expiration 20250321, strike 90\n"
          ]
        },
        {
          "output_type": "stream",
          "name": "stderr",
          "text": [
            "ERROR:ib_insync.wrapper:Error 162, reqId 3224: Message d'erreur Service Donn\\u00e9es de March\\u00e9 Historiques:La demande HMDS n'a fourni aucune donn\\u00e9e\\u00a0: JPM   250314C00275000@SMART Midpoint, contract: Option(symbol='JPM', lastTradeDateOrContractMonth='20250314', strike='275', right='C', exchange='SMART')\n",
            "ERROR:ib_insync.wrapper:Error 162, reqId 3225: Message d'erreur Service Donn\\u00e9es de March\\u00e9 Historiques:La demande HMDS n'a fourni aucune donn\\u00e9e\\u00a0: JPM   250314P00275000@SMART Midpoint, contract: Option(symbol='JPM', lastTradeDateOrContractMonth='20250314', strike='275', right='P', exchange='SMART')\n"
          ]
        },
        {
          "output_type": "stream",
          "name": "stdout",
          "text": [
            "Error: No data retrieved for JPM, expiration 20250314, strike 275\n"
          ]
        },
        {
          "output_type": "stream",
          "name": "stderr",
          "text": [
            "ERROR:ib_insync.wrapper:Error 162, reqId 3226: Message d'erreur Service Donn\\u00e9es de March\\u00e9 Historiques:La demande HMDS n'a fourni aucune donn\\u00e9e\\u00a0: JNPR  250321C00036000@SMART Midpoint, contract: Option(symbol='JNPR', lastTradeDateOrContractMonth='20250321', strike='36', right='C', exchange='SMART')\n",
            "ERROR:ib_insync.wrapper:Error 162, reqId 3227: Message d'erreur Service Donn\\u00e9es de March\\u00e9 Historiques:La demande HMDS n'a fourni aucune donn\\u00e9e\\u00a0: JNPR  250321P00036000@SMART Midpoint, contract: Option(symbol='JNPR', lastTradeDateOrContractMonth='20250321', strike='36', right='P', exchange='SMART')\n"
          ]
        },
        {
          "output_type": "stream",
          "name": "stdout",
          "text": [
            "Error: No data retrieved for JNPR, expiration 20250321, strike 36\n"
          ]
        },
        {
          "output_type": "stream",
          "name": "stderr",
          "text": [
            "ERROR:ib_insync.wrapper:Error 162, reqId 3228: Message d'erreur Service Donn\\u00e9es de March\\u00e9 Historiques:La demande HMDS n'a fourni aucune donn\\u00e9e\\u00a0: K     250314C00082000@SMART Midpoint, contract: Option(symbol='K', lastTradeDateOrContractMonth='20250314', strike='82', right='C', exchange='SMART')\n",
            "ERROR:ib_insync.wrapper:Error 162, reqId 3229: Message d'erreur Service Donn\\u00e9es de March\\u00e9 Historiques:La demande HMDS n'a fourni aucune donn\\u00e9e\\u00a0: K     250314P00082000@SMART Midpoint, contract: Option(symbol='K', lastTradeDateOrContractMonth='20250314', strike='82', right='P', exchange='SMART')\n"
          ]
        },
        {
          "output_type": "stream",
          "name": "stdout",
          "text": [
            "Error: No data retrieved for K, expiration 20250314, strike 82\n"
          ]
        },
        {
          "output_type": "stream",
          "name": "stderr",
          "text": [
            "ERROR:ib_insync.wrapper:Error 162, reqId 3230: Message d'erreur Service Donn\\u00e9es de March\\u00e9 Historiques:La demande HMDS n'a fourni aucune donn\\u00e9e\\u00a0: KVUE  250314C00020000@SMART Midpoint, contract: Option(symbol='KVUE', lastTradeDateOrContractMonth='20250314', strike='20', right='C', exchange='SMART')\n",
            "ERROR:ib_insync.wrapper:Error 162, reqId 3231: Message d'erreur Service Donn\\u00e9es de March\\u00e9 Historiques:La demande HMDS n'a fourni aucune donn\\u00e9e\\u00a0: KVUE  250314P00020000@SMART Midpoint, contract: Option(symbol='KVUE', lastTradeDateOrContractMonth='20250314', strike='20', right='P', exchange='SMART')\n"
          ]
        },
        {
          "output_type": "stream",
          "name": "stdout",
          "text": [
            "Error: No data retrieved for KVUE, expiration 20250314, strike 20\n"
          ]
        },
        {
          "output_type": "stream",
          "name": "stderr",
          "text": [
            "ERROR:ib_insync.wrapper:Error 162, reqId 3232: Message d'erreur Service Donn\\u00e9es de March\\u00e9 Historiques:La demande HMDS n'a fourni aucune donn\\u00e9e\\u00a0: KDP   250321C00031000@SMART Midpoint, contract: Option(symbol='KDP', lastTradeDateOrContractMonth='20250321', strike='31', right='C', exchange='SMART')\n",
            "ERROR:ib_insync.wrapper:Error 162, reqId 3233: Message d'erreur Service Donn\\u00e9es de March\\u00e9 Historiques:La demande HMDS n'a fourni aucune donn\\u00e9e\\u00a0: KDP   250321P00031000@SMART Midpoint, contract: Option(symbol='KDP', lastTradeDateOrContractMonth='20250321', strike='31', right='P', exchange='SMART')\n"
          ]
        },
        {
          "output_type": "stream",
          "name": "stdout",
          "text": [
            "Error: No data retrieved for KDP, expiration 20250321, strike 31\n"
          ]
        },
        {
          "output_type": "stream",
          "name": "stderr",
          "text": [
            "ERROR:ib_insync.wrapper:Error 162, reqId 3234: Message d'erreur Service Donn\\u00e9es de March\\u00e9 Historiques:La demande HMDS n'a fourni aucune donn\\u00e9e\\u00a0: KEY   250314C00018000@SMART Midpoint, contract: Option(symbol='KEY', lastTradeDateOrContractMonth='20250314', strike='18', right='C', exchange='SMART')\n",
            "ERROR:ib_insync.wrapper:Error 162, reqId 3235: Message d'erreur Service Donn\\u00e9es de March\\u00e9 Historiques:La demande HMDS n'a fourni aucune donn\\u00e9e\\u00a0: KEY   250314P00018000@SMART Midpoint, contract: Option(symbol='KEY', lastTradeDateOrContractMonth='20250314', strike='18', right='P', exchange='SMART')\n"
          ]
        },
        {
          "output_type": "stream",
          "name": "stdout",
          "text": [
            "Error: No data retrieved for KEY, expiration 20250314, strike 18\n"
          ]
        },
        {
          "output_type": "stream",
          "name": "stderr",
          "text": [
            "ERROR:ib_insync.wrapper:Error 162, reqId 3236: Message d'erreur Service Donn\\u00e9es de March\\u00e9 Historiques:La demande HMDS n'a fourni aucune donn\\u00e9e\\u00a0: KEYS  250321C00175000@SMART Midpoint, contract: Option(symbol='KEYS', lastTradeDateOrContractMonth='20250321', strike='175', right='C', exchange='SMART')\n",
            "ERROR:ib_insync.wrapper:Error 162, reqId 3237: Message d'erreur Service Donn\\u00e9es de March\\u00e9 Historiques:La demande HMDS n'a fourni aucune donn\\u00e9e\\u00a0: KEYS  250321P00175000@SMART Midpoint, contract: Option(symbol='KEYS', lastTradeDateOrContractMonth='20250321', strike='175', right='P', exchange='SMART')\n"
          ]
        },
        {
          "output_type": "stream",
          "name": "stdout",
          "text": [
            "Error: No data retrieved for KEYS, expiration 20250321, strike 175\n"
          ]
        },
        {
          "output_type": "stream",
          "name": "stderr",
          "text": [
            "ERROR:ib_insync.wrapper:Error 162, reqId 3238: Message d'erreur Service Donn\\u00e9es de March\\u00e9 Historiques:La demande HMDS n'a fourni aucune donn\\u00e9e\\u00a0: KMB   250314C00130000@SMART Midpoint, contract: Option(symbol='KMB', lastTradeDateOrContractMonth='20250314', strike='130', right='C', exchange='SMART')\n",
            "ERROR:ib_insync.wrapper:Error 162, reqId 3239: Message d'erreur Service Donn\\u00e9es de March\\u00e9 Historiques:La demande HMDS n'a fourni aucune donn\\u00e9e\\u00a0: KMB   250314P00130000@SMART Midpoint, contract: Option(symbol='KMB', lastTradeDateOrContractMonth='20250314', strike='130', right='P', exchange='SMART')\n"
          ]
        },
        {
          "output_type": "stream",
          "name": "stdout",
          "text": [
            "Error: No data retrieved for KMB, expiration 20250314, strike 130\n"
          ]
        },
        {
          "output_type": "stream",
          "name": "stderr",
          "text": [
            "ERROR:ib_insync.wrapper:Error 162, reqId 3240: Message d'erreur Service Donn\\u00e9es de March\\u00e9 Historiques:La demande HMDS n'a fourni aucune donn\\u00e9e\\u00a0: KIM   250321C00020000@SMART Midpoint, contract: Option(symbol='KIM', lastTradeDateOrContractMonth='20250321', strike='20', right='C', exchange='SMART')\n",
            "ERROR:ib_insync.wrapper:Error 162, reqId 3241: Message d'erreur Service Donn\\u00e9es de March\\u00e9 Historiques:La demande HMDS n'a fourni aucune donn\\u00e9e\\u00a0: KIM   250321P00020000@SMART Midpoint, contract: Option(symbol='KIM', lastTradeDateOrContractMonth='20250321', strike='20', right='P', exchange='SMART')\n"
          ]
        },
        {
          "output_type": "stream",
          "name": "stdout",
          "text": [
            "Error: No data retrieved for KIM, expiration 20250321, strike 20\n"
          ]
        },
        {
          "output_type": "stream",
          "name": "stderr",
          "text": [
            "ERROR:ib_insync.wrapper:Error 162, reqId 3242: Message d'erreur Service Donn\\u00e9es de March\\u00e9 Historiques:La demande HMDS n'a fourni aucune donn\\u00e9e\\u00a0: KMI   250314C00027000@SMART Midpoint, contract: Option(symbol='KMI', lastTradeDateOrContractMonth='20250314', strike='27', right='C', exchange='SMART')\n",
            "ERROR:ib_insync.wrapper:Error 162, reqId 3243: Message d'erreur Service Donn\\u00e9es de March\\u00e9 Historiques:La demande HMDS n'a fourni aucune donn\\u00e9e\\u00a0: KMI   250314P00027000@SMART Midpoint, contract: Option(symbol='KMI', lastTradeDateOrContractMonth='20250314', strike='27', right='P', exchange='SMART')\n"
          ]
        },
        {
          "output_type": "stream",
          "name": "stdout",
          "text": [
            "Error: No data retrieved for KMI, expiration 20250314, strike 27\n"
          ]
        },
        {
          "output_type": "stream",
          "name": "stderr",
          "text": [
            "ERROR:ib_insync.wrapper:Error 162, reqId 3244: Message d'erreur Service Donn\\u00e9es de March\\u00e9 Historiques:La demande HMDS n'a fourni aucune donn\\u00e9e\\u00a0: KKR   250314C00149000@SMART Midpoint, contract: Option(symbol='KKR', lastTradeDateOrContractMonth='20250314', strike='149', right='C', exchange='SMART')\n",
            "ERROR:ib_insync.wrapper:Error 162, reqId 3245: Message d'erreur Service Donn\\u00e9es de March\\u00e9 Historiques:La demande HMDS n'a fourni aucune donn\\u00e9e\\u00a0: KKR   250314P00149000@SMART Midpoint, contract: Option(symbol='KKR', lastTradeDateOrContractMonth='20250314', strike='149', right='P', exchange='SMART')\n"
          ]
        },
        {
          "output_type": "stream",
          "name": "stdout",
          "text": [
            "Error: No data retrieved for KKR, expiration 20250314, strike 149\n"
          ]
        },
        {
          "output_type": "stream",
          "name": "stderr",
          "text": [
            "ERROR:ib_insync.wrapper:Error 162, reqId 3246: Message d'erreur Service Donn\\u00e9es de March\\u00e9 Historiques:La demande HMDS n'a fourni aucune donn\\u00e9e\\u00a0: KLAC  250321C00750000@SMART Midpoint, contract: Option(symbol='KLAC', lastTradeDateOrContractMonth='20250321', strike='750', right='C', exchange='SMART')\n",
            "ERROR:ib_insync.wrapper:Error 162, reqId 3247: Message d'erreur Service Donn\\u00e9es de March\\u00e9 Historiques:La demande HMDS n'a fourni aucune donn\\u00e9e\\u00a0: KLAC  250321P00750000@SMART Midpoint, contract: Option(symbol='KLAC', lastTradeDateOrContractMonth='20250321', strike='750', right='P', exchange='SMART')\n"
          ]
        },
        {
          "output_type": "stream",
          "name": "stdout",
          "text": [
            "Error: No data retrieved for KLAC, expiration 20250321, strike 750\n"
          ]
        },
        {
          "output_type": "stream",
          "name": "stderr",
          "text": [
            "ERROR:ib_insync.wrapper:Error 162, reqId 3248: Message d'erreur Service Donn\\u00e9es de March\\u00e9 Historiques:La demande HMDS n'a fourni aucune donn\\u00e9e\\u00a0: KHC   250314C00029000@SMART Midpoint, contract: Option(symbol='KHC', lastTradeDateOrContractMonth='20250314', strike='29', right='C', exchange='SMART')\n",
            "ERROR:ib_insync.wrapper:Error 162, reqId 3249: Message d'erreur Service Donn\\u00e9es de March\\u00e9 Historiques:La demande HMDS n'a fourni aucune donn\\u00e9e\\u00a0: KHC   250314P00029000@SMART Midpoint, contract: Option(symbol='KHC', lastTradeDateOrContractMonth='20250314', strike='29', right='P', exchange='SMART')\n"
          ]
        },
        {
          "output_type": "stream",
          "name": "stdout",
          "text": [
            "Error: No data retrieved for KHC, expiration 20250314, strike 29\n"
          ]
        },
        {
          "output_type": "stream",
          "name": "stderr",
          "text": [
            "ERROR:ib_insync.wrapper:Error 162, reqId 3250: Message d'erreur Service Donn\\u00e9es de March\\u00e9 Historiques:La demande HMDS n'a fourni aucune donn\\u00e9e\\u00a0: KR    250314C00065000@SMART Midpoint, contract: Option(symbol='KR', lastTradeDateOrContractMonth='20250314', strike='65', right='C', exchange='SMART')\n",
            "ERROR:ib_insync.wrapper:Error 162, reqId 3251: Message d'erreur Service Donn\\u00e9es de March\\u00e9 Historiques:La demande HMDS n'a fourni aucune donn\\u00e9e\\u00a0: KR    250314P00065000@SMART Midpoint, contract: Option(symbol='KR', lastTradeDateOrContractMonth='20250314', strike='65', right='P', exchange='SMART')\n"
          ]
        },
        {
          "output_type": "stream",
          "name": "stdout",
          "text": [
            "Error: No data retrieved for KR, expiration 20250314, strike 65\n"
          ]
        },
        {
          "output_type": "stream",
          "name": "stderr",
          "text": [
            "ERROR:ib_insync.wrapper:Error 162, reqId 3252: Message d'erreur Service Donn\\u00e9es de March\\u00e9 Historiques:La demande HMDS n'a fourni aucune donn\\u00e9e\\u00a0: LHX   250321C00210000@SMART Midpoint, contract: Option(symbol='LHX', lastTradeDateOrContractMonth='20250321', strike='210', right='C', exchange='SMART')\n",
            "ERROR:ib_insync.wrapper:Error 162, reqId 3253: Message d'erreur Service Donn\\u00e9es de March\\u00e9 Historiques:La demande HMDS n'a fourni aucune donn\\u00e9e\\u00a0: LHX   250321P00210000@SMART Midpoint, contract: Option(symbol='LHX', lastTradeDateOrContractMonth='20250321', strike='210', right='P', exchange='SMART')\n"
          ]
        },
        {
          "output_type": "stream",
          "name": "stdout",
          "text": [
            "Error: No data retrieved for LHX, expiration 20250321, strike 210\n"
          ]
        },
        {
          "output_type": "stream",
          "name": "stderr",
          "text": [
            "ERROR:ib_insync.wrapper:Error 162, reqId 3254: Message d'erreur Service Donn\\u00e9es de March\\u00e9 Historiques:La demande HMDS n'a fourni aucune donn\\u00e9e\\u00a0: LH    250321C00250000@SMART Midpoint, contract: Option(symbol='LH', lastTradeDateOrContractMonth='20250321', strike='250', right='C', exchange='SMART')\n",
            "ERROR:ib_insync.wrapper:Error 162, reqId 3255: Message d'erreur Service Donn\\u00e9es de March\\u00e9 Historiques:La demande HMDS n'a fourni aucune donn\\u00e9e\\u00a0: LH    250321P00250000@SMART Midpoint, contract: Option(symbol='LH', lastTradeDateOrContractMonth='20250321', strike='250', right='P', exchange='SMART')\n"
          ]
        },
        {
          "output_type": "stream",
          "name": "stdout",
          "text": [
            "Error: No data retrieved for LH, expiration 20250321, strike 250\n"
          ]
        },
        {
          "output_type": "stream",
          "name": "stderr",
          "text": [
            "ERROR:ib_insync.wrapper:Error 162, reqId 3256: Message d'erreur Service Donn\\u00e9es de March\\u00e9 Historiques:La demande HMDS n'a fourni aucune donn\\u00e9e\\u00a0: LRCX  250314C00082000@SMART Midpoint, contract: Option(symbol='LRCX', lastTradeDateOrContractMonth='20250314', strike='82', right='C', exchange='SMART')\n",
            "ERROR:ib_insync.wrapper:Error 162, reqId 3257: Message d'erreur Service Donn\\u00e9es de March\\u00e9 Historiques:La demande HMDS n'a fourni aucune donn\\u00e9e\\u00a0: LRCX  250314P00082000@SMART Midpoint, contract: Option(symbol='LRCX', lastTradeDateOrContractMonth='20250314', strike='82', right='P', exchange='SMART')\n"
          ]
        },
        {
          "output_type": "stream",
          "name": "stdout",
          "text": [
            "Error: No data retrieved for LRCX, expiration 20250314, strike 82\n"
          ]
        },
        {
          "output_type": "stream",
          "name": "stderr",
          "text": [
            "ERROR:ib_insync.wrapper:Error 162, reqId 3258: Message d'erreur Service Donn\\u00e9es de March\\u00e9 Historiques:La demande HMDS n'a fourni aucune donn\\u00e9e\\u00a0: LW    250321C00060000@SMART Midpoint, contract: Option(symbol='LW', lastTradeDateOrContractMonth='20250321', strike='60', right='C', exchange='SMART')\n",
            "ERROR:ib_insync.wrapper:Error 162, reqId 3259: Message d'erreur Service Donn\\u00e9es de March\\u00e9 Historiques:La demande HMDS n'a fourni aucune donn\\u00e9e\\u00a0: LW    250321P00060000@SMART Midpoint, contract: Option(symbol='LW', lastTradeDateOrContractMonth='20250321', strike='60', right='P', exchange='SMART')\n"
          ]
        },
        {
          "output_type": "stream",
          "name": "stdout",
          "text": [
            "Error: No data retrieved for LW, expiration 20250321, strike 60\n"
          ]
        },
        {
          "output_type": "stream",
          "name": "stderr",
          "text": [
            "ERROR:ib_insync.wrapper:Error 162, reqId 3260: Message d'erreur Service Donn\\u00e9es de March\\u00e9 Historiques:La demande HMDS n'a fourni aucune donn\\u00e9e\\u00a0: LVS   250314C00043000@SMART Midpoint, contract: Option(symbol='LVS', lastTradeDateOrContractMonth='20250314', strike='43', right='C', exchange='SMART')\n",
            "ERROR:ib_insync.wrapper:Error 162, reqId 3261: Message d'erreur Service Donn\\u00e9es de March\\u00e9 Historiques:La demande HMDS n'a fourni aucune donn\\u00e9e\\u00a0: LVS   250314P00043000@SMART Midpoint, contract: Option(symbol='LVS', lastTradeDateOrContractMonth='20250314', strike='43', right='P', exchange='SMART')\n"
          ]
        },
        {
          "output_type": "stream",
          "name": "stdout",
          "text": [
            "Error: No data retrieved for LVS, expiration 20250314, strike 43\n"
          ]
        },
        {
          "output_type": "stream",
          "name": "stderr",
          "text": [
            "ERROR:ib_insync.wrapper:Error 162, reqId 3262: Message d'erreur Service Donn\\u00e9es de March\\u00e9 Historiques:La demande HMDS n'a fourni aucune donn\\u00e9e\\u00a0: LDOS  250321C00140000@SMART Midpoint, contract: Option(symbol='LDOS', lastTradeDateOrContractMonth='20250321', strike='140', right='C', exchange='SMART')\n",
            "ERROR:ib_insync.wrapper:Error 162, reqId 3263: Message d'erreur Service Donn\\u00e9es de March\\u00e9 Historiques:La demande HMDS n'a fourni aucune donn\\u00e9e\\u00a0: LDOS  250321P00140000@SMART Midpoint, contract: Option(symbol='LDOS', lastTradeDateOrContractMonth='20250321', strike='140', right='P', exchange='SMART')\n"
          ]
        },
        {
          "output_type": "stream",
          "name": "stdout",
          "text": [
            "Error: No data retrieved for LDOS, expiration 20250321, strike 140\n"
          ]
        },
        {
          "output_type": "stream",
          "name": "stderr",
          "text": [
            "ERROR:ib_insync.wrapper:Error 162, reqId 3264: Message d'erreur Service Donn\\u00e9es de March\\u00e9 Historiques:La demande HMDS n'a fourni aucune donn\\u00e9e\\u00a0: LEN   250314C00122000@SMART Midpoint, contract: Option(symbol='LEN', lastTradeDateOrContractMonth='20250314', strike='122', right='C', exchange='SMART')\n",
            "ERROR:ib_insync.wrapper:Error 162, reqId 3265: Message d'erreur Service Donn\\u00e9es de March\\u00e9 Historiques:La demande HMDS n'a fourni aucune donn\\u00e9e\\u00a0: LEN   250314P00122000@SMART Midpoint, contract: Option(symbol='LEN', lastTradeDateOrContractMonth='20250314', strike='122', right='P', exchange='SMART')\n"
          ]
        },
        {
          "output_type": "stream",
          "name": "stdout",
          "text": [
            "Error: No data retrieved for LEN, expiration 20250314, strike 122\n"
          ]
        },
        {
          "output_type": "stream",
          "name": "stderr",
          "text": [
            "ERROR:ib_insync.wrapper:Error 162, reqId 3266: Message d'erreur Service Donn\\u00e9es de March\\u00e9 Historiques:La demande HMDS n'a fourni aucune donn\\u00e9e\\u00a0: LII   250321C00580000@SMART Midpoint, contract: Option(symbol='LII', lastTradeDateOrContractMonth='20250321', strike='580', right='C', exchange='SMART')\n",
            "ERROR:ib_insync.wrapper:Error 162, reqId 3267: Message d'erreur Service Donn\\u00e9es de March\\u00e9 Historiques:La demande HMDS n'a fourni aucune donn\\u00e9e\\u00a0: LII   250321P00580000@SMART Midpoint, contract: Option(symbol='LII', lastTradeDateOrContractMonth='20250321', strike='580', right='P', exchange='SMART')\n"
          ]
        },
        {
          "output_type": "stream",
          "name": "stdout",
          "text": [
            "Error: No data retrieved for LII, expiration 20250321, strike 580\n"
          ]
        },
        {
          "output_type": "stream",
          "name": "stderr",
          "text": [
            "ERROR:ib_insync.wrapper:Error 162, reqId 3268: Message d'erreur Service Donn\\u00e9es de March\\u00e9 Historiques:La demande HMDS n'a fourni aucune donn\\u00e9e\\u00a0: LLY   250314C00880000@SMART Midpoint, contract: Option(symbol='LLY', lastTradeDateOrContractMonth='20250314', strike='880', right='C', exchange='SMART')\n",
            "ERROR:ib_insync.wrapper:Error 162, reqId 3269: Message d'erreur Service Donn\\u00e9es de March\\u00e9 Historiques:La demande HMDS n'a fourni aucune donn\\u00e9e\\u00a0: LLY   250314P00880000@SMART Midpoint, contract: Option(symbol='LLY', lastTradeDateOrContractMonth='20250314', strike='880', right='P', exchange='SMART')\n"
          ]
        },
        {
          "output_type": "stream",
          "name": "stdout",
          "text": [
            "Error: No data retrieved for LLY, expiration 20250314, strike 880\n"
          ]
        },
        {
          "output_type": "stream",
          "name": "stderr",
          "text": [
            "ERROR:ib_insync.wrapper:Error 162, reqId 3270: Message d'erreur Service Donn\\u00e9es de March\\u00e9 Historiques:La demande HMDS n'a fourni aucune donn\\u00e9e\\u00a0: LIN   250321C00455000@SMART Midpoint, contract: Option(symbol='LIN', lastTradeDateOrContractMonth='20250321', strike='455', right='C', exchange='SMART')\n",
            "ERROR:ib_insync.wrapper:Error 162, reqId 3271: Message d'erreur Service Donn\\u00e9es de March\\u00e9 Historiques:La demande HMDS n'a fourni aucune donn\\u00e9e\\u00a0: LIN   250321P00455000@SMART Midpoint, contract: Option(symbol='LIN', lastTradeDateOrContractMonth='20250321', strike='455', right='P', exchange='SMART')\n"
          ]
        },
        {
          "output_type": "stream",
          "name": "stdout",
          "text": [
            "Error: No data retrieved for LIN, expiration 20250321, strike 455\n"
          ]
        },
        {
          "output_type": "stream",
          "name": "stderr",
          "text": [
            "ERROR:ib_insync.wrapper:Error 162, reqId 3272: Message d'erreur Service Donn\\u00e9es de March\\u00e9 Historiques:La demande HMDS n'a fourni aucune donn\\u00e9e\\u00a0: LYV   250321C00150000@SMART Midpoint, contract: Option(symbol='LYV', lastTradeDateOrContractMonth='20250321', strike='150', right='C', exchange='SMART')\n",
            "ERROR:ib_insync.wrapper:Error 162, reqId 3273: Message d'erreur Service Donn\\u00e9es de March\\u00e9 Historiques:La demande HMDS n'a fourni aucune donn\\u00e9e\\u00a0: LYV   250321P00150000@SMART Midpoint, contract: Option(symbol='LYV', lastTradeDateOrContractMonth='20250321', strike='150', right='P', exchange='SMART')\n"
          ]
        },
        {
          "output_type": "stream",
          "name": "stdout",
          "text": [
            "Error: No data retrieved for LYV, expiration 20250321, strike 150\n"
          ]
        },
        {
          "output_type": "stream",
          "name": "stderr",
          "text": [
            "ERROR:ib_insync.wrapper:Error 162, reqId 3274: Message d'erreur Service Donn\\u00e9es de March\\u00e9 Historiques:La demande HMDS n'a fourni aucune donn\\u00e9e\\u00a0: LKQ   250321C00035000@SMART Midpoint, contract: Option(symbol='LKQ', lastTradeDateOrContractMonth='20250321', strike='35', right='C', exchange='SMART')\n",
            "ERROR:ib_insync.wrapper:Error 162, reqId 3275: Message d'erreur Service Donn\\u00e9es de March\\u00e9 Historiques:La demande HMDS n'a fourni aucune donn\\u00e9e\\u00a0: LKQ   250321P00035000@SMART Midpoint, contract: Option(symbol='LKQ', lastTradeDateOrContractMonth='20250321', strike='35', right='P', exchange='SMART')\n"
          ]
        },
        {
          "output_type": "stream",
          "name": "stdout",
          "text": [
            "Error: No data retrieved for LKQ, expiration 20250321, strike 35\n"
          ]
        },
        {
          "output_type": "stream",
          "name": "stderr",
          "text": [
            "ERROR:ib_insync.wrapper:Error 162, reqId 3276: Message d'erreur Service Donn\\u00e9es de March\\u00e9 Historiques:La demande HMDS n'a fourni aucune donn\\u00e9e\\u00a0: LMT   250314C00445000@SMART Midpoint, contract: Option(symbol='LMT', lastTradeDateOrContractMonth='20250314', strike='445', right='C', exchange='SMART')\n",
            "ERROR:ib_insync.wrapper:Error 162, reqId 3277: Message d'erreur Service Donn\\u00e9es de March\\u00e9 Historiques:La demande HMDS n'a fourni aucune donn\\u00e9e\\u00a0: LMT   250314P00445000@SMART Midpoint, contract: Option(symbol='LMT', lastTradeDateOrContractMonth='20250314', strike='445', right='P', exchange='SMART')\n"
          ]
        },
        {
          "output_type": "stream",
          "name": "stdout",
          "text": [
            "Error: No data retrieved for LMT, expiration 20250314, strike 445\n"
          ]
        },
        {
          "output_type": "stream",
          "name": "stderr",
          "text": [
            "ERROR:ib_insync.wrapper:Error 162, reqId 3278: Message d'erreur Service Donn\\u00e9es de March\\u00e9 Historiques:La demande HMDS n'a fourni aucune donn\\u00e9e\\u00a0: L     250321C00085000@SMART Midpoint, contract: Option(symbol='L', lastTradeDateOrContractMonth='20250321', strike='85', right='C', exchange='SMART')\n",
            "ERROR:ib_insync.wrapper:Error 162, reqId 3279: Message d'erreur Service Donn\\u00e9es de March\\u00e9 Historiques:La demande HMDS n'a fourni aucune donn\\u00e9e\\u00a0: L     250321P00085000@SMART Midpoint, contract: Option(symbol='L', lastTradeDateOrContractMonth='20250321', strike='85', right='P', exchange='SMART')\n"
          ]
        },
        {
          "output_type": "stream",
          "name": "stdout",
          "text": [
            "Error: No data retrieved for L, expiration 20250321, strike 85\n"
          ]
        },
        {
          "output_type": "stream",
          "name": "stderr",
          "text": [
            "ERROR:ib_insync.wrapper:Error 162, reqId 3280: Message d'erreur Service Donn\\u00e9es de March\\u00e9 Historiques:La demande HMDS n'a fourni aucune donn\\u00e9e\\u00a0: LOW   250314C00250000@SMART Midpoint, contract: Option(symbol='LOW', lastTradeDateOrContractMonth='20250314', strike='250', right='C', exchange='SMART')\n",
            "ERROR:ib_insync.wrapper:Error 162, reqId 3281: Message d'erreur Service Donn\\u00e9es de March\\u00e9 Historiques:La demande HMDS n'a fourni aucune donn\\u00e9e\\u00a0: LOW   250314P00250000@SMART Midpoint, contract: Option(symbol='LOW', lastTradeDateOrContractMonth='20250314', strike='250', right='P', exchange='SMART')\n"
          ]
        },
        {
          "output_type": "stream",
          "name": "stdout",
          "text": [
            "Error: No data retrieved for LOW, expiration 20250314, strike 250\n"
          ]
        },
        {
          "output_type": "stream",
          "name": "stderr",
          "text": [
            "ERROR:ib_insync.wrapper:Error 162, reqId 3282: Message d'erreur Service Donn\\u00e9es de March\\u00e9 Historiques:La demande HMDS n'a fourni aucune donn\\u00e9e\\u00a0: LULU  250314C00400000@SMART Midpoint, contract: Option(symbol='LULU', lastTradeDateOrContractMonth='20250314', strike='400', right='C', exchange='SMART')\n",
            "ERROR:ib_insync.wrapper:Error 162, reqId 3283: Message d'erreur Service Donn\\u00e9es de March\\u00e9 Historiques:La demande HMDS n'a fourni aucune donn\\u00e9e\\u00a0: LULU  250314P00400000@SMART Midpoint, contract: Option(symbol='LULU', lastTradeDateOrContractMonth='20250314', strike='400', right='P', exchange='SMART')\n"
          ]
        },
        {
          "output_type": "stream",
          "name": "stdout",
          "text": [
            "Error: No data retrieved for LULU, expiration 20250314, strike 400\n"
          ]
        },
        {
          "output_type": "stream",
          "name": "stderr",
          "text": [
            "ERROR:ib_insync.wrapper:Error 162, reqId 3284: Message d'erreur Service Donn\\u00e9es de March\\u00e9 Historiques:La demande HMDS n'a fourni aucune donn\\u00e9e\\u00a0: LYB   250321C00075000@SMART Midpoint, contract: Option(symbol='LYB', lastTradeDateOrContractMonth='20250321', strike='75', right='C', exchange='SMART')\n",
            "ERROR:ib_insync.wrapper:Error 162, reqId 3285: Message d'erreur Service Donn\\u00e9es de March\\u00e9 Historiques:La demande HMDS n'a fourni aucune donn\\u00e9e\\u00a0: LYB   250321P00075000@SMART Midpoint, contract: Option(symbol='LYB', lastTradeDateOrContractMonth='20250321', strike='75', right='P', exchange='SMART')\n"
          ]
        },
        {
          "output_type": "stream",
          "name": "stdout",
          "text": [
            "Error: No data retrieved for LYB, expiration 20250321, strike 75\n"
          ]
        },
        {
          "output_type": "stream",
          "name": "stderr",
          "text": [
            "ERROR:ib_insync.wrapper:Error 162, reqId 3286: Message d'erreur Service Donn\\u00e9es de March\\u00e9 Historiques:La demande HMDS n'a fourni aucune donn\\u00e9e\\u00a0: MTB   250321C00200000@SMART Midpoint, contract: Option(symbol='MTB', lastTradeDateOrContractMonth='20250321', strike='200', right='C', exchange='SMART')\n",
            "ERROR:ib_insync.wrapper:Error 162, reqId 3287: Message d'erreur Service Donn\\u00e9es de March\\u00e9 Historiques:La demande HMDS n'a fourni aucune donn\\u00e9e\\u00a0: MTB   250321P00200000@SMART Midpoint, contract: Option(symbol='MTB', lastTradeDateOrContractMonth='20250321', strike='200', right='P', exchange='SMART')\n"
          ]
        },
        {
          "output_type": "stream",
          "name": "stdout",
          "text": [
            "Error: No data retrieved for MTB, expiration 20250321, strike 200\n"
          ]
        },
        {
          "output_type": "stream",
          "name": "stderr",
          "text": [
            "ERROR:ib_insync.wrapper:Error 162, reqId 3288: Message d'erreur Service Donn\\u00e9es de March\\u00e9 Historiques:La demande HMDS n'a fourni aucune donn\\u00e9e\\u00a0: MPC   250314C00150000@SMART Midpoint, contract: Option(symbol='MPC', lastTradeDateOrContractMonth='20250314', strike='150', right='C', exchange='SMART')\n",
            "ERROR:ib_insync.wrapper:Error 162, reqId 3289: Message d'erreur Service Donn\\u00e9es de March\\u00e9 Historiques:La demande HMDS n'a fourni aucune donn\\u00e9e\\u00a0: MPC   250314P00150000@SMART Midpoint, contract: Option(symbol='MPC', lastTradeDateOrContractMonth='20250314', strike='150', right='P', exchange='SMART')\n"
          ]
        },
        {
          "output_type": "stream",
          "name": "stdout",
          "text": [
            "Error: No data retrieved for MPC, expiration 20250314, strike 150\n"
          ]
        },
        {
          "output_type": "stream",
          "name": "stderr",
          "text": [
            "ERROR:ib_insync.wrapper:Error 162, reqId 3290: Message d'erreur Service Donn\\u00e9es de March\\u00e9 Historiques:La demande HMDS n'a fourni aucune donn\\u00e9e\\u00a0: MKTX  250321C00200000@SMART Midpoint, contract: Option(symbol='MKTX', lastTradeDateOrContractMonth='20250321', strike='200', right='C', exchange='SMART')\n",
            "ERROR:ib_insync.wrapper:Error 162, reqId 3291: Message d'erreur Service Donn\\u00e9es de March\\u00e9 Historiques:La demande HMDS n'a fourni aucune donn\\u00e9e\\u00a0: MKTX  250321P00200000@SMART Midpoint, contract: Option(symbol='MKTX', lastTradeDateOrContractMonth='20250321', strike='200', right='P', exchange='SMART')\n"
          ]
        },
        {
          "output_type": "stream",
          "name": "stdout",
          "text": [
            "Error: No data retrieved for MKTX, expiration 20250321, strike 200\n"
          ]
        },
        {
          "output_type": "stream",
          "name": "stderr",
          "text": [
            "ERROR:ib_insync.wrapper:Error 162, reqId 3292: Message d'erreur Service Donn\\u00e9es de March\\u00e9 Historiques:La demande HMDS n'a fourni aucune donn\\u00e9e\\u00a0: MAR   250314C00305000@SMART Midpoint, contract: Option(symbol='MAR', lastTradeDateOrContractMonth='20250314', strike='305', right='C', exchange='SMART')\n",
            "ERROR:ib_insync.wrapper:Error 162, reqId 3293: Message d'erreur Service Donn\\u00e9es de March\\u00e9 Historiques:La demande HMDS n'a fourni aucune donn\\u00e9e\\u00a0: MAR   250314P00305000@SMART Midpoint, contract: Option(symbol='MAR', lastTradeDateOrContractMonth='20250314', strike='305', right='P', exchange='SMART')\n"
          ]
        },
        {
          "output_type": "stream",
          "name": "stdout",
          "text": [
            "Error: No data retrieved for MAR, expiration 20250314, strike 305\n"
          ]
        },
        {
          "output_type": "stream",
          "name": "stderr",
          "text": [
            "ERROR:ib_insync.wrapper:Error 162, reqId 3294: Message d'erreur Service Donn\\u00e9es de March\\u00e9 Historiques:La demande HMDS n'a fourni aucune donn\\u00e9e\\u00a0: MMC   250321C00230000@SMART Midpoint, contract: Option(symbol='MMC', lastTradeDateOrContractMonth='20250321', strike='230', right='C', exchange='SMART')\n",
            "ERROR:ib_insync.wrapper:Error 162, reqId 3295: Message d'erreur Service Donn\\u00e9es de March\\u00e9 Historiques:La demande HMDS n'a fourni aucune donn\\u00e9e\\u00a0: MMC   250321P00230000@SMART Midpoint, contract: Option(symbol='MMC', lastTradeDateOrContractMonth='20250321', strike='230', right='P', exchange='SMART')\n"
          ]
        },
        {
          "output_type": "stream",
          "name": "stdout",
          "text": [
            "Error: No data retrieved for MMC, expiration 20250321, strike 230\n"
          ]
        },
        {
          "output_type": "stream",
          "name": "stderr",
          "text": [
            "ERROR:ib_insync.wrapper:Error 162, reqId 3296: Message d'erreur Service Donn\\u00e9es de March\\u00e9 Historiques:La demande HMDS n'a fourni aucune donn\\u00e9e\\u00a0: MLM   250321C00540000@SMART Midpoint, contract: Option(symbol='MLM', lastTradeDateOrContractMonth='20250321', strike='540', right='C', exchange='SMART')\n",
            "ERROR:ib_insync.wrapper:Error 162, reqId 3297: Message d'erreur Service Donn\\u00e9es de March\\u00e9 Historiques:La demande HMDS n'a fourni aucune donn\\u00e9e\\u00a0: MLM   250321P00540000@SMART Midpoint, contract: Option(symbol='MLM', lastTradeDateOrContractMonth='20250321', strike='540', right='P', exchange='SMART')\n"
          ]
        },
        {
          "output_type": "stream",
          "name": "stdout",
          "text": [
            "Error: No data retrieved for MLM, expiration 20250321, strike 540\n"
          ]
        },
        {
          "output_type": "stream",
          "name": "stderr",
          "text": [
            "ERROR:ib_insync.wrapper:Error 162, reqId 3298: Message d'erreur Service Donn\\u00e9es de March\\u00e9 Historiques:La demande HMDS n'a fourni aucune donn\\u00e9e\\u00a0: MAS   250321C00075000@SMART Midpoint, contract: Option(symbol='MAS', lastTradeDateOrContractMonth='20250321', strike='75', right='C', exchange='SMART')\n",
            "ERROR:ib_insync.wrapper:Error 162, reqId 3299: Message d'erreur Service Donn\\u00e9es de March\\u00e9 Historiques:La demande HMDS n'a fourni aucune donn\\u00e9e\\u00a0: MAS   250321P00075000@SMART Midpoint, contract: Option(symbol='MAS', lastTradeDateOrContractMonth='20250321', strike='75', right='P', exchange='SMART')\n"
          ]
        },
        {
          "output_type": "stream",
          "name": "stdout",
          "text": [
            "Error: No data retrieved for MAS, expiration 20250321, strike 75\n"
          ]
        },
        {
          "output_type": "stream",
          "name": "stderr",
          "text": [
            "ERROR:ib_insync.wrapper:Error 162, reqId 3300: Message d'erreur Service Donn\\u00e9es de March\\u00e9 Historiques:La demande HMDS n'a fourni aucune donn\\u00e9e\\u00a0: MA    250314C00560000@SMART Midpoint, contract: Option(symbol='MA', lastTradeDateOrContractMonth='20250314', strike='560', right='C', exchange='SMART')\n",
            "ERROR:ib_insync.wrapper:Error 162, reqId 3301: Message d'erreur Service Donn\\u00e9es de March\\u00e9 Historiques:La demande HMDS n'a fourni aucune donn\\u00e9e\\u00a0: MA    250314P00560000@SMART Midpoint, contract: Option(symbol='MA', lastTradeDateOrContractMonth='20250314', strike='560', right='P', exchange='SMART')\n"
          ]
        },
        {
          "output_type": "stream",
          "name": "stdout",
          "text": [
            "Error: No data retrieved for MA, expiration 20250314, strike 560\n"
          ]
        },
        {
          "output_type": "stream",
          "name": "stderr",
          "text": [
            "ERROR:ib_insync.wrapper:Error 162, reqId 3302: Message d'erreur Service Donn\\u00e9es de March\\u00e9 Historiques:La demande HMDS n'a fourni aucune donn\\u00e9e\\u00a0: MTCH  250314C00034000@SMART Midpoint, contract: Option(symbol='MTCH', lastTradeDateOrContractMonth='20250314', strike='34', right='C', exchange='SMART')\n",
            "ERROR:ib_insync.wrapper:Error 162, reqId 3303: Message d'erreur Service Donn\\u00e9es de March\\u00e9 Historiques:La demande HMDS n'a fourni aucune donn\\u00e9e\\u00a0: MTCH  250314P00034000@SMART Midpoint, contract: Option(symbol='MTCH', lastTradeDateOrContractMonth='20250314', strike='34', right='P', exchange='SMART')\n"
          ]
        },
        {
          "output_type": "stream",
          "name": "stdout",
          "text": [
            "Error: No data retrieved for MTCH, expiration 20250314, strike 34\n"
          ]
        },
        {
          "output_type": "stream",
          "name": "stderr",
          "text": [
            "ERROR:ib_insync.wrapper:Error 162, reqId 3304: Message d'erreur Service Donn\\u00e9es de March\\u00e9 Historiques:La demande HMDS n'a fourni aucune donn\\u00e9e\\u00a0: MKC   250321C00080000@SMART Midpoint, contract: Option(symbol='MKC', lastTradeDateOrContractMonth='20250321', strike='80', right='C', exchange='SMART')\n",
            "ERROR:ib_insync.wrapper:Error 162, reqId 3305: Message d'erreur Service Donn\\u00e9es de March\\u00e9 Historiques:La demande HMDS n'a fourni aucune donn\\u00e9e\\u00a0: MKC   250321P00080000@SMART Midpoint, contract: Option(symbol='MKC', lastTradeDateOrContractMonth='20250321', strike='80', right='P', exchange='SMART')\n"
          ]
        },
        {
          "output_type": "stream",
          "name": "stdout",
          "text": [
            "Error: No data retrieved for MKC, expiration 20250321, strike 80\n"
          ]
        },
        {
          "output_type": "stream",
          "name": "stderr",
          "text": [
            "ERROR:ib_insync.wrapper:Error 162, reqId 3306: Message d'erreur Service Donn\\u00e9es de March\\u00e9 Historiques:La demande HMDS n'a fourni aucune donn\\u00e9e\\u00a0: MCD   250314C00295000@SMART Midpoint, contract: Option(symbol='MCD', lastTradeDateOrContractMonth='20250314', strike='295', right='C', exchange='SMART')\n",
            "ERROR:ib_insync.wrapper:Error 162, reqId 3307: Message d'erreur Service Donn\\u00e9es de March\\u00e9 Historiques:La demande HMDS n'a fourni aucune donn\\u00e9e\\u00a0: MCD   250314P00295000@SMART Midpoint, contract: Option(symbol='MCD', lastTradeDateOrContractMonth='20250314', strike='295', right='P', exchange='SMART')\n"
          ]
        },
        {
          "output_type": "stream",
          "name": "stdout",
          "text": [
            "Error: No data retrieved for MCD, expiration 20250314, strike 295\n"
          ]
        },
        {
          "output_type": "stream",
          "name": "stderr",
          "text": [
            "ERROR:ib_insync.wrapper:Error 200, reqId 3308: Aucune d\\u00e9finition de titre trouv\\u00e9e pour cette requ\\u00eate, contract: Option(symbol='MCK', lastTradeDateOrContractMonth='20250314', strike='595', right='C', exchange='SMART')\n",
            "ERROR:ib_insync.wrapper:Error 200, reqId 3309: Aucune d\\u00e9finition de titre trouv\\u00e9e pour cette requ\\u00eate, contract: Option(symbol='MCK', lastTradeDateOrContractMonth='20250314', strike='595', right='P', exchange='SMART')\n"
          ]
        },
        {
          "output_type": "stream",
          "name": "stdout",
          "text": [
            "Error: No data retrieved for MCK, expiration 20250314, strike 595\n"
          ]
        },
        {
          "output_type": "stream",
          "name": "stderr",
          "text": [
            "ERROR:ib_insync.wrapper:Error 162, reqId 3310: Message d'erreur Service Donn\\u00e9es de March\\u00e9 Historiques:La demande HMDS n'a fourni aucune donn\\u00e9e\\u00a0: MDT   250314C00090000@SMART Midpoint, contract: Option(symbol='MDT', lastTradeDateOrContractMonth='20250314', strike='90', right='C', exchange='SMART')\n",
            "ERROR:ib_insync.wrapper:Error 162, reqId 3311: Message d'erreur Service Donn\\u00e9es de March\\u00e9 Historiques:La demande HMDS n'a fourni aucune donn\\u00e9e\\u00a0: MDT   250314P00090000@SMART Midpoint, contract: Option(symbol='MDT', lastTradeDateOrContractMonth='20250314', strike='90', right='P', exchange='SMART')\n"
          ]
        },
        {
          "output_type": "stream",
          "name": "stdout",
          "text": [
            "Error: No data retrieved for MDT, expiration 20250314, strike 90\n"
          ]
        },
        {
          "output_type": "stream",
          "name": "stderr",
          "text": [
            "ERROR:ib_insync.wrapper:Error 162, reqId 3312: Message d'erreur Service Donn\\u00e9es de March\\u00e9 Historiques:La demande HMDS n'a fourni aucune donn\\u00e9e\\u00a0: MRK   250314C00087000@SMART Midpoint, contract: Option(symbol='MRK', lastTradeDateOrContractMonth='20250314', strike='87', right='C', exchange='SMART')\n",
            "ERROR:ib_insync.wrapper:Error 162, reqId 3313: Message d'erreur Service Donn\\u00e9es de March\\u00e9 Historiques:La demande HMDS n'a fourni aucune donn\\u00e9e\\u00a0: MRK   250314P00087000@SMART Midpoint, contract: Option(symbol='MRK', lastTradeDateOrContractMonth='20250314', strike='87', right='P', exchange='SMART')\n"
          ]
        },
        {
          "output_type": "stream",
          "name": "stdout",
          "text": [
            "Error: No data retrieved for MRK, expiration 20250314, strike 87\n"
          ]
        },
        {
          "output_type": "stream",
          "name": "stderr",
          "text": [
            "ERROR:ib_insync.wrapper:Error 162, reqId 3314: Message d'erreur Service Donn\\u00e9es de March\\u00e9 Historiques:La demande HMDS n'a fourni aucune donn\\u00e9e\\u00a0: META  250314C00715000@SMART Midpoint, contract: Option(symbol='META', lastTradeDateOrContractMonth='20250314', strike='715', right='C', exchange='SMART')\n",
            "ERROR:ib_insync.wrapper:Error 162, reqId 3315: Message d'erreur Service Donn\\u00e9es de March\\u00e9 Historiques:La demande HMDS n'a fourni aucune donn\\u00e9e\\u00a0: META  250314P00715000@SMART Midpoint, contract: Option(symbol='META', lastTradeDateOrContractMonth='20250314', strike='715', right='P', exchange='SMART')\n"
          ]
        },
        {
          "output_type": "stream",
          "name": "stdout",
          "text": [
            "Error: No data retrieved for META, expiration 20250314, strike 715\n"
          ]
        },
        {
          "output_type": "stream",
          "name": "stderr",
          "text": [
            "ERROR:ib_insync.wrapper:Error 200, reqId 3316: Aucune d\\u00e9finition de titre trouv\\u00e9e pour cette requ\\u00eate, contract: Option(symbol='MET', lastTradeDateOrContractMonth='20250321', strike='84', right='C', exchange='SMART')\n",
            "ERROR:ib_insync.wrapper:Error 200, reqId 3317: Aucune d\\u00e9finition de titre trouv\\u00e9e pour cette requ\\u00eate, contract: Option(symbol='MET', lastTradeDateOrContractMonth='20250321', strike='84', right='P', exchange='SMART')\n"
          ]
        },
        {
          "output_type": "stream",
          "name": "stdout",
          "text": [
            "Error: No data retrieved for MET, expiration 20250321, strike 84\n"
          ]
        },
        {
          "output_type": "stream",
          "name": "stderr",
          "text": [
            "ERROR:ib_insync.wrapper:Error 162, reqId 3318: Message d'erreur Service Donn\\u00e9es de March\\u00e9 Historiques:La demande HMDS n'a fourni aucune donn\\u00e9e\\u00a0: MTD   250321C01390000@SMART Midpoint, contract: Option(symbol='MTD', lastTradeDateOrContractMonth='20250321', strike='1390', right='C', exchange='SMART')\n",
            "ERROR:ib_insync.wrapper:Error 162, reqId 3319: Message d'erreur Service Donn\\u00e9es de March\\u00e9 Historiques:La demande HMDS n'a fourni aucune donn\\u00e9e\\u00a0: MTD   250321P01390000@SMART Midpoint, contract: Option(symbol='MTD', lastTradeDateOrContractMonth='20250321', strike='1390', right='P', exchange='SMART')\n"
          ]
        },
        {
          "output_type": "stream",
          "name": "stdout",
          "text": [
            "Error: No data retrieved for MTD, expiration 20250321, strike 1390\n"
          ]
        },
        {
          "output_type": "stream",
          "name": "stderr",
          "text": [
            "ERROR:ib_insync.wrapper:Error 162, reqId 3320: Message d'erreur Service Donn\\u00e9es de March\\u00e9 Historiques:La demande HMDS n'a fourni aucune donn\\u00e9e\\u00a0: MGM   250314C00035000@SMART Midpoint, contract: Option(symbol='MGM', lastTradeDateOrContractMonth='20250314', strike='35', right='C', exchange='SMART')\n",
            "ERROR:ib_insync.wrapper:Error 162, reqId 3321: Message d'erreur Service Donn\\u00e9es de March\\u00e9 Historiques:La demande HMDS n'a fourni aucune donn\\u00e9e\\u00a0: MGM   250314P00035000@SMART Midpoint, contract: Option(symbol='MGM', lastTradeDateOrContractMonth='20250314', strike='35', right='P', exchange='SMART')\n"
          ]
        },
        {
          "output_type": "stream",
          "name": "stdout",
          "text": [
            "Error: No data retrieved for MGM, expiration 20250314, strike 35\n"
          ]
        },
        {
          "output_type": "stream",
          "name": "stderr",
          "text": [
            "ERROR:ib_insync.wrapper:Error 162, reqId 3322: Message d'erreur Service Donn\\u00e9es de March\\u00e9 Historiques:La demande HMDS n'a fourni aucune donn\\u00e9e\\u00a0: MCHP  250314C00052000@SMART Midpoint, contract: Option(symbol='MCHP', lastTradeDateOrContractMonth='20250314', strike='52', right='C', exchange='SMART')\n",
            "ERROR:ib_insync.wrapper:Error 162, reqId 3323: Message d'erreur Service Donn\\u00e9es de March\\u00e9 Historiques:La demande HMDS n'a fourni aucune donn\\u00e9e\\u00a0: MCHP  250314P00052000@SMART Midpoint, contract: Option(symbol='MCHP', lastTradeDateOrContractMonth='20250314', strike='52', right='P', exchange='SMART')\n"
          ]
        },
        {
          "output_type": "stream",
          "name": "stdout",
          "text": [
            "Error: No data retrieved for MCHP, expiration 20250314, strike 52\n"
          ]
        },
        {
          "output_type": "error",
          "ename": "KeyboardInterrupt",
          "evalue": "",
          "traceback": [
            "\u001b[0;31m---------------------------------------------------------------------------\u001b[0m",
            "\u001b[0;31mKeyboardInterrupt\u001b[0m                         Traceback (most recent call last)",
            "\u001b[0;32m<ipython-input-27-c84d9a6cec31>\u001b[0m in \u001b[0;36m<cell line: 0>\u001b[0;34m()\u001b[0m\n\u001b[1;32m     14\u001b[0m         \u001b[0;32mcontinue\u001b[0m\u001b[0;34m\u001b[0m\u001b[0;34m\u001b[0m\u001b[0m\n\u001b[1;32m     15\u001b[0m \u001b[0;34m\u001b[0m\u001b[0m\n\u001b[0;32m---> 16\u001b[0;31m     sp500_option_prices[ticker] = fetch_intraday_option_prices(\n\u001b[0m\u001b[1;32m     17\u001b[0m         \u001b[0mib\u001b[0m\u001b[0;34m,\u001b[0m \u001b[0mticker\u001b[0m\u001b[0;34m,\u001b[0m \u001b[0mexpiration\u001b[0m\u001b[0;34m,\u001b[0m \u001b[0mclosest_strike\u001b[0m\u001b[0;34m\u001b[0m\u001b[0;34m\u001b[0m\u001b[0m\n\u001b[1;32m     18\u001b[0m     )\n",
            "\u001b[0;32m<ipython-input-6-7a1864b32797>\u001b[0m in \u001b[0;36mfetch_intraday_option_prices\u001b[0;34m(ib, ticker, expiration, strike)\u001b[0m\n\u001b[1;32m     21\u001b[0m \u001b[0;34m\u001b[0m\u001b[0m\n\u001b[1;32m     22\u001b[0m     \u001b[0;31m# **Request Historical Data**\u001b[0m\u001b[0;34m\u001b[0m\u001b[0;34m\u001b[0m\u001b[0m\n\u001b[0;32m---> 23\u001b[0;31m     \u001b[0mcall_bars\u001b[0m \u001b[0;34m=\u001b[0m \u001b[0mib\u001b[0m\u001b[0;34m.\u001b[0m\u001b[0mreqHistoricalData\u001b[0m\u001b[0;34m(\u001b[0m\u001b[0mcall_contract\u001b[0m\u001b[0;34m,\u001b[0m \u001b[0;34m''\u001b[0m\u001b[0;34m,\u001b[0m \u001b[0;34m'1 D'\u001b[0m\u001b[0;34m,\u001b[0m \u001b[0;34m'1 min'\u001b[0m\u001b[0;34m,\u001b[0m \u001b[0;34m'MIDPOINT'\u001b[0m\u001b[0;34m,\u001b[0m \u001b[0museRTH\u001b[0m\u001b[0;34m=\u001b[0m\u001b[0;32mTrue\u001b[0m\u001b[0;34m)\u001b[0m\u001b[0;34m\u001b[0m\u001b[0;34m\u001b[0m\u001b[0m\n\u001b[0m\u001b[1;32m     24\u001b[0m     \u001b[0mput_bars\u001b[0m \u001b[0;34m=\u001b[0m \u001b[0mib\u001b[0m\u001b[0;34m.\u001b[0m\u001b[0mreqHistoricalData\u001b[0m\u001b[0;34m(\u001b[0m\u001b[0mput_contract\u001b[0m\u001b[0;34m,\u001b[0m \u001b[0;34m''\u001b[0m\u001b[0;34m,\u001b[0m \u001b[0;34m'1 D'\u001b[0m\u001b[0;34m,\u001b[0m \u001b[0;34m'1 min'\u001b[0m\u001b[0;34m,\u001b[0m \u001b[0;34m'MIDPOINT'\u001b[0m\u001b[0;34m,\u001b[0m \u001b[0museRTH\u001b[0m\u001b[0;34m=\u001b[0m\u001b[0;32mTrue\u001b[0m\u001b[0;34m)\u001b[0m\u001b[0;34m\u001b[0m\u001b[0;34m\u001b[0m\u001b[0m\n\u001b[1;32m     25\u001b[0m \u001b[0;34m\u001b[0m\u001b[0m\n",
            "\u001b[0;32m/usr/local/lib/python3.11/dist-packages/ib_insync/ib.py\u001b[0m in \u001b[0;36mreqHistoricalData\u001b[0;34m(self, contract, endDateTime, durationStr, barSizeSetting, whatToShow, useRTH, formatDate, keepUpToDate, chartOptions, timeout)\u001b[0m\n\u001b[1;32m   1068\u001b[0m                 \u001b[0mindefinitely\u001b[0m\u001b[0;34m.\u001b[0m\u001b[0;34m\u001b[0m\u001b[0;34m\u001b[0m\u001b[0m\n\u001b[1;32m   1069\u001b[0m         \"\"\"\n\u001b[0;32m-> 1070\u001b[0;31m         return self._run(\n\u001b[0m\u001b[1;32m   1071\u001b[0m             self.reqHistoricalDataAsync(\n\u001b[1;32m   1072\u001b[0m                 \u001b[0mcontract\u001b[0m\u001b[0;34m,\u001b[0m \u001b[0mendDateTime\u001b[0m\u001b[0;34m,\u001b[0m \u001b[0mdurationStr\u001b[0m\u001b[0;34m,\u001b[0m \u001b[0mbarSizeSetting\u001b[0m\u001b[0;34m,\u001b[0m \u001b[0mwhatToShow\u001b[0m\u001b[0;34m,\u001b[0m\u001b[0;34m\u001b[0m\u001b[0;34m\u001b[0m\u001b[0m\n",
            "\u001b[0;32m/usr/local/lib/python3.11/dist-packages/ib_insync/ib.py\u001b[0m in \u001b[0;36m_run\u001b[0;34m(self, *awaitables)\u001b[0m\n\u001b[1;32m    316\u001b[0m \u001b[0;34m\u001b[0m\u001b[0m\n\u001b[1;32m    317\u001b[0m     \u001b[0;32mdef\u001b[0m \u001b[0m_run\u001b[0m\u001b[0;34m(\u001b[0m\u001b[0mself\u001b[0m\u001b[0;34m,\u001b[0m \u001b[0;34m*\u001b[0m\u001b[0mawaitables\u001b[0m\u001b[0;34m:\u001b[0m \u001b[0mAwaitable\u001b[0m\u001b[0;34m)\u001b[0m\u001b[0;34m:\u001b[0m\u001b[0;34m\u001b[0m\u001b[0;34m\u001b[0m\u001b[0m\n\u001b[0;32m--> 318\u001b[0;31m         \u001b[0;32mreturn\u001b[0m \u001b[0mutil\u001b[0m\u001b[0;34m.\u001b[0m\u001b[0mrun\u001b[0m\u001b[0;34m(\u001b[0m\u001b[0;34m*\u001b[0m\u001b[0mawaitables\u001b[0m\u001b[0;34m,\u001b[0m \u001b[0mtimeout\u001b[0m\u001b[0;34m=\u001b[0m\u001b[0mself\u001b[0m\u001b[0;34m.\u001b[0m\u001b[0mRequestTimeout\u001b[0m\u001b[0;34m)\u001b[0m\u001b[0;34m\u001b[0m\u001b[0;34m\u001b[0m\u001b[0m\n\u001b[0m\u001b[1;32m    319\u001b[0m \u001b[0;34m\u001b[0m\u001b[0m\n\u001b[1;32m    320\u001b[0m     \u001b[0;32mdef\u001b[0m \u001b[0mwaitOnUpdate\u001b[0m\u001b[0;34m(\u001b[0m\u001b[0mself\u001b[0m\u001b[0;34m,\u001b[0m \u001b[0mtimeout\u001b[0m\u001b[0;34m:\u001b[0m \u001b[0mfloat\u001b[0m \u001b[0;34m=\u001b[0m \u001b[0;36m0\u001b[0m\u001b[0;34m)\u001b[0m \u001b[0;34m->\u001b[0m \u001b[0mbool\u001b[0m\u001b[0;34m:\u001b[0m\u001b[0;34m\u001b[0m\u001b[0;34m\u001b[0m\u001b[0m\n",
            "\u001b[0;32m/usr/local/lib/python3.11/dist-packages/ib_insync/util.py\u001b[0m in \u001b[0;36mrun\u001b[0;34m(timeout, *awaitables)\u001b[0m\n\u001b[1;32m    339\u001b[0m         \u001b[0mglobalErrorEvent\u001b[0m\u001b[0;34m.\u001b[0m\u001b[0mconnect\u001b[0m\u001b[0;34m(\u001b[0m\u001b[0monError\u001b[0m\u001b[0;34m)\u001b[0m\u001b[0;34m\u001b[0m\u001b[0;34m\u001b[0m\u001b[0m\n\u001b[1;32m    340\u001b[0m         \u001b[0;32mtry\u001b[0m\u001b[0;34m:\u001b[0m\u001b[0;34m\u001b[0m\u001b[0;34m\u001b[0m\u001b[0m\n\u001b[0;32m--> 341\u001b[0;31m             \u001b[0mresult\u001b[0m \u001b[0;34m=\u001b[0m \u001b[0mloop\u001b[0m\u001b[0;34m.\u001b[0m\u001b[0mrun_until_complete\u001b[0m\u001b[0;34m(\u001b[0m\u001b[0mtask\u001b[0m\u001b[0;34m)\u001b[0m\u001b[0;34m\u001b[0m\u001b[0;34m\u001b[0m\u001b[0m\n\u001b[0m\u001b[1;32m    342\u001b[0m         \u001b[0;32mexcept\u001b[0m \u001b[0masyncio\u001b[0m\u001b[0;34m.\u001b[0m\u001b[0mCancelledError\u001b[0m \u001b[0;32mas\u001b[0m \u001b[0me\u001b[0m\u001b[0;34m:\u001b[0m\u001b[0;34m\u001b[0m\u001b[0;34m\u001b[0m\u001b[0m\n\u001b[1;32m    343\u001b[0m             \u001b[0;32mraise\u001b[0m \u001b[0mglobalErrorEvent\u001b[0m\u001b[0;34m.\u001b[0m\u001b[0mvalue\u001b[0m\u001b[0;34m(\u001b[0m\u001b[0;34m)\u001b[0m \u001b[0;32mor\u001b[0m \u001b[0me\u001b[0m\u001b[0;34m\u001b[0m\u001b[0;34m\u001b[0m\u001b[0m\n",
            "\u001b[0;32m/usr/local/lib/python3.11/dist-packages/nest_asyncio.py\u001b[0m in \u001b[0;36mrun_until_complete\u001b[0;34m(self, future)\u001b[0m\n\u001b[1;32m     90\u001b[0m                 \u001b[0mf\u001b[0m\u001b[0;34m.\u001b[0m\u001b[0m_log_destroy_pending\u001b[0m \u001b[0;34m=\u001b[0m \u001b[0;32mFalse\u001b[0m\u001b[0;34m\u001b[0m\u001b[0;34m\u001b[0m\u001b[0m\n\u001b[1;32m     91\u001b[0m             \u001b[0;32mwhile\u001b[0m \u001b[0;32mnot\u001b[0m \u001b[0mf\u001b[0m\u001b[0;34m.\u001b[0m\u001b[0mdone\u001b[0m\u001b[0;34m(\u001b[0m\u001b[0;34m)\u001b[0m\u001b[0;34m:\u001b[0m\u001b[0;34m\u001b[0m\u001b[0;34m\u001b[0m\u001b[0m\n\u001b[0;32m---> 92\u001b[0;31m                 \u001b[0mself\u001b[0m\u001b[0;34m.\u001b[0m\u001b[0m_run_once\u001b[0m\u001b[0;34m(\u001b[0m\u001b[0;34m)\u001b[0m\u001b[0;34m\u001b[0m\u001b[0;34m\u001b[0m\u001b[0m\n\u001b[0m\u001b[1;32m     93\u001b[0m                 \u001b[0;32mif\u001b[0m \u001b[0mself\u001b[0m\u001b[0;34m.\u001b[0m\u001b[0m_stopping\u001b[0m\u001b[0;34m:\u001b[0m\u001b[0;34m\u001b[0m\u001b[0;34m\u001b[0m\u001b[0m\n\u001b[1;32m     94\u001b[0m                     \u001b[0;32mbreak\u001b[0m\u001b[0;34m\u001b[0m\u001b[0;34m\u001b[0m\u001b[0m\n",
            "\u001b[0;32m/usr/local/lib/python3.11/dist-packages/nest_asyncio.py\u001b[0m in \u001b[0;36m_run_once\u001b[0;34m(self)\u001b[0m\n\u001b[1;32m    113\u001b[0m                 scheduled[0]._when - self.time(), 0), 86400) if scheduled\n\u001b[1;32m    114\u001b[0m             else None)\n\u001b[0;32m--> 115\u001b[0;31m         \u001b[0mevent_list\u001b[0m \u001b[0;34m=\u001b[0m \u001b[0mself\u001b[0m\u001b[0;34m.\u001b[0m\u001b[0m_selector\u001b[0m\u001b[0;34m.\u001b[0m\u001b[0mselect\u001b[0m\u001b[0;34m(\u001b[0m\u001b[0mtimeout\u001b[0m\u001b[0;34m)\u001b[0m\u001b[0;34m\u001b[0m\u001b[0;34m\u001b[0m\u001b[0m\n\u001b[0m\u001b[1;32m    116\u001b[0m         \u001b[0mself\u001b[0m\u001b[0;34m.\u001b[0m\u001b[0m_process_events\u001b[0m\u001b[0;34m(\u001b[0m\u001b[0mevent_list\u001b[0m\u001b[0;34m)\u001b[0m\u001b[0;34m\u001b[0m\u001b[0;34m\u001b[0m\u001b[0m\n\u001b[1;32m    117\u001b[0m \u001b[0;34m\u001b[0m\u001b[0m\n",
            "\u001b[0;32m/usr/lib/python3.11/selectors.py\u001b[0m in \u001b[0;36mselect\u001b[0;34m(self, timeout)\u001b[0m\n\u001b[1;32m    466\u001b[0m             \u001b[0mready\u001b[0m \u001b[0;34m=\u001b[0m \u001b[0;34m[\u001b[0m\u001b[0;34m]\u001b[0m\u001b[0;34m\u001b[0m\u001b[0;34m\u001b[0m\u001b[0m\n\u001b[1;32m    467\u001b[0m             \u001b[0;32mtry\u001b[0m\u001b[0;34m:\u001b[0m\u001b[0;34m\u001b[0m\u001b[0;34m\u001b[0m\u001b[0m\n\u001b[0;32m--> 468\u001b[0;31m                 \u001b[0mfd_event_list\u001b[0m \u001b[0;34m=\u001b[0m \u001b[0mself\u001b[0m\u001b[0;34m.\u001b[0m\u001b[0m_selector\u001b[0m\u001b[0;34m.\u001b[0m\u001b[0mpoll\u001b[0m\u001b[0;34m(\u001b[0m\u001b[0mtimeout\u001b[0m\u001b[0;34m,\u001b[0m \u001b[0mmax_ev\u001b[0m\u001b[0;34m)\u001b[0m\u001b[0;34m\u001b[0m\u001b[0;34m\u001b[0m\u001b[0m\n\u001b[0m\u001b[1;32m    469\u001b[0m             \u001b[0;32mexcept\u001b[0m \u001b[0mInterruptedError\u001b[0m\u001b[0;34m:\u001b[0m\u001b[0;34m\u001b[0m\u001b[0;34m\u001b[0m\u001b[0m\n\u001b[1;32m    470\u001b[0m                 \u001b[0;32mreturn\u001b[0m \u001b[0mready\u001b[0m\u001b[0;34m\u001b[0m\u001b[0;34m\u001b[0m\u001b[0m\n",
            "\u001b[0;31mKeyboardInterrupt\u001b[0m: "
          ]
        }
      ]
    },
    {
      "cell_type": "code",
      "source": [
        "# Calculate straddle returns\n",
        "straddle_returns = calculate_straddle_returns(sp500_option_prices)"
      ],
      "metadata": {
        "id": "j1NXPkj0rsaj"
      },
      "execution_count": null,
      "outputs": []
    },
    {
      "cell_type": "code",
      "execution_count": null,
      "metadata": {
        "id": "z3DDksZhXim0"
      },
      "outputs": [],
      "source": [
        "# Rank straddle returns\n",
        "ranked_returns = rank_straddle_return(straddle_returns)"
      ]
    },
    {
      "cell_type": "code",
      "source": [
        "# Get contracts for the next day\n",
        "short_contracts, long_contracts = get_contracts_for_short_long(ranked_returns, sp500_option_chains)\n"
      ],
      "metadata": {
        "id": "86og4HaTsRgw"
      },
      "execution_count": null,
      "outputs": []
    },
    {
      "cell_type": "markdown",
      "metadata": {
        "id": "WMevS_JrJzke"
      },
      "source": [
        "## **MANAGE TRADES**"
      ]
    },
    {
      "cell_type": "markdown",
      "source": [
        "### **FUNCTIONS**"
      ],
      "metadata": {
        "id": "Hj2nJqhklHMl"
      }
    },
    {
      "cell_type": "markdown",
      "source": [
        "#### **OPTIONS CONTRACTS**"
      ],
      "metadata": {
        "id": "GtGebbiTNuTG"
      }
    },
    {
      "cell_type": "code",
      "source": [
        "def generate_options_contracts(ib, contracts):\n",
        "    \"\"\"\n",
        "    Open (BUY or SELL) straddle positions for the given tickers.\n",
        "\n",
        "    Args:\n",
        "        ib (IB instance): The IBKR connection object.\n",
        "        contracts (pd.DataFrame): DataFrame of straddles to trade in the format:\n",
        "                          col = ticker, rows = ['expiration', 'strike']\n",
        "    Returns:\n",
        "       pd.DataFrame: DataFrame of straddles to trade in the format:\n",
        "                          col = ticker, rows = ['call', 'put'], value = Option Contract.\n",
        "    \"\"\"\n",
        "\n",
        "    # Contract options\n",
        "    options_contracts = {}\n",
        "    for ticker in contracts.keys():\n",
        "      expiration = contracts[ticker][\"expiration\"]\n",
        "      atm_strike = contracts[ticker][\"strike\"]\n",
        "      options_contracts[ticker] = {\n",
        "          'call': Option(symbol=ticker, lastTradeDateOrContractMonth=expiration, strike=atm_strike, right='C', exchange='SMART'),\n",
        "          'put': Option(symbol=ticker, lastTradeDateOrContractMonth=expiration, strike=atm_strike, right='P', exchange='SMART'),\n",
        "      }\n",
        "\n",
        "    return pd.DataFrame.from_dict(options_contracts)"
      ],
      "metadata": {
        "id": "TGDox0ZUv9PJ"
      },
      "execution_count": null,
      "outputs": []
    },
    {
      "cell_type": "markdown",
      "source": [
        "#### **OPEN POSITIONS**"
      ],
      "metadata": {
        "id": "A40ryOEQNzKD"
      }
    },
    {
      "cell_type": "code",
      "execution_count": null,
      "metadata": {
        "id": "YPPhS1U60TTJ"
      },
      "outputs": [],
      "source": [
        "def open_straddle_positions(ib, straddles, action):\n",
        "    \"\"\"\n",
        "    Open (BUY or SELL) straddle positions for the given tickers.\n",
        "\n",
        "    Args:\n",
        "        ib (IB instance): The IBKR connection object.\n",
        "        straddles (pd.DataFrame): DataFrame of straddles to trade in the format:\n",
        "                          col = ticker, rows = ['call', 'put'], value = Option Contract.\n",
        "        action (str): 'BUY' for long straddle, 'SELL' for short straddle.\n",
        "    \"\"\"\n",
        "    if action not in ['BUY', 'SELL']:\n",
        "        raise ValueError(\"Action must be 'BUY' or 'SELL'.\")\n",
        "\n",
        "    for ticker in straddles.keys():\n",
        "        call_contract = straddles.loc['call', ticker]\n",
        "        put_contract = straddles.loc['put', ticker]\n",
        "\n",
        "        # Ensure contracts are valid\n",
        "        ib.qualifyContracts(call_contract, put_contract)\n",
        "\n",
        "        # Place market orders to buy the call and the put\n",
        "        call_order = MarketOrder(action, 1)\n",
        "        put_order = MarketOrder(action, 1)\n",
        "\n",
        "        # Submit orders\n",
        "        ib.placeOrder(call_contract, call_order)\n",
        "        ib.placeOrder(put_contract, put_order)\n",
        "\n",
        "        print(f\"Opened straddle for {ticker}: Call and Put orders placed.\")\n"
      ]
    },
    {
      "cell_type": "markdown",
      "source": [
        "#### **CLOSE ALL POSITIONS**"
      ],
      "metadata": {
        "id": "0Vr_MRefN48_"
      }
    },
    {
      "cell_type": "code",
      "execution_count": null,
      "metadata": {
        "id": "5b7E7tg8GY1n"
      },
      "outputs": [],
      "source": [
        "def close_all_positions(ib):\n",
        "    \"\"\"\n",
        "    Close all open positions in the account.\n",
        "    \"\"\"\n",
        "    positions = ib.positions()\n",
        "    for position in positions:\n",
        "        contract = position.contract\n",
        "        quantity = position.position\n",
        "\n",
        "        # Close the position by placing a market order in the opposite direction\n",
        "        if quantity > 0:\n",
        "            close_order = MarketOrder('SELL', quantity)\n",
        "        else:\n",
        "            close_order = MarketOrder('BUY', abs(quantity))\n",
        "\n",
        "        ib.placeOrder(contract, close_order)\n",
        "        print(f\"Closed position for {contract.localSymbol}.\")\n"
      ]
    },
    {
      "cell_type": "markdown",
      "source": [
        "### **EXECUTION**"
      ],
      "metadata": {
        "id": "r8nnDlH0r5b1"
      }
    },
    {
      "cell_type": "code",
      "source": [
        "# Generate options objects\n",
        "long_straddle = generate_options_contracts(ib, long_contracts)\n",
        "short_straddle = generate_options_contracts(ib, short_contracts)"
      ],
      "metadata": {
        "id": "PPr6moNSwrmc"
      },
      "execution_count": null,
      "outputs": []
    },
    {
      "cell_type": "code",
      "source": [
        "# Open short and long positions 5 minutes after the openning (9:35 US MARKET HOURS)\n",
        "open_straddle_positions(ib, long_straddle, 'BUY')\n",
        "print(\"All long straddles placed.\")\n",
        "open_straddle_positions(ib, short_straddle, 'SELL')\n",
        "print(\"All short straddles opened.\")"
      ],
      "metadata": {
        "colab": {
          "base_uri": "https://localhost:8080/"
        },
        "collapsed": true,
        "id": "WH4YaZxEsGHU",
        "outputId": "4a06b58a-7c19-425f-d942-1c718eb83e53"
      },
      "execution_count": null,
      "outputs": [
        {
          "output_type": "stream",
          "name": "stdout",
          "text": [
            "Opened straddle for T: Call and Put orders placed.\n",
            "Opened straddle for HPE: Call and Put orders placed.\n",
            "Opened straddle for FE: Call and Put orders placed.\n",
            "Opened straddle for BMY: Call and Put orders placed.\n",
            "Opened straddle for CSX: Call and Put orders placed.\n",
            "Opened straddle for BALL: Call and Put orders placed.\n",
            "Opened straddle for FOXA: Call and Put orders placed.\n",
            "Opened straddle for EQT: Call and Put orders placed.\n",
            "Opened straddle for GEN: Call and Put orders placed.\n",
            "Opened straddle for HAS: Call and Put orders placed.\n",
            "Opened straddle for FCX: Call and Put orders placed.\n",
            "Opened straddle for CTVA: Call and Put orders placed.\n",
            "Opened straddle for CSCO: Call and Put orders placed.\n",
            "Opened straddle for CNC: Call and Put orders placed.\n",
            "Opened straddle for CZR: Call and Put orders placed.\n",
            "Opened straddle for FOX: Call and Put orders placed.\n",
            "Opened straddle for CTSH: Call and Put orders placed.\n",
            "Opened straddle for DAL: Call and Put orders placed.\n",
            "Opened straddle for CCL: Call and Put orders placed.\n",
            "Opened straddle for HPQ: Call and Put orders placed.\n",
            "Opened straddle for D: Call and Put orders placed.\n",
            "Opened straddle for HAL: Call and Put orders placed.\n",
            "Opened straddle for EBAY: Call and Put orders placed.\n",
            "Opened straddle for APTV: Call and Put orders placed.\n",
            "Opened straddle for GLW: Call and Put orders placed.\n",
            "Opened straddle for GPN: Call and Put orders placed.\n",
            "Opened straddle for AME: Call and Put orders placed.\n",
            "Opened straddle for ALGN: Call and Put orders placed.\n",
            "Opened straddle for CHTR: Call and Put orders placed.\n",
            "Opened straddle for BSX: Call and Put orders placed.\n",
            "Opened straddle for AIG: Call and Put orders placed.\n",
            "Opened straddle for EVRG: Call and Put orders placed.\n",
            "Opened straddle for COF: Call and Put orders placed.\n",
            "Opened straddle for ITW: Call and Put orders placed.\n",
            "Opened straddle for GEHC: Call and Put orders placed.\n",
            "Opened straddle for CL: Call and Put orders placed.\n",
            "Opened straddle for ED: Call and Put orders placed.\n",
            "Opened straddle for DVN: Call and Put orders placed.\n",
            "Opened straddle for DLR: Call and Put orders placed.\n",
            "Opened straddle for ESS: Call and Put orders placed.\n",
            "Opened straddle for EMR: Call and Put orders placed.\n",
            "Opened straddle for CARR: Call and Put orders placed.\n",
            "Opened straddle for ADBE: Call and Put orders placed.\n",
            "Opened straddle for EXC: Call and Put orders placed.\n",
            "Opened straddle for CPRT: Call and Put orders placed.\n",
            "Opened straddle for DELL: Call and Put orders placed.\n",
            "Opened straddle for FDS: Call and Put orders placed.\n",
            "Opened straddle for FRT: Call and Put orders placed.\n",
            "Opened straddle for DXCM: Call and Put orders placed.\n",
            "Opened straddle for BK: Call and Put orders placed.\n",
            "All long straddles placed.\n",
            "Opened straddle for AFL: Call and Put orders placed.\n",
            "Opened straddle for MMM: Call and Put orders placed.\n",
            "Opened straddle for ALLE: Call and Put orders placed.\n",
            "Opened straddle for HIG: Call and Put orders placed.\n",
            "Opened straddle for CE: Call and Put orders placed.\n",
            "Opened straddle for DG: Call and Put orders placed.\n",
            "Opened straddle for CDNS: Call and Put orders placed.\n",
            "Opened straddle for HON: Call and Put orders placed.\n",
            "Opened straddle for BX: Call and Put orders placed.\n",
            "Opened straddle for HBAN: Call and Put orders placed.\n",
            "Opened straddle for BBY: Call and Put orders placed.\n",
            "Opened straddle for HWM: Call and Put orders placed.\n",
            "Opened straddle for CPAY: Call and Put orders placed.\n",
            "Opened straddle for AMZN: Call and Put orders placed.\n",
            "Opened straddle for APD: Call and Put orders placed.\n",
            "Opened straddle for ADM: Call and Put orders placed.\n",
            "Opened straddle for CCI: Call and Put orders placed.\n",
            "Opened straddle for AON: Call and Put orders placed.\n",
            "Opened straddle for BLDR: Call and Put orders placed.\n",
            "Opened straddle for IR: Call and Put orders placed.\n",
            "Opened straddle for BR: Call and Put orders placed.\n",
            "Opened straddle for ABNB: Call and Put orders placed.\n",
            "Opened straddle for FI: Call and Put orders placed.\n",
            "Opened straddle for BA: Call and Put orders placed.\n",
            "Opened straddle for AOS: Call and Put orders placed.\n",
            "Opened straddle for CPB: Call and Put orders placed.\n",
            "Opened straddle for CDW: Call and Put orders placed.\n",
            "Opened straddle for GOOG: Call and Put orders placed.\n",
            "Opened straddle for BG: Call and Put orders placed.\n",
            "Opened straddle for CMS: Call and Put orders placed.\n",
            "Opened straddle for CVX: Call and Put orders placed.\n",
            "Opened straddle for DD: Call and Put orders placed.\n",
            "Opened straddle for APH: Call and Put orders placed.\n",
            "Opened straddle for FAST: Call and Put orders placed.\n",
            "Opened straddle for HII: Call and Put orders placed.\n",
            "Opened straddle for BDX: Call and Put orders placed.\n",
            "Opened straddle for BAC: Call and Put orders placed.\n",
            "Opened straddle for BXP: Call and Put orders placed.\n",
            "Opened straddle for CAH: Call and Put orders placed.\n",
            "Opened straddle for ECL: Call and Put orders placed.\n",
            "Opened straddle for ACGL: Call and Put orders placed.\n",
            "Opened straddle for AVY: Call and Put orders placed.\n",
            "Opened straddle for DHI: Call and Put orders placed.\n",
            "Opened straddle for BAX: Call and Put orders placed.\n",
            "Opened straddle for XOM: Call and Put orders placed.\n",
            "Opened straddle for CF: Call and Put orders placed.\n",
            "Opened straddle for FTNT: Call and Put orders placed.\n",
            "Opened straddle for DOW: Call and Put orders placed.\n",
            "Opened straddle for F: Call and Put orders placed.\n",
            "Opened straddle for HRL: Call and Put orders placed.\n",
            "All short straddles opened.\n"
          ]
        }
      ]
    },
    {
      "cell_type": "code",
      "source": [
        "# Close all positions 25 minutes after openning trades (10:00 US MARKET HOURS)\n",
        "close_all_positions(ib)"
      ],
      "metadata": {
        "colab": {
          "base_uri": "https://localhost:8080/"
        },
        "collapsed": true,
        "id": "bmxnTAq7y3zs",
        "outputId": "92d101cc-ca2d-40d1-ddb5-ee0715bc3ab6"
      },
      "execution_count": null,
      "outputs": [
        {
          "output_type": "stream",
          "name": "stdout",
          "text": [
            "Closed position for ALLE  250321C00130000.\n",
            "Closed position for ARE   250321C00100000.\n",
            "Closed position for T     250307P00024000.\n",
            "Closed position for AEE   250321P00095000.\n",
            "Closed position for BX    250307C00190000.\n",
            "Closed position for APH   250321P00070000.\n",
            "Closed position for AMGN  250228C00280000.\n",
            "Closed position for CPT   250321C00110000.\n",
            "Closed position for ADP   250228C00305000.\n",
            "Closed position for BK    250307P00087000.\n",
            "Closed position for BK    250228P00086000.\n",
            "Closed position for TECH  250321C00075000.\n",
            "Closed position for MO    250228P00053000.\n",
            "Closed position for ABT   250228P00128000.\n",
            "Closed position for SCHW  250307P00082000.\n",
            "Closed position for AFL   250228C00107000.\n",
            "Closed position for CNC   250228P00065000.\n",
            "Closed position for ATO   250321C00140000.\n",
            "Closed position for BDX   250321P00250000.\n",
            "Closed position for BBY   250228C00087000.\n",
            "Closed position for AFL   250228P00107000.\n",
            "Closed position for ADM   250228P00051000.\n",
            "Closed position for BMY   250307C00059000.\n",
            "Closed position for BBY   250228P00087000.\n",
            "Closed position for BWA   250321C00035000.\n",
            "Closed position for AEE   250321C00095000.\n",
            "Closed position for CZR   250307C00036000.\n",
            "Closed position for ARE   250321P00100000.\n",
            "Closed position for ALB   250228P00086000.\n",
            "Closed position for BAC   250228P00047000.\n",
            "Closed position for ALGN  250228C00225000.\n",
            "Closed position for ADP   250228P00305000.\n",
            "Closed position for CZR   250228C00036000.\n",
            "Closed position for BAX   250228C00033000.\n",
            "Closed position for BLK   250228C01050000.\n",
            "Closed position for BSX   250228P00103000.\n",
            "Closed position for MO    250228C00053000.\n",
            "Closed position for ABBV  250307C00175000.\n",
            "Closed position for AXP   250228P00315000.\n",
            "Closed position for CPT   250321C00115000.\n",
            "Closed position for AIG   250228C00075000.\n",
            "Closed position for ANSS  250321C00350000.\n",
            "Closed position for CZR   250228P00036000.\n",
            "Closed position for BALL  250321C00055000.\n",
            "Closed position for ABBV  250307P00175000.\n",
            "Closed position for BMY   250228P00059000.\n",
            "Closed position for BLDR  250321C00170000.\n",
            "Closed position for TECH  250321P00075000.\n",
            "Closed position for ACN   250228C00380000.\n",
            "Closed position for ACN   250228P00380000.\n",
            "Closed position for BAC   250228C00047000.\n",
            "Closed position for T     250307C00024000.\n",
            "Closed position for T     250228C00025000.\n",
            "Closed position for AXP   250228C00315000.\n",
            "Closed position for A     250321C00150000.\n",
            "Closed position for APD   250321P00330000.\n",
            "Closed position for GOOG  250228P00195000.\n",
            "Closed position for AON   250321P00370000.\n",
            "Closed position for ADM   250228C00051000.\n",
            "Closed position for LNT   250321C00060000.\n",
            "Closed position for SCHW  250307C00082000.\n",
            "Closed position for ACGL  250321P00095000.\n",
            "Closed position for AAPL  250307C00240000.\n",
            "Closed position for APD   250321C00330000.\n",
            "Closed position for ADI   250228C00210000.\n",
            "Closed position for AIG   250228P00075000.\n",
            "Closed position for GOOG  250307C00200000.\n",
            "Closed position for BWA   250321P00035000.\n",
            "Closed position for ANSS  250321P00350000.\n",
            "Closed position for ATO   250321P00140000.\n",
            "Closed position for BWA   250321C00030000.\n",
            "Closed position for CCL   250307C00028000.\n",
            "Closed position for BALL  250321P00055000.\n",
            "Closed position for BMY   250307P00059000.\n",
            "Closed position for COR   250321P00260000.\n",
            "Closed position for APH   250321C00070000.\n",
            "Closed position for T     250228P00025000.\n",
            "Closed position for ADI   250228P00210000.\n",
            "Closed position for ABT   250228C00128000.\n",
            "Closed position for MO    250307P00051000.\n",
            "Closed position for BDX   250321C00250000.\n",
            "Closed position for APA   250228C00023000.\n",
            "Closed position for LNT   250321P00060000.\n",
            "Closed position for AMGN  250228P00280000.\n",
            "Closed position for BSX   250228C00103000.\n",
            "Closed position for ADBE  250307P00440000.\n",
            "Closed position for CNC   250228C00065000.\n",
            "Closed position for BAX   250307C00033000.\n",
            "Closed position for AXP   250307P00315000.\n",
            "Closed position for BMY   250228C00059000.\n",
            "Closed position for AIG   250307C00076000.\n",
            "Closed position for AES   250321C00011000.\n",
            "Closed position for AJG   250321C00300000.\n",
            "Closed position for CPT   250321P00110000.\n",
            "Closed position for ACN   250228P00370000.\n",
            "Closed position for GOOGL 250228C00195000.\n",
            "Closed position for GOOG  250307P00200000.\n",
            "Closed position for BWA   250321P00030000.\n",
            "Closed position for BX    250228P00185000.\n",
            "Closed position for BLK   250228P01050000.\n",
            "Closed position for AIG   250307P00076000.\n",
            "Closed position for AMP   250321P00570000.\n",
            "Closed position for ABNB  250228C00131000.\n",
            "Closed position for AAPL  250307P00240000.\n",
            "Closed position for ADBE  250307C00440000.\n",
            "Closed position for ADBE  250228P00440000.\n",
            "Closed position for CZR   250307P00036000.\n",
            "Closed position for CPB   250307C00039000.\n",
            "Closed position for BKR   250321P00044000.\n",
            "Closed position for ADSK  250307C00305000.\n",
            "Closed position for A     250321P00150000.\n",
            "Closed position for AJG   250321P00300000.\n",
            "Closed position for AES   250321P00011000.\n",
            "Closed position for BSX   250307C00104000.\n",
            "Closed position for CAH   250307P00126000.\n",
            "Closed position for CPT   250321P00115000.\n",
            "Closed position for BAX   250228P00033000.\n",
            "Closed position for BLDR  250321P00170000.\n",
            "Closed position for GOOGL 250228P00195000.\n",
            "Closed position for MO    250307C00051000.\n",
            "Closed position for ACGL  250321C00095000.\n",
            "Closed position for BK    250307C00087000.\n",
            "Closed position for ABT   250307P00128000.\n",
            "Closed position for BSX   250307P00104000.\n",
            "Closed position for ACN   250228C00370000.\n",
            "Closed position for ABNB  250228P00131000.\n",
            "Closed position for ALB   250228C00086000.\n",
            "Closed position for CCL   250307P00028000.\n",
            "Closed position for COF   250307P00205000.\n",
            "Closed position for AMCR  250321P00010000.\n",
            "Closed position for APA   250228P00023000.\n",
            "Closed position for BAX   250307P00033000.\n",
            "Closed position for ADSK  250307P00305000.\n",
            "Closed position for CAH   250307C00126000.\n",
            "Closed position for BX    250228C00185000.\n",
            "Closed position for AMP   250321C00570000.\n",
            "Closed position for CPB   250228P00039000.\n",
            "Closed position for ABT   250307C00128000.\n",
            "Closed position for GOOG  250228C00195000.\n",
            "Closed position for AON   250321C00370000.\n",
            "Closed position for AXP   250307C00315000.\n",
            "Closed position for ALLE  250321P00130000.\n",
            "Closed position for AMCR  250321C00010000.\n",
            "Closed position for COR   250321C00260000.\n",
            "Closed position for COF   250307C00205000.\n",
            "Closed position for ALGN  250228P00225000.\n",
            "Closed position for CPB   250307P00039000.\n",
            "Closed position for BK    250228C00086000.\n",
            "Closed position for CPB   250228C00039000.\n",
            "Closed position for ADBE  250228C00440000.\n",
            "Closed position for BKR   250321C00044000.\n",
            "Closed position for BX    250307P00190000.\n",
            "Closed position for T     250314C00025000.\n",
            "Closed position for T     250314P00025000.\n",
            "Closed position for HPE   250314C00021000.\n",
            "Closed position for HPE   250314P00021000.\n",
            "Closed position for FE    250321C00040000.\n",
            "Closed position for BMY   250314C00057000.\n",
            "Closed position for CSX   250314C00033000.\n",
            "Closed position for DAL   250314P00068000.\n",
            "Closed position for DAL   250314C00068000.\n",
            "Closed position for CSCO  250314C00062000.\n",
            "Closed position for CSCO  250314P00062000.\n",
            "Closed position for CCL   250314P00027000.\n",
            "Closed position for CSX   250314P00033000.\n",
            "Closed position for CTSH  250321C00085000.\n",
            "Closed position for CCL   250314C00027000.\n",
            "Closed position for CNC   250314C00059000.\n",
            "Closed position for CZR   250314C00036000.\n",
            "Closed position for CTVA  250321C00060000.\n",
            "Closed position for D     250321C00055000.\n",
            "Closed position for D     250321P00055000.\n",
            "Closed position for ITW   250321P00260000.\n",
            "Closed position for ITW   250321C00260000.\n",
            "Closed position for EQT   250314P00051000.\n",
            "Closed position for GLW   250314P00053000.\n",
            "Closed position for GLW   250314C00053000.\n",
            "Closed position for ED    250321P00095000.\n",
            "Closed position for BSX   250314P00105000.\n",
            "Closed position for HPQ   250314C00032000.\n",
            "Closed position for FCX   250314C00038000.\n",
            "Closed position for EMR   250314C00124000.\n",
            "Closed position for HAL   250314P00025000.\n",
            "Closed position for FE    250321P00040000.\n",
            "Closed position for FCX   250314P00038000.\n",
            "Closed position for GPN   250321C00110000.\n",
            "Closed position for COF   250314C00205000.\n",
            "Closed position for BALL  250321P00050000.\n",
            "Closed position for CPRT  250321C00060000.\n",
            "Closed position for CPRT  250321P00060000.\n",
            "Closed position for BALL  250321C00050000.\n",
            "Closed position for FOXA  250314P00053000.\n",
            "Closed position for HAS   250321P00060000.\n",
            "Closed position for ED    250321C00095000.\n",
            "Closed position for HAL   250314C00025000.\n",
            "Closed position for EVRG  250321C00065000.\n",
            "Closed position for CHTR  250314P00350000.\n",
            "Closed position for CHTR  250314C00350000.\n",
            "Closed position for BMY   250314P00057000.\n",
            "Closed position for ESS   250321C00290000.\n",
            "Closed position for CL    250314P00087000.\n",
            "Closed position for CTSH  250321P00085000.\n",
            "Closed position for COF   250314P00205000.\n",
            "Closed position for GEN   250321C00028000.\n",
            "Closed position for ESS   250321P00290000.\n",
            "Closed position for EVRG  250321P00065000.\n",
            "Closed position for GPN   250321P00110000.\n",
            "Closed position for HAS   250321C00060000.\n",
            "Closed position for CL    250314C00087000.\n",
            "Closed position for CZR   250314P00036000.\n",
            "Closed position for GEHC  250314P00088000.\n",
            "Closed position for EQT   250314C00051000.\n",
            "Closed position for GEN   250321P00028000.\n",
            "Closed position for EBAY  250314C00068000.\n",
            "Closed position for HPQ   250314P00032000.\n",
            "Closed position for DVN   250314C00033000.\n",
            "Closed position for DELL  250314P00106000.\n",
            "Closed position for MMM   250314P00150000.\n",
            "Closed position for MMM   250314C00150000.\n",
            "Closed position for DVN   250314P00033000.\n",
            "Closed position for DLR   250314P00170000.\n",
            "Closed position for EBAY  250314P00068000.\n",
            "Closed position for GEHC  250314C00088000.\n",
            "Closed position for DLR   250314C00170000.\n",
            "Closed position for ADBE  250314C00435000.\n",
            "Closed position for ADBE  250314P00435000.\n",
            "Closed position for AIG   250314P00075000.\n",
            "Closed position for ALGN  250314P00210000.\n",
            "Closed position for AFL   250314C00104000.\n",
            "Closed position for AFL   250314P00104000.\n",
            "Closed position for EXC   250321C00041000.\n",
            "Closed position for FRT   250321C00110000.\n",
            "Closed position for CDNS  250321C00300000.\n",
            "Closed position for EXC   250321P00041000.\n",
            "Closed position for ALGN  250314C00210000.\n",
            "Closed position for FDS   250321P00470000.\n",
            "Closed position for FDS   250321C00470000.\n",
            "Closed position for AIG   250314C00075000.\n",
            "Closed position for APD   250321P00310000.\n",
            "Closed position for DELL  250314C00106000.\n",
            "Closed position for AMZN  250314C00230000.\n",
            "Closed position for DXCM  250314P00088000.\n",
            "Closed position for DXCM  250314C00088000.\n",
            "Closed position for IR    250321P00090000.\n",
            "Closed position for IR    250321C00090000.\n",
            "Closed position for CDNS  250321P00300000.\n",
            "Closed position for CCI   250321P00090000.\n",
            "Closed position for CCI   250321C00090000.\n",
            "Closed position for AMZN  250314P00230000.\n",
            "Closed position for BSX   250314C00105000.\n",
            "Closed position for APD   250321C00310000.\n",
            "Closed position for AOS   250321P00065000.\n",
            "Closed position for AON   250321P00390000.\n",
            "Closed position for AOS   250321C00065000.\n",
            "Closed position for AON   250321C00390000.\n",
            "Closed position for ADM   250314P00046000.\n",
            "Closed position for GOOG  250314P00185000.\n",
            "Closed position for GOOG  250314C00185000.\n",
            "Closed position for BBY   250314P00085000.\n",
            "Closed position for HWM   250314C00128000.\n",
            "Closed position for HIG   250321C00115000.\n",
            "Closed position for HWM   250314P00128000.\n",
            "Closed position for FI    250314C00230000.\n",
            "Closed position for BBY   250314C00085000.\n",
            "Closed position for HBAN  250321C00017000.\n",
            "Closed position for HIG   250321P00115000.\n",
            "Closed position for BA    250314C00180000.\n",
            "Closed position for BA    250314P00180000.\n",
            "Closed position for BR    250321P00240000.\n",
            "Closed position for BR    250321C00240000.\n",
            "Closed position for HON   250314P00205000.\n",
            "Closed position for HBAN  250321P00017000.\n",
            "Closed position for FI    250314P00230000.\n",
            "Closed position for BX    250314C00170000.\n",
            "Closed position for HON   250314C00205000.\n",
            "Closed position for BDX   250321C00230000.\n",
            "Closed position for EMR   250314P00124000.\n",
            "Closed position for ADM   250314C00046000.\n",
            "Closed position for BX    250314P00170000.\n",
            "Closed position for DD    250314P00076000.\n",
            "Closed position for DHI   250314C00129000.\n",
            "Closed position for DHI   250314P00129000.\n",
            "Closed position for DD    250314C00076000.\n",
            "Closed position for DG    250314C00072000.\n",
            "Closed position for DG    250314P00072000.\n",
            "Closed position for XOM   250314P00109000.\n",
            "Closed position for CPAY  250321P00380000.\n",
            "Closed position for CDW   250321C00190000.\n",
            "Closed position for CPAY  250321C00380000.\n",
            "Closed position for CVX   250314P00155000.\n",
            "Closed position for CPB   250314C00038000.\n",
            "Closed position for CMS   250321C00070000.\n",
            "Closed position for CAH   250314C00127000.\n",
            "Closed position for XOM   250314C00109000.\n",
            "Closed position for CVX   250314C00155000.\n",
            "Closed position for CF    250314C00084000.\n",
            "Closed position for FTNT  250314P00108000.\n",
            "Closed position for FAST  250321P00075000.\n",
            "Closed position for BAC   250314C00047000.\n",
            "Closed position for BAC   250314P00047000.\n",
            "Closed position for CDW   250321P00190000.\n",
            "Closed position for BG    250321P00070000.\n",
            "Closed position for CAH   250314P00127000.\n",
            "Closed position for CE    250321C00070000.\n",
            "Closed position for CE    250321P00070000.\n",
            "Closed position for CF    250314P00084000.\n",
            "Closed position for FAST  250321C00075000.\n",
            "Closed position for BAX   250314C00031000.\n",
            "Closed position for BLDR  250321C00155000.\n",
            "Closed position for ECL   250321C00250000.\n",
            "Closed position for BG    250321C00070000.\n",
            "Closed position for BDX   250321P00230000.\n",
            "Closed position for BAX   250314P00031000.\n",
            "Closed position for BXP   250321C00075000.\n",
            "Closed position for BXP   250321P00075000.\n",
            "Closed position for HII   250321P00170000.\n",
            "Closed position for ABNB  250314C00135000.\n",
            "Closed position for ABNB  250314P00135000.\n",
            "Closed position for CPB   250314P00038000.\n",
            "Closed position for F     250314P00009000.\n",
            "Closed position for AVY   250321P00180000.\n",
            "Closed position for AVY   250321C00180000.\n",
            "Closed position for FTNT  250314C00108000.\n",
            "Closed position for FOXA  250314C00053000.\n",
            "Closed position for BLDR  250321P00155000.\n",
            "Closed position for ECL   250321P00250000.\n",
            "Closed position for HII   250321C00170000.\n",
            "Closed position for DOW   250314P00039000.\n",
            "Closed position for F     250314C00009000.\n",
            "Closed position for HRL   250314C00029000.\n",
            "Closed position for BK    250314P00086000.\n",
            "Closed position for CMS   250321P00070000.\n",
            "Closed position for FRT   250321P00110000.\n",
            "Closed position for CTVA  250321P00060000.\n",
            "Closed position for CNC   250314P00059000.\n",
            "Closed position for DOW   250314C00039000.\n",
            "Closed position for BK    250314C00086000.\n",
            "Closed position for FOX   250321C00050000.\n",
            "Closed position for HRL   250314P00029000.\n"
          ]
        }
      ]
    },
    {
      "cell_type": "markdown",
      "metadata": {
        "id": "QWjoNGRkJ3r7"
      },
      "source": [
        "## **MANAGE PNL**"
      ]
    },
    {
      "cell_type": "markdown",
      "source": [
        "### **FUNCTIONS**"
      ],
      "metadata": {
        "id": "lJeALjZtOEzM"
      }
    },
    {
      "cell_type": "markdown",
      "source": [
        "#### **REAL TIME PNL (ACCOUNT LEVEL)**"
      ],
      "metadata": {
        "id": "uL5Z0lei8xUz"
      }
    },
    {
      "cell_type": "code",
      "execution_count": null,
      "metadata": {
        "id": "x17ngrkzJ7kb"
      },
      "outputs": [],
      "source": [
        "def get_account_pnl(ib):\n",
        "    \"\"\"\n",
        "    Fetch the realized and unrealized PnL from Interactive Brokers.\n",
        "\n",
        "    Args:\n",
        "        ib (IB instance): The IBKR connection object.\n",
        "\n",
        "    Returns:\n",
        "        float: realized_pnl\n",
        "    \"\"\"\n",
        "    # Fetch account summary (returns a list)\n",
        "    account_summary = ib.accountSummary()\n",
        "\n",
        "    # Convert list to DataFrame\n",
        "    df = pd.DataFrame([(x.tag, x.value) for x in account_summary], columns=['tag', 'value'])\n",
        "\n",
        "    # Convert values to float, handling possible missing values\n",
        "    realized_pnl = float(df.loc[df['tag'] == 'NetLiquidation', 'value'].values[0]) if 'NetLiquidation' in df['tag'].values else None\n",
        "\n",
        "    return realized_pnl"
      ]
    },
    {
      "cell_type": "markdown",
      "source": [
        "#### **REAL TIME PNL (TICKER LEVEL)**"
      ],
      "metadata": {
        "id": "AjzH4UbC9Auv"
      }
    },
    {
      "cell_type": "code",
      "source": [
        "def get_portfolio_pnl(ib):\n",
        "    \"\"\"\n",
        "    Fetch PnL for each individual position in the portfolio, including open & close dates.\n",
        "    \"\"\"\n",
        "    portfolio = ib.portfolio()  # Get portfolio positions\n",
        "    trades = ib.trades()  # Fetch all trades\n",
        "    pnl_data = []\n",
        "\n",
        "    for position in portfolio:\n",
        "        contract = position.contract\n",
        "        pnl = position.unrealizedPNL + position.realizedPNL\n",
        "\n",
        "        # Use correct attribute name and handle missing values safely\n",
        "        avg_price = getattr(position, 'averageCost', None)\n",
        "\n",
        "        # Get executions for this contract\n",
        "        trade_exec_times = [trade.log[0].time for trade in trades if trade.contract == contract]\n",
        "\n",
        "        # Open Date = First execution time (when the trade was first opened)\n",
        "        open_date = min(trade_exec_times) if trade_exec_times else None\n",
        "\n",
        "        pnl_data.append({\n",
        "            'Ticker': contract.localSymbol,\n",
        "            'Quantity': position.position,\n",
        "            'Avg Price': avg_price,\n",
        "            'PnL': pnl,\n",
        "            'Open Date': open_date\n",
        "        })\n",
        "\n",
        "    df_pnl = pd.DataFrame(pnl_data)\n",
        "\n",
        "    return df_pnl"
      ],
      "metadata": {
        "id": "4hMjgt5R4VVR"
      },
      "execution_count": null,
      "outputs": []
    },
    {
      "cell_type": "markdown",
      "source": [
        "### **EXECUTION**"
      ],
      "metadata": {
        "id": "tsk2NMTLOIzI"
      }
    },
    {
      "cell_type": "code",
      "source": [
        "# Account pnl\n",
        "realized_pnl = get_account_pnl(ib)\n",
        "realized_pnl"
      ],
      "metadata": {
        "colab": {
          "base_uri": "https://localhost:8080/"
        },
        "id": "11WFNXnL4JMV",
        "outputId": "fb4133b4-09c6-4e20-e62b-b417d2ed04cd"
      },
      "execution_count": null,
      "outputs": [
        {
          "output_type": "execute_result",
          "data": {
            "text/plain": [
              "979290.09"
            ]
          },
          "metadata": {},
          "execution_count": 54
        }
      ]
    },
    {
      "cell_type": "code",
      "source": [
        "# Positions pnl\n",
        "df_pnl = get_portfolio_pnl(ib)\n",
        "df_pnl"
      ],
      "metadata": {
        "colab": {
          "base_uri": "https://localhost:8080/",
          "height": 424
        },
        "collapsed": true,
        "id": "tKXboid67oDl",
        "outputId": "992e0b0d-4a28-48ae-e9b7-92e1301aba5c"
      },
      "execution_count": null,
      "outputs": [
        {
          "output_type": "execute_result",
          "data": {
            "text/plain": [
              "                    Ticker  Quantity    Avg Price      PnL  \\\n",
              "0    A     250321C00150000      -3.0   626.511200  1039.53   \n",
              "1    A     250321P00150000      -3.0   523.180733 -1201.88   \n",
              "2    AAPL  250307C00240000      -1.0   714.402100   537.95   \n",
              "3    AAPL  250307P00240000      -1.0   604.405100  -573.78   \n",
              "4    ABBV  250307C00175000       1.0  1580.575300    76.46   \n",
              "..                     ...       ...          ...      ...   \n",
              "321  AVY   250321P00180000      -1.0   438.079728   -83.31   \n",
              "322  FTNT  250314C00108000      -1.0   450.129422   -64.34   \n",
              "323  BLDR  250321P00155000      -1.0   839.838608    -6.62   \n",
              "324  FOXA  250314C00053000       1.0   185.135250   -72.51   \n",
              "325  ECL   250321P00250000      -1.0   809.839442   -99.13   \n",
              "\n",
              "                           Open Date  \n",
              "0                                NaT  \n",
              "1                                NaT  \n",
              "2                                NaT  \n",
              "3                                NaT  \n",
              "4                                NaT  \n",
              "..                               ...  \n",
              "321 2025-02-10 14:36:29.653351+00:00  \n",
              "322 2025-02-10 14:36:33.465747+00:00  \n",
              "323 2025-02-10 14:36:12.549263+00:00  \n",
              "324 2025-02-10 14:35:25.907764+00:00  \n",
              "325 2025-02-10 14:36:28.226167+00:00  \n",
              "\n",
              "[326 rows x 5 columns]"
            ],
            "text/html": [
              "\n",
              "  <div id=\"df-0b4e03f2-a52f-4ee8-9007-17d34d3ddaf7\" class=\"colab-df-container\">\n",
              "    <div>\n",
              "<style scoped>\n",
              "    .dataframe tbody tr th:only-of-type {\n",
              "        vertical-align: middle;\n",
              "    }\n",
              "\n",
              "    .dataframe tbody tr th {\n",
              "        vertical-align: top;\n",
              "    }\n",
              "\n",
              "    .dataframe thead th {\n",
              "        text-align: right;\n",
              "    }\n",
              "</style>\n",
              "<table border=\"1\" class=\"dataframe\">\n",
              "  <thead>\n",
              "    <tr style=\"text-align: right;\">\n",
              "      <th></th>\n",
              "      <th>Ticker</th>\n",
              "      <th>Quantity</th>\n",
              "      <th>Avg Price</th>\n",
              "      <th>PnL</th>\n",
              "      <th>Open Date</th>\n",
              "    </tr>\n",
              "  </thead>\n",
              "  <tbody>\n",
              "    <tr>\n",
              "      <th>0</th>\n",
              "      <td>A     250321C00150000</td>\n",
              "      <td>-3.0</td>\n",
              "      <td>626.511200</td>\n",
              "      <td>1039.53</td>\n",
              "      <td>NaT</td>\n",
              "    </tr>\n",
              "    <tr>\n",
              "      <th>1</th>\n",
              "      <td>A     250321P00150000</td>\n",
              "      <td>-3.0</td>\n",
              "      <td>523.180733</td>\n",
              "      <td>-1201.88</td>\n",
              "      <td>NaT</td>\n",
              "    </tr>\n",
              "    <tr>\n",
              "      <th>2</th>\n",
              "      <td>AAPL  250307C00240000</td>\n",
              "      <td>-1.0</td>\n",
              "      <td>714.402100</td>\n",
              "      <td>537.95</td>\n",
              "      <td>NaT</td>\n",
              "    </tr>\n",
              "    <tr>\n",
              "      <th>3</th>\n",
              "      <td>AAPL  250307P00240000</td>\n",
              "      <td>-1.0</td>\n",
              "      <td>604.405100</td>\n",
              "      <td>-573.78</td>\n",
              "      <td>NaT</td>\n",
              "    </tr>\n",
              "    <tr>\n",
              "      <th>4</th>\n",
              "      <td>ABBV  250307C00175000</td>\n",
              "      <td>1.0</td>\n",
              "      <td>1580.575300</td>\n",
              "      <td>76.46</td>\n",
              "      <td>NaT</td>\n",
              "    </tr>\n",
              "    <tr>\n",
              "      <th>...</th>\n",
              "      <td>...</td>\n",
              "      <td>...</td>\n",
              "      <td>...</td>\n",
              "      <td>...</td>\n",
              "      <td>...</td>\n",
              "    </tr>\n",
              "    <tr>\n",
              "      <th>321</th>\n",
              "      <td>AVY   250321P00180000</td>\n",
              "      <td>-1.0</td>\n",
              "      <td>438.079728</td>\n",
              "      <td>-83.31</td>\n",
              "      <td>2025-02-10 14:36:29.653351+00:00</td>\n",
              "    </tr>\n",
              "    <tr>\n",
              "      <th>322</th>\n",
              "      <td>FTNT  250314C00108000</td>\n",
              "      <td>-1.0</td>\n",
              "      <td>450.129422</td>\n",
              "      <td>-64.34</td>\n",
              "      <td>2025-02-10 14:36:33.465747+00:00</td>\n",
              "    </tr>\n",
              "    <tr>\n",
              "      <th>323</th>\n",
              "      <td>BLDR  250321P00155000</td>\n",
              "      <td>-1.0</td>\n",
              "      <td>839.838608</td>\n",
              "      <td>-6.62</td>\n",
              "      <td>2025-02-10 14:36:12.549263+00:00</td>\n",
              "    </tr>\n",
              "    <tr>\n",
              "      <th>324</th>\n",
              "      <td>FOXA  250314C00053000</td>\n",
              "      <td>1.0</td>\n",
              "      <td>185.135250</td>\n",
              "      <td>-72.51</td>\n",
              "      <td>2025-02-10 14:35:25.907764+00:00</td>\n",
              "    </tr>\n",
              "    <tr>\n",
              "      <th>325</th>\n",
              "      <td>ECL   250321P00250000</td>\n",
              "      <td>-1.0</td>\n",
              "      <td>809.839442</td>\n",
              "      <td>-99.13</td>\n",
              "      <td>2025-02-10 14:36:28.226167+00:00</td>\n",
              "    </tr>\n",
              "  </tbody>\n",
              "</table>\n",
              "<p>326 rows × 5 columns</p>\n",
              "</div>\n",
              "    <div class=\"colab-df-buttons\">\n",
              "\n",
              "  <div class=\"colab-df-container\">\n",
              "    <button class=\"colab-df-convert\" onclick=\"convertToInteractive('df-0b4e03f2-a52f-4ee8-9007-17d34d3ddaf7')\"\n",
              "            title=\"Convert this dataframe to an interactive table.\"\n",
              "            style=\"display:none;\">\n",
              "\n",
              "  <svg xmlns=\"http://www.w3.org/2000/svg\" height=\"24px\" viewBox=\"0 -960 960 960\">\n",
              "    <path d=\"M120-120v-720h720v720H120Zm60-500h600v-160H180v160Zm220 220h160v-160H400v160Zm0 220h160v-160H400v160ZM180-400h160v-160H180v160Zm440 0h160v-160H620v160ZM180-180h160v-160H180v160Zm440 0h160v-160H620v160Z\"/>\n",
              "  </svg>\n",
              "    </button>\n",
              "\n",
              "  <style>\n",
              "    .colab-df-container {\n",
              "      display:flex;\n",
              "      gap: 12px;\n",
              "    }\n",
              "\n",
              "    .colab-df-convert {\n",
              "      background-color: #E8F0FE;\n",
              "      border: none;\n",
              "      border-radius: 50%;\n",
              "      cursor: pointer;\n",
              "      display: none;\n",
              "      fill: #1967D2;\n",
              "      height: 32px;\n",
              "      padding: 0 0 0 0;\n",
              "      width: 32px;\n",
              "    }\n",
              "\n",
              "    .colab-df-convert:hover {\n",
              "      background-color: #E2EBFA;\n",
              "      box-shadow: 0px 1px 2px rgba(60, 64, 67, 0.3), 0px 1px 3px 1px rgba(60, 64, 67, 0.15);\n",
              "      fill: #174EA6;\n",
              "    }\n",
              "\n",
              "    .colab-df-buttons div {\n",
              "      margin-bottom: 4px;\n",
              "    }\n",
              "\n",
              "    [theme=dark] .colab-df-convert {\n",
              "      background-color: #3B4455;\n",
              "      fill: #D2E3FC;\n",
              "    }\n",
              "\n",
              "    [theme=dark] .colab-df-convert:hover {\n",
              "      background-color: #434B5C;\n",
              "      box-shadow: 0px 1px 3px 1px rgba(0, 0, 0, 0.15);\n",
              "      filter: drop-shadow(0px 1px 2px rgba(0, 0, 0, 0.3));\n",
              "      fill: #FFFFFF;\n",
              "    }\n",
              "  </style>\n",
              "\n",
              "    <script>\n",
              "      const buttonEl =\n",
              "        document.querySelector('#df-0b4e03f2-a52f-4ee8-9007-17d34d3ddaf7 button.colab-df-convert');\n",
              "      buttonEl.style.display =\n",
              "        google.colab.kernel.accessAllowed ? 'block' : 'none';\n",
              "\n",
              "      async function convertToInteractive(key) {\n",
              "        const element = document.querySelector('#df-0b4e03f2-a52f-4ee8-9007-17d34d3ddaf7');\n",
              "        const dataTable =\n",
              "          await google.colab.kernel.invokeFunction('convertToInteractive',\n",
              "                                                    [key], {});\n",
              "        if (!dataTable) return;\n",
              "\n",
              "        const docLinkHtml = 'Like what you see? Visit the ' +\n",
              "          '<a target=\"_blank\" href=https://colab.research.google.com/notebooks/data_table.ipynb>data table notebook</a>'\n",
              "          + ' to learn more about interactive tables.';\n",
              "        element.innerHTML = '';\n",
              "        dataTable['output_type'] = 'display_data';\n",
              "        await google.colab.output.renderOutput(dataTable, element);\n",
              "        const docLink = document.createElement('div');\n",
              "        docLink.innerHTML = docLinkHtml;\n",
              "        element.appendChild(docLink);\n",
              "      }\n",
              "    </script>\n",
              "  </div>\n",
              "\n",
              "\n",
              "<div id=\"df-6ec1b3fb-0bdd-4f57-8bb1-f88c1983e665\">\n",
              "  <button class=\"colab-df-quickchart\" onclick=\"quickchart('df-6ec1b3fb-0bdd-4f57-8bb1-f88c1983e665')\"\n",
              "            title=\"Suggest charts\"\n",
              "            style=\"display:none;\">\n",
              "\n",
              "<svg xmlns=\"http://www.w3.org/2000/svg\" height=\"24px\"viewBox=\"0 0 24 24\"\n",
              "     width=\"24px\">\n",
              "    <g>\n",
              "        <path d=\"M19 3H5c-1.1 0-2 .9-2 2v14c0 1.1.9 2 2 2h14c1.1 0 2-.9 2-2V5c0-1.1-.9-2-2-2zM9 17H7v-7h2v7zm4 0h-2V7h2v10zm4 0h-2v-4h2v4z\"/>\n",
              "    </g>\n",
              "</svg>\n",
              "  </button>\n",
              "\n",
              "<style>\n",
              "  .colab-df-quickchart {\n",
              "      --bg-color: #E8F0FE;\n",
              "      --fill-color: #1967D2;\n",
              "      --hover-bg-color: #E2EBFA;\n",
              "      --hover-fill-color: #174EA6;\n",
              "      --disabled-fill-color: #AAA;\n",
              "      --disabled-bg-color: #DDD;\n",
              "  }\n",
              "\n",
              "  [theme=dark] .colab-df-quickchart {\n",
              "      --bg-color: #3B4455;\n",
              "      --fill-color: #D2E3FC;\n",
              "      --hover-bg-color: #434B5C;\n",
              "      --hover-fill-color: #FFFFFF;\n",
              "      --disabled-bg-color: #3B4455;\n",
              "      --disabled-fill-color: #666;\n",
              "  }\n",
              "\n",
              "  .colab-df-quickchart {\n",
              "    background-color: var(--bg-color);\n",
              "    border: none;\n",
              "    border-radius: 50%;\n",
              "    cursor: pointer;\n",
              "    display: none;\n",
              "    fill: var(--fill-color);\n",
              "    height: 32px;\n",
              "    padding: 0;\n",
              "    width: 32px;\n",
              "  }\n",
              "\n",
              "  .colab-df-quickchart:hover {\n",
              "    background-color: var(--hover-bg-color);\n",
              "    box-shadow: 0 1px 2px rgba(60, 64, 67, 0.3), 0 1px 3px 1px rgba(60, 64, 67, 0.15);\n",
              "    fill: var(--button-hover-fill-color);\n",
              "  }\n",
              "\n",
              "  .colab-df-quickchart-complete:disabled,\n",
              "  .colab-df-quickchart-complete:disabled:hover {\n",
              "    background-color: var(--disabled-bg-color);\n",
              "    fill: var(--disabled-fill-color);\n",
              "    box-shadow: none;\n",
              "  }\n",
              "\n",
              "  .colab-df-spinner {\n",
              "    border: 2px solid var(--fill-color);\n",
              "    border-color: transparent;\n",
              "    border-bottom-color: var(--fill-color);\n",
              "    animation:\n",
              "      spin 1s steps(1) infinite;\n",
              "  }\n",
              "\n",
              "  @keyframes spin {\n",
              "    0% {\n",
              "      border-color: transparent;\n",
              "      border-bottom-color: var(--fill-color);\n",
              "      border-left-color: var(--fill-color);\n",
              "    }\n",
              "    20% {\n",
              "      border-color: transparent;\n",
              "      border-left-color: var(--fill-color);\n",
              "      border-top-color: var(--fill-color);\n",
              "    }\n",
              "    30% {\n",
              "      border-color: transparent;\n",
              "      border-left-color: var(--fill-color);\n",
              "      border-top-color: var(--fill-color);\n",
              "      border-right-color: var(--fill-color);\n",
              "    }\n",
              "    40% {\n",
              "      border-color: transparent;\n",
              "      border-right-color: var(--fill-color);\n",
              "      border-top-color: var(--fill-color);\n",
              "    }\n",
              "    60% {\n",
              "      border-color: transparent;\n",
              "      border-right-color: var(--fill-color);\n",
              "    }\n",
              "    80% {\n",
              "      border-color: transparent;\n",
              "      border-right-color: var(--fill-color);\n",
              "      border-bottom-color: var(--fill-color);\n",
              "    }\n",
              "    90% {\n",
              "      border-color: transparent;\n",
              "      border-bottom-color: var(--fill-color);\n",
              "    }\n",
              "  }\n",
              "</style>\n",
              "\n",
              "  <script>\n",
              "    async function quickchart(key) {\n",
              "      const quickchartButtonEl =\n",
              "        document.querySelector('#' + key + ' button');\n",
              "      quickchartButtonEl.disabled = true;  // To prevent multiple clicks.\n",
              "      quickchartButtonEl.classList.add('colab-df-spinner');\n",
              "      try {\n",
              "        const charts = await google.colab.kernel.invokeFunction(\n",
              "            'suggestCharts', [key], {});\n",
              "      } catch (error) {\n",
              "        console.error('Error during call to suggestCharts:', error);\n",
              "      }\n",
              "      quickchartButtonEl.classList.remove('colab-df-spinner');\n",
              "      quickchartButtonEl.classList.add('colab-df-quickchart-complete');\n",
              "    }\n",
              "    (() => {\n",
              "      let quickchartButtonEl =\n",
              "        document.querySelector('#df-6ec1b3fb-0bdd-4f57-8bb1-f88c1983e665 button');\n",
              "      quickchartButtonEl.style.display =\n",
              "        google.colab.kernel.accessAllowed ? 'block' : 'none';\n",
              "    })();\n",
              "  </script>\n",
              "</div>\n",
              "\n",
              "  <div id=\"id_36d94c0c-ea5b-4b8e-b4f5-3b3e9085db51\">\n",
              "    <style>\n",
              "      .colab-df-generate {\n",
              "        background-color: #E8F0FE;\n",
              "        border: none;\n",
              "        border-radius: 50%;\n",
              "        cursor: pointer;\n",
              "        display: none;\n",
              "        fill: #1967D2;\n",
              "        height: 32px;\n",
              "        padding: 0 0 0 0;\n",
              "        width: 32px;\n",
              "      }\n",
              "\n",
              "      .colab-df-generate:hover {\n",
              "        background-color: #E2EBFA;\n",
              "        box-shadow: 0px 1px 2px rgba(60, 64, 67, 0.3), 0px 1px 3px 1px rgba(60, 64, 67, 0.15);\n",
              "        fill: #174EA6;\n",
              "      }\n",
              "\n",
              "      [theme=dark] .colab-df-generate {\n",
              "        background-color: #3B4455;\n",
              "        fill: #D2E3FC;\n",
              "      }\n",
              "\n",
              "      [theme=dark] .colab-df-generate:hover {\n",
              "        background-color: #434B5C;\n",
              "        box-shadow: 0px 1px 3px 1px rgba(0, 0, 0, 0.15);\n",
              "        filter: drop-shadow(0px 1px 2px rgba(0, 0, 0, 0.3));\n",
              "        fill: #FFFFFF;\n",
              "      }\n",
              "    </style>\n",
              "    <button class=\"colab-df-generate\" onclick=\"generateWithVariable('df_pnl')\"\n",
              "            title=\"Generate code using this dataframe.\"\n",
              "            style=\"display:none;\">\n",
              "\n",
              "  <svg xmlns=\"http://www.w3.org/2000/svg\" height=\"24px\"viewBox=\"0 0 24 24\"\n",
              "       width=\"24px\">\n",
              "    <path d=\"M7,19H8.4L18.45,9,17,7.55,7,17.6ZM5,21V16.75L18.45,3.32a2,2,0,0,1,2.83,0l1.4,1.43a1.91,1.91,0,0,1,.58,1.4,1.91,1.91,0,0,1-.58,1.4L9.25,21ZM18.45,9,17,7.55Zm-12,3A5.31,5.31,0,0,0,4.9,8.1,5.31,5.31,0,0,0,1,6.5,5.31,5.31,0,0,0,4.9,4.9,5.31,5.31,0,0,0,6.5,1,5.31,5.31,0,0,0,8.1,4.9,5.31,5.31,0,0,0,12,6.5,5.46,5.46,0,0,0,6.5,12Z\"/>\n",
              "  </svg>\n",
              "    </button>\n",
              "    <script>\n",
              "      (() => {\n",
              "      const buttonEl =\n",
              "        document.querySelector('#id_36d94c0c-ea5b-4b8e-b4f5-3b3e9085db51 button.colab-df-generate');\n",
              "      buttonEl.style.display =\n",
              "        google.colab.kernel.accessAllowed ? 'block' : 'none';\n",
              "\n",
              "      buttonEl.onclick = () => {\n",
              "        google.colab.notebook.generateWithVariable('df_pnl');\n",
              "      }\n",
              "      })();\n",
              "    </script>\n",
              "  </div>\n",
              "\n",
              "    </div>\n",
              "  </div>\n"
            ],
            "application/vnd.google.colaboratory.intrinsic+json": {
              "type": "dataframe",
              "variable_name": "df_pnl",
              "summary": "{\n  \"name\": \"df_pnl\",\n  \"rows\": 326,\n  \"fields\": [\n    {\n      \"column\": \"Ticker\",\n      \"properties\": {\n        \"dtype\": \"string\",\n        \"num_unique_values\": 326,\n        \"samples\": [\n          \"AFL   250314P00104000\",\n          \"CAH   250307C00126000\",\n          \"APD   250321C00310000\"\n        ],\n        \"semantic_type\": \"\",\n        \"description\": \"\"\n      }\n    },\n    {\n      \"column\": \"Quantity\",\n      \"properties\": {\n        \"dtype\": \"number\",\n        \"std\": 1.112984839284699,\n        \"min\": -3.0,\n        \"max\": 2.0,\n        \"num_unique_values\": 5,\n        \"samples\": [\n          -1.0,\n          2.0,\n          1.0\n        ],\n        \"semantic_type\": \"\",\n        \"description\": \"\"\n      }\n    },\n    {\n      \"column\": \"Avg Price\",\n      \"properties\": {\n        \"dtype\": \"number\",\n        \"std\": 485.38492625706994,\n        \"min\": 11.9016,\n        \"max\": 4110.1353,\n        \"num_unique_values\": 296,\n        \"samples\": [\n          299.85362,\n          187.57525,\n          191.0553\n        ],\n        \"semantic_type\": \"\",\n        \"description\": \"\"\n      }\n    },\n    {\n      \"column\": \"PnL\",\n      \"properties\": {\n        \"dtype\": \"number\",\n        \"std\": 462.3588756550658,\n        \"min\": -3852.26,\n        \"max\": 4901.76,\n        \"num_unique_values\": 318,\n        \"samples\": [\n          32.69,\n          -76.17,\n          -457.46\n        ],\n        \"semantic_type\": \"\",\n        \"description\": \"\"\n      }\n    },\n    {\n      \"column\": \"Open Date\",\n      \"properties\": {\n        \"dtype\": \"date\",\n        \"min\": \"2025-02-10 14:35:19.299669+00:00\",\n        \"max\": \"2025-02-10 14:36:34.893191+00:00\",\n        \"num_unique_values\": 180,\n        \"samples\": [\n          \"2025-02-10 14:35:33.157221+00:00\",\n          \"2025-02-10 14:35:25.315692+00:00\",\n          \"2025-02-10 14:36:20.124955+00:00\"\n        ],\n        \"semantic_type\": \"\",\n        \"description\": \"\"\n      }\n    }\n  ]\n}"
            }
          },
          "metadata": {},
          "execution_count": 42
        }
      ]
    }
  ],
  "metadata": {
    "colab": {
      "collapsed_sections": [
        "CcxNZoOT2vT8",
        "q26QowPb0lJq",
        "VRmbrM3ZQ7R4",
        "UlLcjQnEPfHp",
        "mxClRWoizKOx",
        "ZKaHGCUwzNkE",
        "ZFpUga3dzS9X",
        "9uWH2pqBVBnV",
        "GtGebbiTNuTG",
        "A40ryOEQNzKD",
        "0Vr_MRefN48_",
        "uL5Z0lei8xUz"
      ],
      "provenance": []
    },
    "kernelspec": {
      "display_name": "Python 3",
      "name": "python3"
    },
    "language_info": {
      "name": "python"
    }
  },
  "nbformat": 4,
  "nbformat_minor": 0
}