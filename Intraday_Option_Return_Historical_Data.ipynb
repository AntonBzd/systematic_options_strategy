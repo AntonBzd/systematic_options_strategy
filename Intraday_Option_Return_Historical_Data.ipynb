{
  "cells": [
    {
      "cell_type": "markdown",
      "metadata": {
        "id": "o8L_89sb9lx4"
      },
      "source": [
        "# **HISTORICAL DATA**"
      ]
    },
    {
      "cell_type": "markdown",
      "metadata": {
        "id": "rs-JmJeystwo"
      },
      "source": [
        "## **LIBRARIES**"
      ]
    },
    {
      "cell_type": "code",
      "execution_count": null,
      "metadata": {
        "id": "TNLGUh0a4LcZ"
      },
      "outputs": [],
      "source": [
        "!pip install requests\n",
        "!pip install nest_asyncio\n",
        "!pip install ib_insync"
      ]
    },
    {
      "cell_type": "code",
      "execution_count": 2,
      "metadata": {
        "id": "ZiDXKun4sxXp"
      },
      "outputs": [],
      "source": [
        "import requests\n",
        "import pandas as pd\n",
        "from datetime import datetime, timedelta\n",
        "import time\n",
        "import yfinance as yf\n",
        "import nest_asyncio\n",
        "from ib_insync import *\n",
        "import numpy as np\n",
        "import matplotlib.pyplot as plt\n",
        "import statsmodels.api as sm"
      ]
    },
    {
      "cell_type": "markdown",
      "metadata": {
        "id": "5RrxAhlOsxmV"
      },
      "source": [
        "## **API CONNEXION**"
      ]
    },
    {
      "cell_type": "code",
      "execution_count": null,
      "metadata": {
        "id": "TDBWJJ5us1JI"
      },
      "outputs": [],
      "source": [
        "# Interactive Broker API\n",
        "\n",
        "# Connect to IB Gateway via ngrok's forwarding address\n",
        "# ngrok config add-authtoken 2rw2xcnDr9K436GIMIPrJDYXrZk_4DYJZX5ic7odKvK27xU3s\n",
        "# ngrok tcp 4002 (Watch the right address on IB Gateway)\n",
        "# Replace '4.tcp.eu.ngrok.io' and '16234' with your ngrok forwarding details\n",
        "\n",
        "# Apply patch for Colab's event loop issue\n",
        "nest_asyncio.apply()\n",
        "\n",
        "# Create an IB instance\n",
        "ib = IB()\n",
        "\n",
        "try:\n",
        "    ib.connect('5.tcp.eu.ngrok.io', 12708, clientId=1)\n",
        "    print(\"Connected to IB Gateway!\")\n",
        "except Exception as e:\n",
        "    print(f\"Failed to connect: {e}\")"
      ]
    },
    {
      "cell_type": "markdown",
      "metadata": {
        "id": "5eWKXoYmxNPL"
      },
      "source": [
        "## **INTRADAY STOCKS PRICES**"
      ]
    },
    {
      "cell_type": "markdown",
      "metadata": {
        "id": "xBw57xTHsrEt"
      },
      "source": [
        "### **FUNCTIONS**"
      ]
    },
    {
      "cell_type": "markdown",
      "metadata": {
        "id": "fo3sxwMssLQn"
      },
      "source": [
        "#### **SP500 TICKERS**"
      ]
    },
    {
      "cell_type": "code",
      "execution_count": 10,
      "metadata": {
        "id": "Ddc36r0hsTDe"
      },
      "outputs": [],
      "source": [
        "def get_sp500_tickers():\n",
        "    \"\"\"\n",
        "    Fetch the list of S&P 500 tickers from Wikipedia.\n",
        "\n",
        "    Returns:\n",
        "        pd.DataFrame: DataFrame containing tickers and company names.\n",
        "    \"\"\"\n",
        "    url = \"https://en.wikipedia.org/wiki/List_of_S%26P_500_companies\"\n",
        "    sp500_table = pd.read_html(url)[0]\n",
        "\n",
        "    return sp500_table[[\"Symbol\", \"Security\"]]"
      ]
    },
    {
      "cell_type": "markdown",
      "metadata": {
        "id": "Q-EoBJhBtSS-"
      },
      "source": [
        "#### **INTRADAY STOCK PRICES**"
      ]
    },
    {
      "cell_type": "code",
      "execution_count": 11,
      "metadata": {
        "id": "e7rjYr4T6Btd"
      },
      "outputs": [],
      "source": [
        "def fetch_intraday_prices_ib(ib, symbol, start_date, end_date):\n",
        "    \"\"\"\n",
        "    Fetch 1-minute intraday prices from Interactive Brokers for a given stock over multiple days.\n",
        "\n",
        "    Args:\n",
        "        ib (IB): Connected IB instance.\n",
        "        symbol (str): Stock ticker symbol (e.g., \"AAPL\").\n",
        "        start_date (str): Start date in 'YYYY-MM-DD' format.\n",
        "        end_date (str): End date in 'YYYY-MM-DD' format.\n",
        "\n",
        "    Returns:\n",
        "        pd.DataFrame: DataFrame with timestamp, price, and ticker.\n",
        "    \"\"\"\n",
        "    # Define stock contract\n",
        "    contract = Stock(symbol, 'SMART', 'USD')\n",
        "\n",
        "    # Convert dates to datetime\n",
        "    start_dt = datetime.strptime(start_date, \"%Y-%m-%d\")\n",
        "    end_dt = datetime.strptime(end_date, \"%Y-%m-%d\")\n",
        "\n",
        "    # Initialize an empty DataFrame to store data\n",
        "    all_data = pd.DataFrame()\n",
        "\n",
        "    # Loop through each day in the date range (IB fetches past data)\n",
        "    current_dt = end_dt\n",
        "    while current_dt >= start_dt:\n",
        "        # Ensure correct IB endDateTime format (YYYYMMDD-HH:MM:SS for UTC)\n",
        "        endDateTime = current_dt.strftime(\"%Y%m%d-10:05:59\")\n",
        "\n",
        "        # Request historical intraday data (1-minute bars)\n",
        "        bars = ib.reqHistoricalData(\n",
        "            contract,\n",
        "            endDateTime=endDateTime,\n",
        "            durationStr='1 D',\n",
        "            barSizeSetting='1 min',\n",
        "            whatToShow='MIDPOINT',\n",
        "            useRTH=True,  # Use regular trading hours only\n",
        "            formatDate=1\n",
        "        )\n",
        "\n",
        "        # Convert bars to DataFrame\n",
        "        df = util.df(bars) if bars else None\n",
        "\n",
        "        if df is not None and not df.empty:\n",
        "            df['timestamp'] = pd.to_datetime(df['date'])  # Convert to datetime\n",
        "            df['ticker'] = symbol  # Add ticker column\n",
        "            all_data = pd.concat([df, all_data])  # Append data\n",
        "        else:\n",
        "            print(f\"No data for {symbol} on {current_dt.strftime('%Y-%m-%d')}\")\n",
        "\n",
        "        # Move to the previous day\n",
        "        current_dt -= timedelta(days=1)\n",
        "\n",
        "    return all_data.reset_index(drop=True)"
      ]
    },
    {
      "cell_type": "markdown",
      "metadata": {
        "id": "LRZDKxW1tvbb"
      },
      "source": [
        "### **EXECUTION**"
      ]
    },
    {
      "cell_type": "code",
      "execution_count": 12,
      "metadata": {
        "id": "XQhWbz1nuSt-"
      },
      "outputs": [],
      "source": [
        "# Get S&P 500 tickers\n",
        "sp500_tickers = get_sp500_tickers()\n",
        "tickers = sp500_tickers[\"Symbol\"].tolist()"
      ]
    },
    {
      "cell_type": "code",
      "execution_count": 13,
      "metadata": {
        "id": "qInO26FxuZI5"
      },
      "outputs": [],
      "source": [
        "# Define dates\n",
        "start_date = (datetime.now() - timedelta(days=2*31)).strftime('%Y-%m-%d')\n",
        "end_date = datetime.now() .strftime('%Y-%m-%d')"
      ]
    },
    {
      "cell_type": "code",
      "execution_count": null,
      "metadata": {
        "collapsed": true,
        "id": "ywulbNMI-Y67"
      },
      "outputs": [],
      "source": [
        "# Fetch stocks prices\n",
        "df_stock_price = pd.DataFrame()\n",
        "\n",
        "for ticker in tickers: # [:200]adjust for the number of ticker you want cause really time consuming\n",
        "\n",
        "  # Fetch prices\n",
        "  df = fetch_intraday_prices_ib(ib, ticker, start_date, end_date)\n",
        "\n",
        "  if 'close' in df.columns :\n",
        "    # Full missing data\n",
        "    df = df.ffill().bfill()\n",
        "\n",
        "    # Select close price and timestamp columns\n",
        "    df = df.loc[:, [\"close\", \"timestamp\"]]\n",
        "    df['timestamp'] = pd.to_datetime(df['timestamp'])\n",
        "\n",
        "    # Filter datetimes\n",
        "    required_times = [datetime.strptime(\"09:35\", \"%H:%M\").time(),\n",
        "                      datetime.strptime(\"10:00\", \"%H:%M\").time(),\n",
        "                      datetime.strptime(\"10:30\", \"%H:%M\").time(),\n",
        "                      datetime.strptime(\"11:00\", \"%H:%M\").time(),\n",
        "                      datetime.strptime(\"11:30\", \"%H:%M\").time(),\n",
        "                      datetime.strptime(\"12:00\", \"%H:%M\").time(),\n",
        "                      datetime.strptime(\"12:30\", \"%H:%M\").time(),\n",
        "                      datetime.strptime(\"13:00\", \"%H:%M\").time(),\n",
        "                      datetime.strptime(\"13:30\", \"%H:%M\").time(),\n",
        "                      datetime.strptime(\"14:00\", \"%H:%M\").time(),\n",
        "                      datetime.strptime(\"14:30\", \"%H:%M\").time(),\n",
        "                      datetime.strptime(\"15:00\", \"%H:%M\").time(),\n",
        "                      datetime.strptime(\"15:30\", \"%H:%M\").time(),\n",
        "                      datetime.strptime(\"16:00\", \"%H:%M\").time()\n",
        "                      ]\n",
        "    df = df[df['timestamp'].dt.time.isin(required_times)]\n",
        "\n",
        "    # Rearrange dataframe\n",
        "    df.set_index('timestamp', inplace=True)\n",
        "    df.loc[:, ticker] = df.pop('close')\n",
        "\n",
        "    # Add ticker's intraday prices in the dataframe\n",
        "    df_stock_price = pd.concat([df, df_stock_price], axis=1)\n",
        "    print(f\"Fetched data for {ticker}\")\n",
        "\n",
        "  else :\n",
        "    print(f\"No data for {ticker}\")"
      ]
    },
    {
      "cell_type": "markdown",
      "metadata": {
        "id": "ysob9rylTzto"
      },
      "source": [
        "## **INTRADAY OPTIONS PRICES**"
      ]
    },
    {
      "cell_type": "markdown",
      "metadata": {
        "id": "MubugZlTibGx"
      },
      "source": [
        "### **FUNCTIONS**"
      ]
    },
    {
      "cell_type": "markdown",
      "metadata": {
        "id": "UlLcjQnEPfHp"
      },
      "source": [
        "#### **OPTION CHAINS**"
      ]
    },
    {
      "cell_type": "code",
      "execution_count": 15,
      "metadata": {
        "id": "XmL0gZLIyFBx"
      },
      "outputs": [],
      "source": [
        "def fetch_option_chain(ib, symbol, stock_price, current_date):\n",
        "    \"\"\"\n",
        "    Fetch the option chain for a given ticker symbol using IB API.\n",
        "\n",
        "    Args:\n",
        "        ib (IB instance): The IBKR connection object.\n",
        "        symbol (str): The stock ticker symbol (e.g., \"AAPL\").\n",
        "        stock_price (float): The current stock price.\n",
        "        current_date (str): The current date in 'YYYY-MM-DD' format.\n",
        "\n",
        "    Returns:\n",
        "        dict: Filtered option chain with valid expirations and closest strike {\"expirations\":[exp], \"closest_strike\":strike}.\n",
        "    \"\"\"\n",
        "\n",
        "    # Qualify the stock contract\n",
        "    try:\n",
        "        contracts = ib.qualifyContracts(Stock(symbol, 'SMART', 'USD'))\n",
        "        if not contracts:\n",
        "            print(f\"Error: No valid contract found for {symbol}\")\n",
        "            return None  # Return None to prevent IndexError\n",
        "        stock = contracts[0]  # Retrieve the first qualified contract\n",
        "    except Exception as e:\n",
        "        print(f\"Error qualifying contract for {symbol}: {e}\")\n",
        "        return None\n",
        "\n",
        "    # Request the option chain\n",
        "    try:\n",
        "        option_chain = ib.reqSecDefOptParams(symbol, '', 'STK', stock.conId)\n",
        "        if not option_chain:\n",
        "            print(f\"Error: No option chain data available for {symbol}\")\n",
        "            return None\n",
        "\n",
        "        # Extract relevant data\n",
        "        expirations = sorted(option_chain[0].expirations)\n",
        "        strikes = sorted(option_chain[0].strikes)\n",
        "\n",
        "        # Ensure current_date is a datetime object\n",
        "        current_date = datetime.strptime(current_date, '%Y-%m-%d')\n",
        "\n",
        "        # Filter expirations between 30 and 180 days\n",
        "        filtered_expirations = [\n",
        "            exp for exp in expirations\n",
        "            if 30 <= (datetime.strptime(exp, '%Y%m%d') - current_date).days <= 180\n",
        "        ]\n",
        "\n",
        "        # Avoid fractional strikes to find contracts with IB\n",
        "        valid_strikes = [s for s in strikes if s % 1 == 0]\n",
        "\n",
        "        # Find the closest ATM strike\n",
        "        closest_strike = min(valid_strikes, key=lambda x: abs(x - stock_price)) if valid_strikes else None\n",
        "\n",
        "        return {'expirations': filtered_expirations, 'closest_strike': closest_strike}\n",
        "\n",
        "    except Exception as e:\n",
        "        print(f\"Error fetching option chain for {symbol}: {e}\")\n",
        "        return None\n"
      ]
    },
    {
      "cell_type": "markdown",
      "metadata": {
        "id": "mxClRWoizKOx"
      },
      "source": [
        "#### **OPTION PRICES**"
      ]
    },
    {
      "cell_type": "code",
      "execution_count": 16,
      "metadata": {
        "id": "5-loImMaOAoH"
      },
      "outputs": [],
      "source": [
        "def fetch_intraday_straddle_prices(ib, ticker, expiration, strike, date):\n",
        "    \"\"\"\n",
        "    Fetch intraday option prices from IBKR at 9:35 AM and 10:00 AM US Eastern Time.\n",
        "\n",
        "    Args:\n",
        "        ib (IB instance): The IBKR connection object.\n",
        "        ticker (str): Underlying stock ticker (e.g., 'MMM').\n",
        "        expiration (str): Expiration date in 'YYYYMMDD' format (e.g., '20250228').\n",
        "        strike (float): Strike price (e.g., 150.0).\n",
        "        date (datetime): Date for which to fetch the price.\n",
        "\n",
        "    Returns:\n",
        "        int: straddle price for the contract\n",
        "    \"\"\"\n",
        "\n",
        "    # Format Strike Price Properly\n",
        "    formatted_strike = \"{:.8f}\".format(strike).rstrip(\"0\").rstrip(\".\")\n",
        "\n",
        "    # Create IB Contracts for Call and Put\n",
        "    call_contract = Option(ticker, expiration, formatted_strike, 'C', 'SMART')\n",
        "    put_contract = Option(ticker, expiration, formatted_strike, 'P', 'SMART')\n",
        "\n",
        "    # Request Historical Data\n",
        "    call_bars = ib.reqHistoricalData(call_contract, date, '1 D', '1 min', 'MIDPOINT', useRTH=True)\n",
        "    put_bars = ib.reqHistoricalData(put_contract, date, '1 D', '1 min', 'MIDPOINT', useRTH=True)\n",
        "\n",
        "    # Convert Data to DataFrame\n",
        "    call_df = pd.DataFrame(call_bars) if call_bars else pd.DataFrame()\n",
        "    put_df = pd.DataFrame(put_bars) if put_bars else pd.DataFrame()\n",
        "\n",
        "    # Check if Data Exists\n",
        "    if call_df.empty or put_df.empty:\n",
        "        print(f\"Error: No data retrieved for {ticker}, expiration {expiration}, strike {formatted_strike}\")\n",
        "        return None\n",
        "\n",
        "    # Find Closest Available Prices call_df['date'].iloc[0].replace(hour=9, minute=35)).abs().argsort()[:1]\n",
        "    call_price = call_df.iloc[(call_df['date'] - date).abs().argsort()[:1]]['close'].values[0] if not call_df.empty else None\n",
        "    put_price = put_df.iloc[(put_df['date'] - date).abs().argsort()[:1]]['close'].values[0] if not put_df.empty else None\n",
        "\n",
        "\n",
        "    return call_price + put_price\n"
      ]
    },
    {
      "cell_type": "markdown",
      "metadata": {
        "id": "ESRbHZ_4lPuN"
      },
      "source": [
        "### **EXECUTE**"
      ]
    },
    {
      "cell_type": "code",
      "execution_count": null,
      "metadata": {
        "collapsed": true,
        "id": "0P335jDtlgkZ"
      },
      "outputs": [],
      "source": [
        "# Fetch options chains\n",
        "# As it is not possible to fetch historical option chains\n",
        "# fetch only options prices of last week with expiration date in 60 days from today\n",
        "\n",
        "# Copy DataFrame\n",
        "df_straddle_price = df_stock_price.copy()\n",
        "\n",
        "# Get current date\n",
        "current_date = datetime.today().strftime('%Y-%m-%d')\n",
        "\n",
        "for ticker in df_stock_price.columns :\n",
        "  for date in df_stock_price.index:\n",
        "\n",
        "    # Ensure stock_price is a scalar value\n",
        "    stock_price = df_stock_price.loc[date, ticker]\n",
        "\n",
        "    if isinstance(stock_price, pd.Series):\n",
        "        stock_price = stock_price.iloc[0] # Extract scalar if it's a Series\n",
        "\n",
        "    # Fetch option chain\n",
        "    dict_exp_strike = fetch_option_chain(ib, ticker, stock_price, current_date)\n",
        "\n",
        "    # Ensure dict_exp_strike contains valid expirations\n",
        "    if dict_exp_strike and 'expirations' in dict_exp_strike and len(dict_exp_strike['expirations']) > 2:\n",
        "        exp = dict_exp_strike['expirations'][2]  # 60-day expiration if available\n",
        "    else:\n",
        "        exp = None\n",
        "\n",
        "    # Get closest strike\n",
        "    strike = dict_exp_strike['closest_strike']\n",
        "\n",
        "    # Fetch straddle price\n",
        "    straddle_price = fetch_intraday_straddle_prices(ib, ticker, exp, strike, date)\n",
        "\n",
        "    # Store the price\n",
        "    df_straddle_price.loc[date, ticker] = straddle_price"
      ]
    },
    {
      "cell_type": "code",
      "execution_count": null,
      "metadata": {
        "collapsed": true,
        "id": "0WMyG4pdTf6C"
      },
      "outputs": [],
      "source": [
        "# Process Nan\n",
        "df_straddle_price.isna().sum()\n",
        "df_straddle_price_cleaned = df_straddle_price.dropna(axis=1, thresh=0.4*len(df_straddle_price))\n",
        "df_straddle_price_cleaned = df_straddle_price_cleaned.interpolate(method=\"linear\", limit_direction=\"both\")"
      ]
    },
    {
      "cell_type": "code",
      "execution_count": null,
      "metadata": {
        "id": "SaSmuExAn8YS"
      },
      "outputs": [],
      "source": [
        "# Calculate straddle return\n",
        "df_straddle_price = df_straddle_price_cleaned\n",
        "df_straddle_return = np.log(df_straddle_price / df_straddle_price.shift(1))"
      ]
    },
    {
      "cell_type": "markdown",
      "metadata": {
        "id": "zwLmHY7_2fYD"
      },
      "source": [
        "## **CROSS SECTIONAL REGRESSION**"
      ]
    },
    {
      "cell_type": "code",
      "execution_count": null,
      "metadata": {
        "id": "BCkjKNktPjAV"
      },
      "outputs": [],
      "source": [
        "# Ensure df is a DataFrame\n",
        "df = df_straddle_return.copy()\n",
        "df.index = pd.to_datetime(df.index)\n",
        "\n",
        "# Define max lag for autocorrelation analysis\n",
        "max_lag = 26\n",
        "\n",
        "# Store regression results\n",
        "regression_results = []\n",
        "\n",
        "for k in range(1, max_lag + 1):  # Iterate over different lags\n",
        "    df_lagged = df.shift(k)  # Create lagged data\n",
        "\n",
        "    # Merge current and lagged data\n",
        "    combined_data = pd.concat([df, df_lagged.rename(columns=lambda x: f\"{x}_lag\")], axis=1).dropna()\n",
        "\n",
        "    if combined_data.empty:\n",
        "        continue  # Skip iteration if no valid data\n",
        "\n",
        "    # Perform regression for each column (cross-sectional)\n",
        "    for ticker in df.columns:\n",
        "        X = combined_data[f\"{ticker}_lag\"]\n",
        "        y = combined_data[ticker]\n",
        "        X = sm.add_constant(X)  # Add intercept\n",
        "\n",
        "        model = sm.OLS(y, X).fit()\n",
        "\n",
        "        # Store results (only gamma and t-stat)\n",
        "        regression_results.append({\n",
        "            'lag': k,\n",
        "            'gamma': model.params.get(f\"{ticker}_lag\", np.nan),  # Coefficient\n",
        "            'gamma_tstat': model.tvalues.get(f\"{ticker}_lag\", np.nan)  # T-statistic\n",
        "        })"
      ]
    },
    {
      "cell_type": "code",
      "execution_count": null,
      "metadata": {
        "collapsed": true,
        "id": "pCPZLFO-I_Lc"
      },
      "outputs": [],
      "source": [
        "# Convert results to DataFrame\n",
        "results_df = pd.DataFrame(regression_results)\n",
        "\n",
        "# Group results by lag and compute mean gamma and t-statistics\n",
        "grouped_results = results_df.groupby('lag').mean()"
      ]
    },
    {
      "cell_type": "code",
      "execution_count": null,
      "metadata": {
        "id": "Ye95BVcAZQuE"
      },
      "outputs": [],
      "source": [
        "# Plot gamma coefficients vs lag\n",
        "plt.figure(figsize=(10, 5))\n",
        "plt.plot(grouped_results.index, grouped_results['gamma'], marker='o', linestyle='-', label=\"Gamma Coefficient\")\n",
        "plt.axhline(0, color='black', linestyle='--', linewidth=1)  # Reference line at 0\n",
        "plt.xlabel(\"Lag (k)\")\n",
        "plt.ylabel(\"Gamma Coefficient\")\n",
        "plt.title(\"Gamma Coefficient vs Lag\")\n",
        "plt.legend()\n",
        "plt.grid(True)\n",
        "plt.show()"
      ]
    },
    {
      "cell_type": "code",
      "execution_count": null,
      "metadata": {
        "id": "1RwkXCzZZSjg"
      },
      "outputs": [],
      "source": [
        "# Plot t-statistics vs lag\n",
        "plt.figure(figsize=(10, 5))\n",
        "plt.plot(grouped_results.index, grouped_results['gamma_tstat'], marker='o', linestyle='-', color='red', label=\"Gamma T-Statistic\")\n",
        "plt.axhline(0, color='black', linestyle='--', linewidth=1)  # Reference line at 0\n",
        "plt.xlabel(\"Lag (k)\")\n",
        "plt.ylabel(\"Gamma T-Statistic\")\n",
        "plt.title(\"T-Statistic of Gamma vs Lag\")\n",
        "plt.legend()\n",
        "plt.grid(True)\n",
        "plt.show()\n"
      ]
    },
    {
      "cell_type": "markdown",
      "metadata": {
        "id": "9_FUKRhU5mp7"
      },
      "source": [
        "## **BACKTEST H-L PORTFOLIO**"
      ]
    },
    {
      "cell_type": "code",
      "execution_count": null,
      "metadata": {
        "id": "Do9uplrLqfeS"
      },
      "outputs": [],
      "source": [
        "# Ensure timestamp index is timezone-naive for consistency\n",
        "df_log_returns = df_straddle_return.copy()  # Avoid modifying the original data\n",
        "df_log_returns.index = pd.to_datetime(df_log_returns.index).tz_localize(None)\n",
        "\n",
        "# Define the 13 30-minute timestamps per day\n",
        "required_times = [\n",
        "    \"10:00\", \"10:30\", \"11:00\", \"11:30\", \"12:00\", \"12:30\",\n",
        "    \"13:00\", \"13:30\", \"14:00\", \"14:30\", \"15:00\", \"15:30\", \"16:00\"\n",
        "]\n",
        "\n",
        "# Dictionary to store strategy results for each 30-min period\n",
        "dict_return_per_period = {}\n",
        "\n",
        "for time in required_times:\n",
        "    # Filter data for the specific time period each day\n",
        "    df_filtered = df_log_returns[df_log_returns.index.strftime('%H:%M') == time]\n",
        "\n",
        "    # Shift returns to get yesterday's returns at the same time period\n",
        "    df_yesterday_returns = df_filtered.shift(1)\n",
        "\n",
        "    # Dictionary to store daily strategy results for this period\n",
        "    dict_return_per_day = {}\n",
        "\n",
        "    for date in df_filtered.index[1:]:  # Start from second row to match shift(1)\n",
        "        # Get yesterday's returns for ranking\n",
        "        return_yst = df_yesterday_returns.loc[date].dropna()\n",
        "\n",
        "        # Rank tickers into 5 quantiles\n",
        "        quantiles = return_yst.rank(method=\"first\", pct=True)  # Ranks from 0 to 1\n",
        "        q1_tickers = quantiles[quantiles <= 0.2].index.tolist()  # Bottom 20% (short)\n",
        "        q5_tickers = quantiles[quantiles >= 0.8].index.tolist()  # Top 20% (long)\n",
        "\n",
        "        # Get today's returns for these tickers\n",
        "        today_returns = df_filtered.loc[date]\n",
        "\n",
        "        # Ensure tickers exist in `today_returns`\n",
        "        q1_tickers = list(set(q1_tickers).intersection(today_returns.index))\n",
        "        q5_tickers = list(set(q5_tickers).intersection(today_returns.index))\n",
        "\n",
        "        # Store strategy returns\n",
        "        dict_return_per_day[date] = {\n",
        "            \"Q1_tickers\": q1_tickers,  # Short\n",
        "            \"Q5_tickers\": q5_tickers,  # Long\n",
        "            \"Q1_returns\": today_returns.loc[q1_tickers].sum() if q1_tickers else 0,\n",
        "            \"Q5_returns\": today_returns.loc[q5_tickers].sum() if q5_tickers else 0,\n",
        "            \"H-L Return\": (\n",
        "                today_returns.loc[q5_tickers].sum() - today_returns.loc[q1_tickers].sum()\n",
        "                if q1_tickers and q5_tickers\n",
        "                else 0\n",
        "            )\n",
        "        }\n",
        "\n",
        "    # Convert to DataFrame\n",
        "    df_returns = pd.DataFrame.from_dict(dict_return_per_day, orient=\"index\")\n",
        "\n",
        "    # Store in dictionary\n",
        "    dict_return_per_period[time] = df_returns\n"
      ]
    },
    {
      "cell_type": "code",
      "execution_count": null,
      "metadata": {
        "id": "cdeMqGu9brId"
      },
      "outputs": [],
      "source": [
        "plt.figure(figsize=(12, 6))\n",
        "\n",
        "for time, df_returns in dict_return_per_period.items():\n",
        "    if not df_returns.empty and \"H-L Return\" in df_returns.columns:\n",
        "        # Ensure \"H-L Return\" is numeric\n",
        "        df_returns[\"H-L Return\"] = pd.to_numeric(df_returns[\"H-L Return\"], errors=\"coerce\")\n",
        "\n",
        "        # Convert log-returns to cumulative return correctly using np.exp\n",
        "        df_returns[\"Cumulative Return\"] = (df_returns[\"H-L Return\"].cumsum()).apply(np.exp) - 1\n",
        "\n",
        "        # Explicitly update dictionary to avoid modifying the original reference\n",
        "        dict_return_per_period[time] = df_returns\n",
        "\n",
        "        # Plot the cumulative return\n",
        "        plt.plot(df_returns.index, df_returns[\"Cumulative Return\"], label=f\"{time}\")\n",
        "\n",
        "plt.legend(title=\"30-Min Portfolios\", bbox_to_anchor=(1.05, 1), loc=\"upper left\")\n",
        "plt.title(\"Cumulative Returns of 30-Min Strategy Across Different Portfolios\")\n",
        "plt.xlabel(\"Date\")\n",
        "plt.ylabel(\"Cumulative Return\")\n",
        "plt.grid()\n",
        "plt.show()\n"
      ]
    },
    {
      "cell_type": "code",
      "execution_count": null,
      "metadata": {
        "id": "-kgmeHOJZ0mJ"
      },
      "outputs": [],
      "source": [
        "plt.figure(figsize=(12, 6))\n",
        "\n",
        "sharpe_ratios = {}  # Dictionary to store Sharpe ratios for each portfolio\n",
        "\n",
        "for time, df_returns in dict_return_per_period.items():\n",
        "    if not df_returns.empty and \"H-L Return\" in df_returns.columns:\n",
        "        # Ensure \"H-L Return\" is numeric\n",
        "        df_returns[\"H-L Return\"] = pd.to_numeric(df_returns[\"H-L Return\"], errors=\"coerce\")\n",
        "\n",
        "        # Compute Cumulative Return\n",
        "        df_returns[\"Cumulative Return\"] = (df_returns[\"H-L Return\"].cumsum()).apply(np.exp) - 1\n",
        "\n",
        "        # Explicitly update dictionary to avoid modifying the original reference\n",
        "        dict_return_per_period[time] = df_returns\n",
        "\n",
        "        # Compute Sharpe Ratio\n",
        "        mean_return = df_returns[\"H-L Return\"].mean()  # Mean return\n",
        "        std_return = df_returns[\"H-L Return\"].std()  # Standard deviation\n",
        "        sharpe_ratio = mean_return / std_return if std_return != 0 else np.nan  # Avoid division by zero\n",
        "        sharpe_ratios[time] = sharpe_ratio  # Store in dictionary\n",
        "\n",
        "        # Plot the cumulative return\n",
        "        plt.plot(df_returns.index, df_returns[\"Cumulative Return\"], label=f\"{time} (Sharpe: {sharpe_ratio:.2f})\")\n",
        "\n",
        "plt.legend(title=\"30-Min Portfolios\", bbox_to_anchor=(1.05, 1), loc=\"upper left\")\n",
        "plt.title(\"Cumulative Returns of 30-Min Strategy Across Different Portfolios\")\n",
        "plt.xlabel(\"Date\")\n",
        "plt.ylabel(\"Cumulative Return\")\n",
        "plt.grid()\n",
        "plt.show()\n",
        "\n",
        "# Display Sharpe Ratios\n",
        "print(\"\\n📊 **Sharpe Ratios for Each 30-Min Portfolio:**\\n\")\n",
        "for time, ratio in sharpe_ratios.items():\n",
        "    print(f\"{time}: Sharpe Ratio = {ratio:.2f}\")\n"
      ]
    }
  ],
  "metadata": {
    "colab": {
      "collapsed_sections": [
        "ZD1pK7JRAL-O",
        "rs-JmJeystwo",
        "5RrxAhlOsxmV",
        "xBw57xTHsrEt",
        "fo3sxwMssLQn",
        "OnvUM52lsWmc",
        "Q-EoBJhBtSS-",
        "MubugZlTibGx",
        "UlLcjQnEPfHp",
        "mxClRWoizKOx",
        "zwLmHY7_2fYD",
        "9_FUKRhU5mp7"
      ],
      "provenance": []
    },
    "kernelspec": {
      "display_name": "Python 3",
      "name": "python3"
    },
    "language_info": {
      "name": "python"
    }
  },
  "nbformat": 4,
  "nbformat_minor": 0
}